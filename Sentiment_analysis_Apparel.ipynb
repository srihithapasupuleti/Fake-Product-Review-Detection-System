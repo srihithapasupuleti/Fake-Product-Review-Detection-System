{
 "cells": [
  {
   "cell_type": "code",
   "execution_count": 64,
   "metadata": {},
   "outputs": [],
   "source": [
    "import pandas as pd"
   ]
  },
  {
   "cell_type": "code",
   "execution_count": 65,
   "metadata": {},
   "outputs": [],
   "source": [
    "amazon_reviews = pd.read_csv('./amazon_reviews.csv')"
   ]
  },
  {
   "cell_type": "code",
   "execution_count": 66,
   "metadata": {},
   "outputs": [
    {
     "data": {
      "text/html": [
       "<div>\n",
       "<style scoped>\n",
       "    .dataframe tbody tr th:only-of-type {\n",
       "        vertical-align: middle;\n",
       "    }\n",
       "\n",
       "    .dataframe tbody tr th {\n",
       "        vertical-align: top;\n",
       "    }\n",
       "\n",
       "    .dataframe thead th {\n",
       "        text-align: right;\n",
       "    }\n",
       "</style>\n",
       "<table border=\"1\" class=\"dataframe\">\n",
       "  <thead>\n",
       "    <tr style=\"text-align: right;\">\n",
       "      <th></th>\n",
       "      <th>DOC_ID</th>\n",
       "      <th>LABEL</th>\n",
       "      <th>RATING</th>\n",
       "      <th>VERIFIED_PURCHASE</th>\n",
       "      <th>PRODUCT_CATEGORY</th>\n",
       "      <th>PRODUCT_ID</th>\n",
       "      <th>PRODUCT_TITLE</th>\n",
       "      <th>REVIEW_TITLE</th>\n",
       "      <th>REVIEW_TEXT</th>\n",
       "    </tr>\n",
       "  </thead>\n",
       "  <tbody>\n",
       "    <tr>\n",
       "      <th>0</th>\n",
       "      <td>1</td>\n",
       "      <td>__label1__</td>\n",
       "      <td>4</td>\n",
       "      <td>N</td>\n",
       "      <td>PC</td>\n",
       "      <td>B00008NG7N</td>\n",
       "      <td>Targus PAUK10U Ultra Mini USB Keypad, Black</td>\n",
       "      <td>useful</td>\n",
       "      <td>When least you think so, this product will sav...</td>\n",
       "    </tr>\n",
       "    <tr>\n",
       "      <th>1</th>\n",
       "      <td>2</td>\n",
       "      <td>__label1__</td>\n",
       "      <td>4</td>\n",
       "      <td>Y</td>\n",
       "      <td>Wireless</td>\n",
       "      <td>B00LH0Y3NM</td>\n",
       "      <td>Note 3 Battery : Stalion Strength Replacement ...</td>\n",
       "      <td>New era for batteries</td>\n",
       "      <td>Lithium batteries are something new introduced...</td>\n",
       "    </tr>\n",
       "    <tr>\n",
       "      <th>2</th>\n",
       "      <td>3</td>\n",
       "      <td>__label1__</td>\n",
       "      <td>3</td>\n",
       "      <td>N</td>\n",
       "      <td>Baby</td>\n",
       "      <td>B000I5UZ1Q</td>\n",
       "      <td>Fisher-Price Papasan Cradle Swing, Starlight</td>\n",
       "      <td>doesn't swing very well.</td>\n",
       "      <td>I purchased this swing for my baby. She is 6 m...</td>\n",
       "    </tr>\n",
       "    <tr>\n",
       "      <th>3</th>\n",
       "      <td>4</td>\n",
       "      <td>__label1__</td>\n",
       "      <td>4</td>\n",
       "      <td>N</td>\n",
       "      <td>Office Products</td>\n",
       "      <td>B003822IRA</td>\n",
       "      <td>Casio MS-80B Standard Function Desktop Calculator</td>\n",
       "      <td>Great computing!</td>\n",
       "      <td>I was looking for an inexpensive desk calcolat...</td>\n",
       "    </tr>\n",
       "    <tr>\n",
       "      <th>4</th>\n",
       "      <td>5</td>\n",
       "      <td>__label1__</td>\n",
       "      <td>4</td>\n",
       "      <td>N</td>\n",
       "      <td>Beauty</td>\n",
       "      <td>B00PWSAXAM</td>\n",
       "      <td>Shine Whitening - Zero Peroxide Teeth Whitenin...</td>\n",
       "      <td>Only use twice a week</td>\n",
       "      <td>I only use it twice a week and the results are...</td>\n",
       "    </tr>\n",
       "  </tbody>\n",
       "</table>\n",
       "</div>"
      ],
      "text/plain": [
       "   DOC_ID       LABEL  RATING VERIFIED_PURCHASE PRODUCT_CATEGORY  PRODUCT_ID  \\\n",
       "0       1  __label1__       4                 N               PC  B00008NG7N   \n",
       "1       2  __label1__       4                 Y         Wireless  B00LH0Y3NM   \n",
       "2       3  __label1__       3                 N             Baby  B000I5UZ1Q   \n",
       "3       4  __label1__       4                 N  Office Products  B003822IRA   \n",
       "4       5  __label1__       4                 N           Beauty  B00PWSAXAM   \n",
       "\n",
       "                                       PRODUCT_TITLE  \\\n",
       "0        Targus PAUK10U Ultra Mini USB Keypad, Black   \n",
       "1  Note 3 Battery : Stalion Strength Replacement ...   \n",
       "2       Fisher-Price Papasan Cradle Swing, Starlight   \n",
       "3  Casio MS-80B Standard Function Desktop Calculator   \n",
       "4  Shine Whitening - Zero Peroxide Teeth Whitenin...   \n",
       "\n",
       "               REVIEW_TITLE                                        REVIEW_TEXT  \n",
       "0                    useful  When least you think so, this product will sav...  \n",
       "1     New era for batteries  Lithium batteries are something new introduced...  \n",
       "2  doesn't swing very well.  I purchased this swing for my baby. She is 6 m...  \n",
       "3          Great computing!  I was looking for an inexpensive desk calcolat...  \n",
       "4     Only use twice a week  I only use it twice a week and the results are...  "
      ]
     },
     "execution_count": 66,
     "metadata": {},
     "output_type": "execute_result"
    }
   ],
   "source": [
    "amazon_reviews.head()"
   ]
  },
  {
   "cell_type": "code",
   "execution_count": 68,
   "metadata": {},
   "outputs": [
    {
     "data": {
      "text/html": [
       "<div>\n",
       "<style scoped>\n",
       "    .dataframe tbody tr th:only-of-type {\n",
       "        vertical-align: middle;\n",
       "    }\n",
       "\n",
       "    .dataframe tbody tr th {\n",
       "        vertical-align: top;\n",
       "    }\n",
       "\n",
       "    .dataframe thead th {\n",
       "        text-align: right;\n",
       "    }\n",
       "</style>\n",
       "<table border=\"1\" class=\"dataframe\">\n",
       "  <thead>\n",
       "    <tr style=\"text-align: right;\">\n",
       "      <th></th>\n",
       "      <th>DOC_ID</th>\n",
       "      <th>LABEL</th>\n",
       "      <th>RATING</th>\n",
       "      <th>VERIFIED_PURCHASE</th>\n",
       "      <th>PRODUCT_CATEGORY</th>\n",
       "      <th>PRODUCT_ID</th>\n",
       "      <th>PRODUCT_TITLE</th>\n",
       "      <th>REVIEW_TITLE</th>\n",
       "      <th>REVIEW_TEXT</th>\n",
       "    </tr>\n",
       "  </thead>\n",
       "  <tbody>\n",
       "    <tr>\n",
       "      <th>114</th>\n",
       "      <td>115</td>\n",
       "      <td>__label1__</td>\n",
       "      <td>4</td>\n",
       "      <td>Y</td>\n",
       "      <td>Apparel</td>\n",
       "      <td>B00FMUYSUG</td>\n",
       "      <td>Hot Sexy Lingerie Babydoll Lace Dress Underwea...</td>\n",
       "      <td>good</td>\n",
       "      <td>Will def light up your bedroom!!It fits me fin...</td>\n",
       "    </tr>\n",
       "    <tr>\n",
       "      <th>141</th>\n",
       "      <td>142</td>\n",
       "      <td>__label1__</td>\n",
       "      <td>1</td>\n",
       "      <td>Y</td>\n",
       "      <td>Apparel</td>\n",
       "      <td>B00835QQ3Y</td>\n",
       "      <td>Solid Color Military Canvas Web Belt One Size ...</td>\n",
       "      <td>Watch what you order</td>\n",
       "      <td>Ordered a 50&amp;#34; belt and was sent a 40&amp;#34;....</td>\n",
       "    </tr>\n",
       "    <tr>\n",
       "      <th>157</th>\n",
       "      <td>158</td>\n",
       "      <td>__label1__</td>\n",
       "      <td>4</td>\n",
       "      <td>N</td>\n",
       "      <td>Apparel</td>\n",
       "      <td>B003RRWZTW</td>\n",
       "      <td>Columbia Women's Plus-Size Benton Springs Full...</td>\n",
       "      <td>fit is really nice</td>\n",
       "      <td>The fit is really nice, the material is great,...</td>\n",
       "    </tr>\n",
       "    <tr>\n",
       "      <th>273</th>\n",
       "      <td>274</td>\n",
       "      <td>__label1__</td>\n",
       "      <td>3</td>\n",
       "      <td>N</td>\n",
       "      <td>Apparel</td>\n",
       "      <td>B008L568ZW</td>\n",
       "      <td>TowelSelections Waffle Bathrobe - 100% Turkish...</td>\n",
       "      <td>not a good quality</td>\n",
       "      <td>The quality of this bathrobe does not nearly c...</td>\n",
       "    </tr>\n",
       "    <tr>\n",
       "      <th>295</th>\n",
       "      <td>296</td>\n",
       "      <td>__label1__</td>\n",
       "      <td>4</td>\n",
       "      <td>N</td>\n",
       "      <td>Apparel</td>\n",
       "      <td>B0073MLZ70</td>\n",
       "      <td>Alpine Swiss Mens Leather Flipout ID Wallet Bi...</td>\n",
       "      <td>High-Quality Materials</td>\n",
       "      <td>Once again, dealing with them was a pleasure. ...</td>\n",
       "    </tr>\n",
       "    <tr>\n",
       "      <th>...</th>\n",
       "      <td>...</td>\n",
       "      <td>...</td>\n",
       "      <td>...</td>\n",
       "      <td>...</td>\n",
       "      <td>...</td>\n",
       "      <td>...</td>\n",
       "      <td>...</td>\n",
       "      <td>...</td>\n",
       "      <td>...</td>\n",
       "    </tr>\n",
       "    <tr>\n",
       "      <th>20935</th>\n",
       "      <td>20936</td>\n",
       "      <td>__label2__</td>\n",
       "      <td>3</td>\n",
       "      <td>Y</td>\n",
       "      <td>Apparel</td>\n",
       "      <td>B00JGQLZCG</td>\n",
       "      <td>Lindy Bop 'Ophelia' Vintage 1950's Prom Swing ...</td>\n",
       "      <td>I'm really disappointed..</td>\n",
       "      <td>I'm really disappointed...  I got the dress fa...</td>\n",
       "    </tr>\n",
       "    <tr>\n",
       "      <th>20936</th>\n",
       "      <td>20937</td>\n",
       "      <td>__label2__</td>\n",
       "      <td>5</td>\n",
       "      <td>Y</td>\n",
       "      <td>Apparel</td>\n",
       "      <td>B002CM0Q4Y</td>\n",
       "      <td>Non Skid/Slip Socks - Hospital Socks - Slipper...</td>\n",
       "      <td>Hospital Socks</td>\n",
       "      <td>For some reason, my girlfriend wanted comfy so...</td>\n",
       "    </tr>\n",
       "    <tr>\n",
       "      <th>20937</th>\n",
       "      <td>20938</td>\n",
       "      <td>__label2__</td>\n",
       "      <td>5</td>\n",
       "      <td>Y</td>\n",
       "      <td>Apparel</td>\n",
       "      <td>B001QUPK4Y</td>\n",
       "      <td>CTM® Mens Leather 1 1/4 Inch Basic Dress Belt ...</td>\n",
       "      <td>excellent</td>\n",
       "      <td>excellent, lo voy a recomendar a toda mi famil...</td>\n",
       "    </tr>\n",
       "    <tr>\n",
       "      <th>20938</th>\n",
       "      <td>20939</td>\n",
       "      <td>__label2__</td>\n",
       "      <td>1</td>\n",
       "      <td>Y</td>\n",
       "      <td>Apparel</td>\n",
       "      <td>B00E8782XI</td>\n",
       "      <td>Lookbookstore Women Denim PU Leather Contrast ...</td>\n",
       "      <td>Bad color</td>\n",
       "      <td>To Green, not like picture at all ...&lt;br /&gt;Fab...</td>\n",
       "    </tr>\n",
       "    <tr>\n",
       "      <th>20940</th>\n",
       "      <td>20941</td>\n",
       "      <td>__label2__</td>\n",
       "      <td>3</td>\n",
       "      <td>Y</td>\n",
       "      <td>Apparel</td>\n",
       "      <td>B00S9UDFZU</td>\n",
       "      <td>Neck Deep Men's Generic Pop Punk T-shirt Mediu...</td>\n",
       "      <td>I am a small person (5'0) and I wanted it ...</td>\n",
       "      <td>I am a small person (5'0) and I wanted it to b...</td>\n",
       "    </tr>\n",
       "  </tbody>\n",
       "</table>\n",
       "<p>700 rows × 9 columns</p>\n",
       "</div>"
      ],
      "text/plain": [
       "       DOC_ID       LABEL  RATING VERIFIED_PURCHASE PRODUCT_CATEGORY  \\\n",
       "114       115  __label1__       4                 Y          Apparel   \n",
       "141       142  __label1__       1                 Y          Apparel   \n",
       "157       158  __label1__       4                 N          Apparel   \n",
       "273       274  __label1__       3                 N          Apparel   \n",
       "295       296  __label1__       4                 N          Apparel   \n",
       "...       ...         ...     ...               ...              ...   \n",
       "20935   20936  __label2__       3                 Y          Apparel   \n",
       "20936   20937  __label2__       5                 Y          Apparel   \n",
       "20937   20938  __label2__       5                 Y          Apparel   \n",
       "20938   20939  __label2__       1                 Y          Apparel   \n",
       "20940   20941  __label2__       3                 Y          Apparel   \n",
       "\n",
       "       PRODUCT_ID                                      PRODUCT_TITLE  \\\n",
       "114    B00FMUYSUG  Hot Sexy Lingerie Babydoll Lace Dress Underwea...   \n",
       "141    B00835QQ3Y  Solid Color Military Canvas Web Belt One Size ...   \n",
       "157    B003RRWZTW  Columbia Women's Plus-Size Benton Springs Full...   \n",
       "273    B008L568ZW  TowelSelections Waffle Bathrobe - 100% Turkish...   \n",
       "295    B0073MLZ70  Alpine Swiss Mens Leather Flipout ID Wallet Bi...   \n",
       "...           ...                                                ...   \n",
       "20935  B00JGQLZCG  Lindy Bop 'Ophelia' Vintage 1950's Prom Swing ...   \n",
       "20936  B002CM0Q4Y  Non Skid/Slip Socks - Hospital Socks - Slipper...   \n",
       "20937  B001QUPK4Y  CTM® Mens Leather 1 1/4 Inch Basic Dress Belt ...   \n",
       "20938  B00E8782XI  Lookbookstore Women Denim PU Leather Contrast ...   \n",
       "20940  B00S9UDFZU  Neck Deep Men's Generic Pop Punk T-shirt Mediu...   \n",
       "\n",
       "                                        REVIEW_TITLE  \\\n",
       "114                                             good   \n",
       "141                             Watch what you order   \n",
       "157                               fit is really nice   \n",
       "273                               not a good quality   \n",
       "295                           High-Quality Materials   \n",
       "...                                              ...   \n",
       "20935                      I'm really disappointed..   \n",
       "20936                                 Hospital Socks   \n",
       "20937                                      excellent   \n",
       "20938                                      Bad color   \n",
       "20940  I am a small person (5'0) and I wanted it ...   \n",
       "\n",
       "                                             REVIEW_TEXT  \n",
       "114    Will def light up your bedroom!!It fits me fin...  \n",
       "141    Ordered a 50&#34; belt and was sent a 40&#34;....  \n",
       "157    The fit is really nice, the material is great,...  \n",
       "273    The quality of this bathrobe does not nearly c...  \n",
       "295    Once again, dealing with them was a pleasure. ...  \n",
       "...                                                  ...  \n",
       "20935  I'm really disappointed...  I got the dress fa...  \n",
       "20936  For some reason, my girlfriend wanted comfy so...  \n",
       "20937  excellent, lo voy a recomendar a toda mi famil...  \n",
       "20938  To Green, not like picture at all ...<br />Fab...  \n",
       "20940  I am a small person (5'0) and I wanted it to b...  \n",
       "\n",
       "[700 rows x 9 columns]"
      ]
     },
     "execution_count": 68,
     "metadata": {},
     "output_type": "execute_result"
    }
   ],
   "source": [
    "amazon_reviews[amazon_reviews['PRODUCT_CATEGORY'] == 'Apparel']"
   ]
  },
  {
   "cell_type": "code",
   "execution_count": 69,
   "metadata": {},
   "outputs": [
    {
     "data": {
      "text/plain": [
       "(21000, 9)"
      ]
     },
     "execution_count": 69,
     "metadata": {},
     "output_type": "execute_result"
    }
   ],
   "source": [
    "amazon_reviews.shape"
   ]
  },
  {
   "cell_type": "code",
   "execution_count": 70,
   "metadata": {},
   "outputs": [
    {
     "data": {
      "text/plain": [
       "Index(['DOC_ID', 'LABEL', 'RATING', 'VERIFIED_PURCHASE', 'PRODUCT_CATEGORY',\n",
       "       'PRODUCT_ID', 'PRODUCT_TITLE', 'REVIEW_TITLE', 'REVIEW_TEXT'],\n",
       "      dtype='object')"
      ]
     },
     "execution_count": 70,
     "metadata": {},
     "output_type": "execute_result"
    }
   ],
   "source": [
    "amazon_reviews.columns"
   ]
  },
  {
   "cell_type": "code",
   "execution_count": 71,
   "metadata": {},
   "outputs": [],
   "source": [
    "relevant_columns = ['RATING', 'PRODUCT_CATEGORY',\n",
    "       'PRODUCT_TITLE', 'REVIEW_TITLE', 'REVIEW_TEXT']"
   ]
  },
  {
   "cell_type": "code",
   "execution_count": 72,
   "metadata": {},
   "outputs": [],
   "source": [
    "amazon_reviews = amazon_reviews[relevant_columns]"
   ]
  },
  {
   "cell_type": "code",
   "execution_count": 73,
   "metadata": {},
   "outputs": [
    {
     "data": {
      "text/html": [
       "<div>\n",
       "<style scoped>\n",
       "    .dataframe tbody tr th:only-of-type {\n",
       "        vertical-align: middle;\n",
       "    }\n",
       "\n",
       "    .dataframe tbody tr th {\n",
       "        vertical-align: top;\n",
       "    }\n",
       "\n",
       "    .dataframe thead th {\n",
       "        text-align: right;\n",
       "    }\n",
       "</style>\n",
       "<table border=\"1\" class=\"dataframe\">\n",
       "  <thead>\n",
       "    <tr style=\"text-align: right;\">\n",
       "      <th></th>\n",
       "      <th>RATING</th>\n",
       "      <th>PRODUCT_CATEGORY</th>\n",
       "      <th>PRODUCT_TITLE</th>\n",
       "      <th>REVIEW_TITLE</th>\n",
       "      <th>REVIEW_TEXT</th>\n",
       "    </tr>\n",
       "  </thead>\n",
       "  <tbody>\n",
       "    <tr>\n",
       "      <th>0</th>\n",
       "      <td>4</td>\n",
       "      <td>PC</td>\n",
       "      <td>Targus PAUK10U Ultra Mini USB Keypad, Black</td>\n",
       "      <td>useful</td>\n",
       "      <td>When least you think so, this product will sav...</td>\n",
       "    </tr>\n",
       "    <tr>\n",
       "      <th>1</th>\n",
       "      <td>4</td>\n",
       "      <td>Wireless</td>\n",
       "      <td>Note 3 Battery : Stalion Strength Replacement ...</td>\n",
       "      <td>New era for batteries</td>\n",
       "      <td>Lithium batteries are something new introduced...</td>\n",
       "    </tr>\n",
       "    <tr>\n",
       "      <th>2</th>\n",
       "      <td>3</td>\n",
       "      <td>Baby</td>\n",
       "      <td>Fisher-Price Papasan Cradle Swing, Starlight</td>\n",
       "      <td>doesn't swing very well.</td>\n",
       "      <td>I purchased this swing for my baby. She is 6 m...</td>\n",
       "    </tr>\n",
       "    <tr>\n",
       "      <th>3</th>\n",
       "      <td>4</td>\n",
       "      <td>Office Products</td>\n",
       "      <td>Casio MS-80B Standard Function Desktop Calculator</td>\n",
       "      <td>Great computing!</td>\n",
       "      <td>I was looking for an inexpensive desk calcolat...</td>\n",
       "    </tr>\n",
       "    <tr>\n",
       "      <th>4</th>\n",
       "      <td>4</td>\n",
       "      <td>Beauty</td>\n",
       "      <td>Shine Whitening - Zero Peroxide Teeth Whitenin...</td>\n",
       "      <td>Only use twice a week</td>\n",
       "      <td>I only use it twice a week and the results are...</td>\n",
       "    </tr>\n",
       "  </tbody>\n",
       "</table>\n",
       "</div>"
      ],
      "text/plain": [
       "   RATING PRODUCT_CATEGORY                                      PRODUCT_TITLE  \\\n",
       "0       4               PC        Targus PAUK10U Ultra Mini USB Keypad, Black   \n",
       "1       4         Wireless  Note 3 Battery : Stalion Strength Replacement ...   \n",
       "2       3             Baby       Fisher-Price Papasan Cradle Swing, Starlight   \n",
       "3       4  Office Products  Casio MS-80B Standard Function Desktop Calculator   \n",
       "4       4           Beauty  Shine Whitening - Zero Peroxide Teeth Whitenin...   \n",
       "\n",
       "               REVIEW_TITLE                                        REVIEW_TEXT  \n",
       "0                    useful  When least you think so, this product will sav...  \n",
       "1     New era for batteries  Lithium batteries are something new introduced...  \n",
       "2  doesn't swing very well.  I purchased this swing for my baby. She is 6 m...  \n",
       "3          Great computing!  I was looking for an inexpensive desk calcolat...  \n",
       "4     Only use twice a week  I only use it twice a week and the results are...  "
      ]
     },
     "execution_count": 73,
     "metadata": {},
     "output_type": "execute_result"
    }
   ],
   "source": [
    "amazon_reviews.head()"
   ]
  },
  {
   "cell_type": "code",
   "execution_count": 74,
   "metadata": {},
   "outputs": [
    {
     "data": {
      "text/plain": [
       "RATING              21000\n",
       "PRODUCT_CATEGORY    21000\n",
       "PRODUCT_TITLE       21000\n",
       "REVIEW_TITLE        21000\n",
       "REVIEW_TEXT         21000\n",
       "dtype: int64"
      ]
     },
     "execution_count": 74,
     "metadata": {},
     "output_type": "execute_result"
    }
   ],
   "source": [
    "amazon_reviews.count()"
   ]
  },
  {
   "cell_type": "code",
   "execution_count": 75,
   "metadata": {},
   "outputs": [],
   "source": [
    "flipkart_reviews = pd.read_csv('./Flipkart_reviews.csv')"
   ]
  },
  {
   "cell_type": "code",
   "execution_count": 76,
   "metadata": {},
   "outputs": [
    {
     "data": {
      "text/html": [
       "<div>\n",
       "<style scoped>\n",
       "    .dataframe tbody tr th:only-of-type {\n",
       "        vertical-align: middle;\n",
       "    }\n",
       "\n",
       "    .dataframe tbody tr th {\n",
       "        vertical-align: top;\n",
       "    }\n",
       "\n",
       "    .dataframe thead th {\n",
       "        text-align: right;\n",
       "    }\n",
       "</style>\n",
       "<table border=\"1\" class=\"dataframe\">\n",
       "  <thead>\n",
       "    <tr style=\"text-align: right;\">\n",
       "      <th></th>\n",
       "      <th>REVIEW_TEXT</th>\n",
       "      <th>RATING</th>\n",
       "      <th>PRODUCT_TITLE</th>\n",
       "      <th>PRODUCT_CATEGORY</th>\n",
       "      <th>REVIEW_TITLE</th>\n",
       "    </tr>\n",
       "  </thead>\n",
       "  <tbody>\n",
       "    <tr>\n",
       "      <th>0</th>\n",
       "      <td>Not nice</td>\n",
       "      <td>1</td>\n",
       "      <td>Solid Men Mandarin Collar White, Blue T-Shirt</td>\n",
       "      <td>Apparel</td>\n",
       "      <td>NaN</td>\n",
       "    </tr>\n",
       "    <tr>\n",
       "      <th>1</th>\n",
       "      <td>Good quality product</td>\n",
       "      <td>5</td>\n",
       "      <td>Solid Men Mandarin Collar White, Blue T-Shirt</td>\n",
       "      <td>Apparel</td>\n",
       "      <td>NaN</td>\n",
       "    </tr>\n",
       "    <tr>\n",
       "      <th>2</th>\n",
       "      <td>Nice</td>\n",
       "      <td>5</td>\n",
       "      <td>Solid Men Mandarin Collar White, Blue T-Shirt</td>\n",
       "      <td>Apparel</td>\n",
       "      <td>NaN</td>\n",
       "    </tr>\n",
       "    <tr>\n",
       "      <th>3</th>\n",
       "      <td>Very bed</td>\n",
       "      <td>1</td>\n",
       "      <td>Solid Men Mandarin Collar White, Blue T-Shirt</td>\n",
       "      <td>Apparel</td>\n",
       "      <td>NaN</td>\n",
       "    </tr>\n",
       "    <tr>\n",
       "      <th>4</th>\n",
       "      <td>Good</td>\n",
       "      <td>3</td>\n",
       "      <td>Solid Men Mandarin Collar White, Blue T-Shirt</td>\n",
       "      <td>Apparel</td>\n",
       "      <td>NaN</td>\n",
       "    </tr>\n",
       "  </tbody>\n",
       "</table>\n",
       "</div>"
      ],
      "text/plain": [
       "            REVIEW_TEXT  RATING  \\\n",
       "0              Not nice       1   \n",
       "1  Good quality product       5   \n",
       "2                  Nice       5   \n",
       "3              Very bed       1   \n",
       "4                  Good       3   \n",
       "\n",
       "                                   PRODUCT_TITLE PRODUCT_CATEGORY REVIEW_TITLE  \n",
       "0  Solid Men Mandarin Collar White, Blue T-Shirt          Apparel          NaN  \n",
       "1  Solid Men Mandarin Collar White, Blue T-Shirt          Apparel          NaN  \n",
       "2  Solid Men Mandarin Collar White, Blue T-Shirt          Apparel          NaN  \n",
       "3  Solid Men Mandarin Collar White, Blue T-Shirt          Apparel          NaN  \n",
       "4  Solid Men Mandarin Collar White, Blue T-Shirt          Apparel          NaN  "
      ]
     },
     "execution_count": 76,
     "metadata": {},
     "output_type": "execute_result"
    }
   ],
   "source": [
    "flipkart_reviews.head()"
   ]
  },
  {
   "cell_type": "markdown",
   "metadata": {},
   "source": [
    "# Checking data cleanliness"
   ]
  },
  {
   "cell_type": "code",
   "execution_count": 77,
   "metadata": {},
   "outputs": [
    {
     "data": {
      "text/plain": [
       "21000"
      ]
     },
     "execution_count": 77,
     "metadata": {},
     "output_type": "execute_result"
    }
   ],
   "source": [
    "len(amazon_reviews)"
   ]
  },
  {
   "cell_type": "code",
   "execution_count": 78,
   "metadata": {},
   "outputs": [
    {
     "data": {
      "text/plain": [
       "21000"
      ]
     },
     "execution_count": 78,
     "metadata": {},
     "output_type": "execute_result"
    }
   ],
   "source": [
    "len(amazon_reviews.dropna())"
   ]
  },
  {
   "cell_type": "code",
   "execution_count": 79,
   "metadata": {},
   "outputs": [
    {
     "data": {
      "text/plain": [
       "5891"
      ]
     },
     "execution_count": 79,
     "metadata": {},
     "output_type": "execute_result"
    }
   ],
   "source": [
    "len(flipkart_reviews)"
   ]
  },
  {
   "cell_type": "code",
   "execution_count": 80,
   "metadata": {},
   "outputs": [
    {
     "data": {
      "text/plain": [
       "3453"
      ]
     },
     "execution_count": 80,
     "metadata": {},
     "output_type": "execute_result"
    }
   ],
   "source": [
    "len(flipkart_reviews.dropna())"
   ]
  },
  {
   "cell_type": "code",
   "execution_count": 81,
   "metadata": {},
   "outputs": [],
   "source": [
    "# Checking all REVIEW_TEXT are of type 'str'"
   ]
  },
  {
   "cell_type": "code",
   "execution_count": 82,
   "metadata": {},
   "outputs": [],
   "source": [
    "for i in range(0,len(amazon_reviews)-1):\n",
    "    if type(amazon_reviews.iloc[i]['REVIEW_TEXT']) != str:\n",
    "        print(amazon_reviews.iloc[i]['REVIEW_TEXT'])\n",
    "        #amazon_reviews.iloc[i]['REVIEW_TEXT'] = str(amazon_reviews.iloc[i]['REVIEW_TEXT'])"
   ]
  },
  {
   "cell_type": "code",
   "execution_count": 83,
   "metadata": {},
   "outputs": [],
   "source": [
    "flipkart_reviews = flipkart_reviews.fillna(\"NA\")"
   ]
  },
  {
   "cell_type": "code",
   "execution_count": 84,
   "metadata": {},
   "outputs": [],
   "source": [
    "for i in range(0,len(flipkart_reviews)-1):\n",
    "    if type(flipkart_reviews.iloc[i]['REVIEW_TEXT']) != str:\n",
    "        print(flipkart_reviews.iloc[i]['REVIEW_TEXT'])\n",
    "        flipkart_reviews.iloc[i]['REVIEW_TEXT'] = str(flipkart_reviews.iloc[i]['REVIEW_TEXT'])"
   ]
  },
  {
   "cell_type": "markdown",
   "metadata": {},
   "source": [
    "# Sentiment definition"
   ]
  },
  {
   "cell_type": "code",
   "execution_count": 85,
   "metadata": {},
   "outputs": [
    {
     "data": {
      "text/html": [
       "<div>\n",
       "<style scoped>\n",
       "    .dataframe tbody tr th:only-of-type {\n",
       "        vertical-align: middle;\n",
       "    }\n",
       "\n",
       "    .dataframe tbody tr th {\n",
       "        vertical-align: top;\n",
       "    }\n",
       "\n",
       "    .dataframe thead th {\n",
       "        text-align: right;\n",
       "    }\n",
       "</style>\n",
       "<table border=\"1\" class=\"dataframe\">\n",
       "  <thead>\n",
       "    <tr style=\"text-align: right;\">\n",
       "      <th></th>\n",
       "      <th>RATING</th>\n",
       "      <th>PRODUCT_CATEGORY</th>\n",
       "      <th>PRODUCT_TITLE</th>\n",
       "      <th>REVIEW_TITLE</th>\n",
       "      <th>REVIEW_TEXT</th>\n",
       "      <th>SENTIMENT</th>\n",
       "    </tr>\n",
       "  </thead>\n",
       "  <tbody>\n",
       "    <tr>\n",
       "      <th>0</th>\n",
       "      <td>4</td>\n",
       "      <td>PC</td>\n",
       "      <td>Targus PAUK10U Ultra Mini USB Keypad, Black</td>\n",
       "      <td>useful</td>\n",
       "      <td>When least you think so, this product will sav...</td>\n",
       "      <td>1</td>\n",
       "    </tr>\n",
       "    <tr>\n",
       "      <th>1</th>\n",
       "      <td>4</td>\n",
       "      <td>Wireless</td>\n",
       "      <td>Note 3 Battery : Stalion Strength Replacement ...</td>\n",
       "      <td>New era for batteries</td>\n",
       "      <td>Lithium batteries are something new introduced...</td>\n",
       "      <td>1</td>\n",
       "    </tr>\n",
       "    <tr>\n",
       "      <th>3</th>\n",
       "      <td>4</td>\n",
       "      <td>Office Products</td>\n",
       "      <td>Casio MS-80B Standard Function Desktop Calculator</td>\n",
       "      <td>Great computing!</td>\n",
       "      <td>I was looking for an inexpensive desk calcolat...</td>\n",
       "      <td>1</td>\n",
       "    </tr>\n",
       "    <tr>\n",
       "      <th>4</th>\n",
       "      <td>4</td>\n",
       "      <td>Beauty</td>\n",
       "      <td>Shine Whitening - Zero Peroxide Teeth Whitenin...</td>\n",
       "      <td>Only use twice a week</td>\n",
       "      <td>I only use it twice a week and the results are...</td>\n",
       "      <td>1</td>\n",
       "    </tr>\n",
       "    <tr>\n",
       "      <th>6</th>\n",
       "      <td>4</td>\n",
       "      <td>Toys</td>\n",
       "      <td>ESPN 2-Piece Table Tennis</td>\n",
       "      <td>PING PONG TABLE GREAT FOR YOUTHS AND FAMILY</td>\n",
       "      <td>Pleased with ping pong table. 11 year old and ...</td>\n",
       "      <td>1</td>\n",
       "    </tr>\n",
       "  </tbody>\n",
       "</table>\n",
       "</div>"
      ],
      "text/plain": [
       "   RATING PRODUCT_CATEGORY                                      PRODUCT_TITLE  \\\n",
       "0       4               PC        Targus PAUK10U Ultra Mini USB Keypad, Black   \n",
       "1       4         Wireless  Note 3 Battery : Stalion Strength Replacement ...   \n",
       "3       4  Office Products  Casio MS-80B Standard Function Desktop Calculator   \n",
       "4       4           Beauty  Shine Whitening - Zero Peroxide Teeth Whitenin...   \n",
       "6       4             Toys                          ESPN 2-Piece Table Tennis   \n",
       "\n",
       "                                  REVIEW_TITLE  \\\n",
       "0                                       useful   \n",
       "1                        New era for batteries   \n",
       "3                             Great computing!   \n",
       "4                        Only use twice a week   \n",
       "6  PING PONG TABLE GREAT FOR YOUTHS AND FAMILY   \n",
       "\n",
       "                                         REVIEW_TEXT  SENTIMENT  \n",
       "0  When least you think so, this product will sav...          1  \n",
       "1  Lithium batteries are something new introduced...          1  \n",
       "3  I was looking for an inexpensive desk calcolat...          1  \n",
       "4  I only use it twice a week and the results are...          1  \n",
       "6  Pleased with ping pong table. 11 year old and ...          1  "
      ]
     },
     "execution_count": 85,
     "metadata": {},
     "output_type": "execute_result"
    }
   ],
   "source": [
    "def sentiment(n):\n",
    "    return 1 if n >= 4 else 0\n",
    "\n",
    "amazon_reviews = amazon_reviews[amazon_reviews['RATING'] != 3]\n",
    "amazon_reviews['SENTIMENT'] = amazon_reviews['RATING'].apply(sentiment)\n",
    "amazon_reviews.head()"
   ]
  },
  {
   "cell_type": "code",
   "execution_count": 86,
   "metadata": {},
   "outputs": [
    {
     "data": {
      "text/html": [
       "<div>\n",
       "<style scoped>\n",
       "    .dataframe tbody tr th:only-of-type {\n",
       "        vertical-align: middle;\n",
       "    }\n",
       "\n",
       "    .dataframe tbody tr th {\n",
       "        vertical-align: top;\n",
       "    }\n",
       "\n",
       "    .dataframe thead th {\n",
       "        text-align: right;\n",
       "    }\n",
       "</style>\n",
       "<table border=\"1\" class=\"dataframe\">\n",
       "  <thead>\n",
       "    <tr style=\"text-align: right;\">\n",
       "      <th></th>\n",
       "      <th>REVIEW_TEXT</th>\n",
       "      <th>RATING</th>\n",
       "      <th>PRODUCT_TITLE</th>\n",
       "      <th>PRODUCT_CATEGORY</th>\n",
       "      <th>REVIEW_TITLE</th>\n",
       "      <th>SENTIMENT</th>\n",
       "    </tr>\n",
       "  </thead>\n",
       "  <tbody>\n",
       "    <tr>\n",
       "      <th>0</th>\n",
       "      <td>Not nice</td>\n",
       "      <td>1</td>\n",
       "      <td>Solid Men Mandarin Collar White, Blue T-Shirt</td>\n",
       "      <td>Apparel</td>\n",
       "      <td>NA</td>\n",
       "      <td>0</td>\n",
       "    </tr>\n",
       "    <tr>\n",
       "      <th>1</th>\n",
       "      <td>Good quality product</td>\n",
       "      <td>5</td>\n",
       "      <td>Solid Men Mandarin Collar White, Blue T-Shirt</td>\n",
       "      <td>Apparel</td>\n",
       "      <td>NA</td>\n",
       "      <td>1</td>\n",
       "    </tr>\n",
       "    <tr>\n",
       "      <th>2</th>\n",
       "      <td>Nice</td>\n",
       "      <td>5</td>\n",
       "      <td>Solid Men Mandarin Collar White, Blue T-Shirt</td>\n",
       "      <td>Apparel</td>\n",
       "      <td>NA</td>\n",
       "      <td>1</td>\n",
       "    </tr>\n",
       "    <tr>\n",
       "      <th>3</th>\n",
       "      <td>Very bed</td>\n",
       "      <td>1</td>\n",
       "      <td>Solid Men Mandarin Collar White, Blue T-Shirt</td>\n",
       "      <td>Apparel</td>\n",
       "      <td>NA</td>\n",
       "      <td>0</td>\n",
       "    </tr>\n",
       "    <tr>\n",
       "      <th>5</th>\n",
       "      <td>Good product</td>\n",
       "      <td>5</td>\n",
       "      <td>Solid Men Mandarin Collar White, Blue T-Shirt</td>\n",
       "      <td>Apparel</td>\n",
       "      <td>NA</td>\n",
       "      <td>1</td>\n",
       "    </tr>\n",
       "  </tbody>\n",
       "</table>\n",
       "</div>"
      ],
      "text/plain": [
       "            REVIEW_TEXT  RATING  \\\n",
       "0              Not nice       1   \n",
       "1  Good quality product       5   \n",
       "2                  Nice       5   \n",
       "3              Very bed       1   \n",
       "5          Good product       5   \n",
       "\n",
       "                                   PRODUCT_TITLE PRODUCT_CATEGORY  \\\n",
       "0  Solid Men Mandarin Collar White, Blue T-Shirt          Apparel   \n",
       "1  Solid Men Mandarin Collar White, Blue T-Shirt          Apparel   \n",
       "2  Solid Men Mandarin Collar White, Blue T-Shirt          Apparel   \n",
       "3  Solid Men Mandarin Collar White, Blue T-Shirt          Apparel   \n",
       "5  Solid Men Mandarin Collar White, Blue T-Shirt          Apparel   \n",
       "\n",
       "  REVIEW_TITLE  SENTIMENT  \n",
       "0           NA          0  \n",
       "1           NA          1  \n",
       "2           NA          1  \n",
       "3           NA          0  \n",
       "5           NA          1  "
      ]
     },
     "execution_count": 86,
     "metadata": {},
     "output_type": "execute_result"
    }
   ],
   "source": [
    "flipkart_reviews = flipkart_reviews[flipkart_reviews['RATING'] != 3]\n",
    "flipkart_reviews['SENTIMENT'] = flipkart_reviews['RATING'].apply(sentiment)\n",
    "flipkart_reviews.head()"
   ]
  },
  {
   "cell_type": "markdown",
   "metadata": {},
   "source": [
    "# Data Pre-processing "
   ]
  },
  {
   "cell_type": "code",
   "execution_count": 87,
   "metadata": {},
   "outputs": [
    {
     "data": {
      "text/html": [
       "<div>\n",
       "<style scoped>\n",
       "    .dataframe tbody tr th:only-of-type {\n",
       "        vertical-align: middle;\n",
       "    }\n",
       "\n",
       "    .dataframe tbody tr th {\n",
       "        vertical-align: top;\n",
       "    }\n",
       "\n",
       "    .dataframe thead th {\n",
       "        text-align: right;\n",
       "    }\n",
       "</style>\n",
       "<table border=\"1\" class=\"dataframe\">\n",
       "  <thead>\n",
       "    <tr style=\"text-align: right;\">\n",
       "      <th></th>\n",
       "      <th>RATING</th>\n",
       "      <th>PRODUCT_CATEGORY</th>\n",
       "      <th>PRODUCT_TITLE</th>\n",
       "      <th>REVIEW_TITLE</th>\n",
       "      <th>REVIEW_TEXT</th>\n",
       "      <th>SENTIMENT</th>\n",
       "      <th>ALL_FEATURES</th>\n",
       "    </tr>\n",
       "  </thead>\n",
       "  <tbody>\n",
       "    <tr>\n",
       "      <th>0</th>\n",
       "      <td>4</td>\n",
       "      <td>PC</td>\n",
       "      <td>Targus PAUK10U Ultra Mini USB Keypad, Black</td>\n",
       "      <td>useful</td>\n",
       "      <td>When least you think so, this product will sav...</td>\n",
       "      <td>1</td>\n",
       "      <td>Targus PAUK10U Ultra Mini USB Keypad, Black us...</td>\n",
       "    </tr>\n",
       "    <tr>\n",
       "      <th>1</th>\n",
       "      <td>4</td>\n",
       "      <td>Wireless</td>\n",
       "      <td>Note 3 Battery : Stalion Strength Replacement ...</td>\n",
       "      <td>New era for batteries</td>\n",
       "      <td>Lithium batteries are something new introduced...</td>\n",
       "      <td>1</td>\n",
       "      <td>Note 3 Battery : Stalion Strength Replacement ...</td>\n",
       "    </tr>\n",
       "    <tr>\n",
       "      <th>3</th>\n",
       "      <td>4</td>\n",
       "      <td>Office Products</td>\n",
       "      <td>Casio MS-80B Standard Function Desktop Calculator</td>\n",
       "      <td>Great computing!</td>\n",
       "      <td>I was looking for an inexpensive desk calcolat...</td>\n",
       "      <td>1</td>\n",
       "      <td>Casio MS-80B Standard Function Desktop Calcula...</td>\n",
       "    </tr>\n",
       "    <tr>\n",
       "      <th>4</th>\n",
       "      <td>4</td>\n",
       "      <td>Beauty</td>\n",
       "      <td>Shine Whitening - Zero Peroxide Teeth Whitenin...</td>\n",
       "      <td>Only use twice a week</td>\n",
       "      <td>I only use it twice a week and the results are...</td>\n",
       "      <td>1</td>\n",
       "      <td>Shine Whitening - Zero Peroxide Teeth Whitenin...</td>\n",
       "    </tr>\n",
       "    <tr>\n",
       "      <th>6</th>\n",
       "      <td>4</td>\n",
       "      <td>Toys</td>\n",
       "      <td>ESPN 2-Piece Table Tennis</td>\n",
       "      <td>PING PONG TABLE GREAT FOR YOUTHS AND FAMILY</td>\n",
       "      <td>Pleased with ping pong table. 11 year old and ...</td>\n",
       "      <td>1</td>\n",
       "      <td>ESPN 2-Piece Table Tennis PING PONG TABLE GREA...</td>\n",
       "    </tr>\n",
       "  </tbody>\n",
       "</table>\n",
       "</div>"
      ],
      "text/plain": [
       "   RATING PRODUCT_CATEGORY                                      PRODUCT_TITLE  \\\n",
       "0       4               PC        Targus PAUK10U Ultra Mini USB Keypad, Black   \n",
       "1       4         Wireless  Note 3 Battery : Stalion Strength Replacement ...   \n",
       "3       4  Office Products  Casio MS-80B Standard Function Desktop Calculator   \n",
       "4       4           Beauty  Shine Whitening - Zero Peroxide Teeth Whitenin...   \n",
       "6       4             Toys                          ESPN 2-Piece Table Tennis   \n",
       "\n",
       "                                  REVIEW_TITLE  \\\n",
       "0                                       useful   \n",
       "1                        New era for batteries   \n",
       "3                             Great computing!   \n",
       "4                        Only use twice a week   \n",
       "6  PING PONG TABLE GREAT FOR YOUTHS AND FAMILY   \n",
       "\n",
       "                                         REVIEW_TEXT  SENTIMENT  \\\n",
       "0  When least you think so, this product will sav...          1   \n",
       "1  Lithium batteries are something new introduced...          1   \n",
       "3  I was looking for an inexpensive desk calcolat...          1   \n",
       "4  I only use it twice a week and the results are...          1   \n",
       "6  Pleased with ping pong table. 11 year old and ...          1   \n",
       "\n",
       "                                        ALL_FEATURES  \n",
       "0  Targus PAUK10U Ultra Mini USB Keypad, Black us...  \n",
       "1  Note 3 Battery : Stalion Strength Replacement ...  \n",
       "3  Casio MS-80B Standard Function Desktop Calcula...  \n",
       "4  Shine Whitening - Zero Peroxide Teeth Whitenin...  \n",
       "6  ESPN 2-Piece Table Tennis PING PONG TABLE GREA...  "
      ]
     },
     "execution_count": 87,
     "metadata": {},
     "output_type": "execute_result"
    }
   ],
   "source": [
    "def combined_features(row):\n",
    "    return row['PRODUCT_TITLE'] + ' '+ row['REVIEW_TITLE'] + ' ' + row['REVIEW_TEXT']\n",
    "amazon_reviews['ALL_FEATURES'] = amazon_reviews.apply(combined_features, axis=1)\n",
    "amazon_reviews.head()"
   ]
  },
  {
   "cell_type": "code",
   "execution_count": 88,
   "metadata": {},
   "outputs": [
    {
     "data": {
      "text/html": [
       "<div>\n",
       "<style scoped>\n",
       "    .dataframe tbody tr th:only-of-type {\n",
       "        vertical-align: middle;\n",
       "    }\n",
       "\n",
       "    .dataframe tbody tr th {\n",
       "        vertical-align: top;\n",
       "    }\n",
       "\n",
       "    .dataframe thead th {\n",
       "        text-align: right;\n",
       "    }\n",
       "</style>\n",
       "<table border=\"1\" class=\"dataframe\">\n",
       "  <thead>\n",
       "    <tr style=\"text-align: right;\">\n",
       "      <th></th>\n",
       "      <th>REVIEW_TEXT</th>\n",
       "      <th>RATING</th>\n",
       "      <th>PRODUCT_TITLE</th>\n",
       "      <th>PRODUCT_CATEGORY</th>\n",
       "      <th>REVIEW_TITLE</th>\n",
       "      <th>SENTIMENT</th>\n",
       "      <th>ALL_FEATURES</th>\n",
       "    </tr>\n",
       "  </thead>\n",
       "  <tbody>\n",
       "    <tr>\n",
       "      <th>0</th>\n",
       "      <td>Not nice</td>\n",
       "      <td>1</td>\n",
       "      <td>Solid Men Mandarin Collar White, Blue T-Shirt</td>\n",
       "      <td>Apparel</td>\n",
       "      <td>NA</td>\n",
       "      <td>0</td>\n",
       "      <td>Solid Men Mandarin Collar White, Blue T-Shirt ...</td>\n",
       "    </tr>\n",
       "    <tr>\n",
       "      <th>1</th>\n",
       "      <td>Good quality product</td>\n",
       "      <td>5</td>\n",
       "      <td>Solid Men Mandarin Collar White, Blue T-Shirt</td>\n",
       "      <td>Apparel</td>\n",
       "      <td>NA</td>\n",
       "      <td>1</td>\n",
       "      <td>Solid Men Mandarin Collar White, Blue T-Shirt ...</td>\n",
       "    </tr>\n",
       "    <tr>\n",
       "      <th>2</th>\n",
       "      <td>Nice</td>\n",
       "      <td>5</td>\n",
       "      <td>Solid Men Mandarin Collar White, Blue T-Shirt</td>\n",
       "      <td>Apparel</td>\n",
       "      <td>NA</td>\n",
       "      <td>1</td>\n",
       "      <td>Solid Men Mandarin Collar White, Blue T-Shirt ...</td>\n",
       "    </tr>\n",
       "    <tr>\n",
       "      <th>3</th>\n",
       "      <td>Very bed</td>\n",
       "      <td>1</td>\n",
       "      <td>Solid Men Mandarin Collar White, Blue T-Shirt</td>\n",
       "      <td>Apparel</td>\n",
       "      <td>NA</td>\n",
       "      <td>0</td>\n",
       "      <td>Solid Men Mandarin Collar White, Blue T-Shirt ...</td>\n",
       "    </tr>\n",
       "    <tr>\n",
       "      <th>5</th>\n",
       "      <td>Good product</td>\n",
       "      <td>5</td>\n",
       "      <td>Solid Men Mandarin Collar White, Blue T-Shirt</td>\n",
       "      <td>Apparel</td>\n",
       "      <td>NA</td>\n",
       "      <td>1</td>\n",
       "      <td>Solid Men Mandarin Collar White, Blue T-Shirt ...</td>\n",
       "    </tr>\n",
       "  </tbody>\n",
       "</table>\n",
       "</div>"
      ],
      "text/plain": [
       "            REVIEW_TEXT  RATING  \\\n",
       "0              Not nice       1   \n",
       "1  Good quality product       5   \n",
       "2                  Nice       5   \n",
       "3              Very bed       1   \n",
       "5          Good product       5   \n",
       "\n",
       "                                   PRODUCT_TITLE PRODUCT_CATEGORY  \\\n",
       "0  Solid Men Mandarin Collar White, Blue T-Shirt          Apparel   \n",
       "1  Solid Men Mandarin Collar White, Blue T-Shirt          Apparel   \n",
       "2  Solid Men Mandarin Collar White, Blue T-Shirt          Apparel   \n",
       "3  Solid Men Mandarin Collar White, Blue T-Shirt          Apparel   \n",
       "5  Solid Men Mandarin Collar White, Blue T-Shirt          Apparel   \n",
       "\n",
       "  REVIEW_TITLE  SENTIMENT                                       ALL_FEATURES  \n",
       "0           NA          0  Solid Men Mandarin Collar White, Blue T-Shirt ...  \n",
       "1           NA          1  Solid Men Mandarin Collar White, Blue T-Shirt ...  \n",
       "2           NA          1  Solid Men Mandarin Collar White, Blue T-Shirt ...  \n",
       "3           NA          0  Solid Men Mandarin Collar White, Blue T-Shirt ...  \n",
       "5           NA          1  Solid Men Mandarin Collar White, Blue T-Shirt ...  "
      ]
     },
     "execution_count": 88,
     "metadata": {},
     "output_type": "execute_result"
    }
   ],
   "source": [
    "flipkart_reviews['ALL_FEATURES'] = flipkart_reviews.apply(combined_features, axis=1)\n",
    "flipkart_reviews.head()"
   ]
  },
  {
   "cell_type": "code",
   "execution_count": 89,
   "metadata": {},
   "outputs": [],
   "source": [
    "flipkart_reviews['SOURCE'] = 'Flipkart'"
   ]
  },
  {
   "cell_type": "code",
   "execution_count": 90,
   "metadata": {},
   "outputs": [],
   "source": [
    "amazon_reviews['SOURCE'] = 'Amazon'"
   ]
  },
  {
   "cell_type": "code",
   "execution_count": 91,
   "metadata": {},
   "outputs": [],
   "source": [
    "import nltk\n",
    "from nltk.tokenize.toktok import ToktokTokenizer\n",
    "from nltk.stem import LancasterStemmer,WordNetLemmatizer\n",
    "from nltk.corpus import stopwords\n",
    "from bs4 import BeautifulSoup as bs \n",
    "import re"
   ]
  },
  {
   "cell_type": "code",
   "execution_count": 92,
   "metadata": {},
   "outputs": [],
   "source": [
    "import sklearn"
   ]
  },
  {
   "cell_type": "code",
   "execution_count": 93,
   "metadata": {},
   "outputs": [
    {
     "name": "stderr",
     "output_type": "stream",
     "text": [
      "[nltk_data] Downloading package stopwords to\n",
      "[nltk_data]     C:\\Users\\Nikita\\AppData\\Roaming\\nltk_data...\n",
      "[nltk_data]   Package stopwords is already up-to-date!\n"
     ]
    },
    {
     "data": {
      "text/plain": [
       "True"
      ]
     },
     "execution_count": 93,
     "metadata": {},
     "output_type": "execute_result"
    }
   ],
   "source": [
    "nltk.download('stopwords')"
   ]
  },
  {
   "cell_type": "code",
   "execution_count": 94,
   "metadata": {},
   "outputs": [],
   "source": [
    "#Tokenization of text\n",
    "tokenizer=ToktokTokenizer()\n",
    "#Setting English stopwords\n",
    "stopword_list=nltk.corpus.stopwords.words('english')"
   ]
  },
  {
   "cell_type": "code",
   "execution_count": 95,
   "metadata": {},
   "outputs": [],
   "source": [
    "#Removing the html strips\n",
    "def strip_html(text):\n",
    "    soup = bs(text, \"html.parser\")\n",
    "    return soup.get_text()\n",
    "\n",
    "#Removing the square brackets\n",
    "def remove_between_square_brackets(text):\n",
    "    return re.sub('\\[[^]]*\\]', '', text)\n",
    "\n",
    "#Removing the noisy text\n",
    "def denoise_text(text):\n",
    "    text = strip_html(text)\n",
    "    text = remove_between_square_brackets(text)\n",
    "    return text\n",
    "\n",
    "amazon_reviews['REVIEW_TEXT']=amazon_reviews['REVIEW_TEXT'].apply(denoise_text)"
   ]
  },
  {
   "cell_type": "code",
   "execution_count": 96,
   "metadata": {},
   "outputs": [],
   "source": [
    "def remove_special_characters(text, remove_digits=True):\n",
    "    pattern=r'[^a-zA-z0-9\\s]'\n",
    "    text=re.sub(pattern,'',text)\n",
    "    return text"
   ]
  },
  {
   "cell_type": "code",
   "execution_count": 97,
   "metadata": {},
   "outputs": [],
   "source": [
    "amazon_reviews['REVIEW_TEXT']=amazon_reviews['REVIEW_TEXT'].apply(remove_special_characters)\n",
    "flipkart_reviews['REVIEW_TEXT']=flipkart_reviews['REVIEW_TEXT'].apply(remove_special_characters)"
   ]
  },
  {
   "cell_type": "code",
   "execution_count": 98,
   "metadata": {},
   "outputs": [
    {
     "data": {
      "text/html": [
       "<div>\n",
       "<style scoped>\n",
       "    .dataframe tbody tr th:only-of-type {\n",
       "        vertical-align: middle;\n",
       "    }\n",
       "\n",
       "    .dataframe tbody tr th {\n",
       "        vertical-align: top;\n",
       "    }\n",
       "\n",
       "    .dataframe thead th {\n",
       "        text-align: right;\n",
       "    }\n",
       "</style>\n",
       "<table border=\"1\" class=\"dataframe\">\n",
       "  <thead>\n",
       "    <tr style=\"text-align: right;\">\n",
       "      <th></th>\n",
       "      <th>RATING</th>\n",
       "      <th>PRODUCT_CATEGORY</th>\n",
       "      <th>PRODUCT_TITLE</th>\n",
       "      <th>REVIEW_TITLE</th>\n",
       "      <th>REVIEW_TEXT</th>\n",
       "      <th>SENTIMENT</th>\n",
       "      <th>ALL_FEATURES</th>\n",
       "      <th>SOURCE</th>\n",
       "    </tr>\n",
       "  </thead>\n",
       "  <tbody>\n",
       "    <tr>\n",
       "      <th>0</th>\n",
       "      <td>4</td>\n",
       "      <td>PC</td>\n",
       "      <td>Targus PAUK10U Ultra Mini USB Keypad, Black</td>\n",
       "      <td>useful</td>\n",
       "      <td>When least you think so this product will save...</td>\n",
       "      <td>1</td>\n",
       "      <td>Targus PAUK10U Ultra Mini USB Keypad, Black us...</td>\n",
       "      <td>Amazon</td>\n",
       "    </tr>\n",
       "    <tr>\n",
       "      <th>1</th>\n",
       "      <td>4</td>\n",
       "      <td>Wireless</td>\n",
       "      <td>Note 3 Battery : Stalion Strength Replacement ...</td>\n",
       "      <td>New era for batteries</td>\n",
       "      <td>Lithium batteries are something new introduced...</td>\n",
       "      <td>1</td>\n",
       "      <td>Note 3 Battery : Stalion Strength Replacement ...</td>\n",
       "      <td>Amazon</td>\n",
       "    </tr>\n",
       "    <tr>\n",
       "      <th>3</th>\n",
       "      <td>4</td>\n",
       "      <td>Office Products</td>\n",
       "      <td>Casio MS-80B Standard Function Desktop Calculator</td>\n",
       "      <td>Great computing!</td>\n",
       "      <td>I was looking for an inexpensive desk calcolat...</td>\n",
       "      <td>1</td>\n",
       "      <td>Casio MS-80B Standard Function Desktop Calcula...</td>\n",
       "      <td>Amazon</td>\n",
       "    </tr>\n",
       "    <tr>\n",
       "      <th>4</th>\n",
       "      <td>4</td>\n",
       "      <td>Beauty</td>\n",
       "      <td>Shine Whitening - Zero Peroxide Teeth Whitenin...</td>\n",
       "      <td>Only use twice a week</td>\n",
       "      <td>I only use it twice a week and the results are...</td>\n",
       "      <td>1</td>\n",
       "      <td>Shine Whitening - Zero Peroxide Teeth Whitenin...</td>\n",
       "      <td>Amazon</td>\n",
       "    </tr>\n",
       "    <tr>\n",
       "      <th>6</th>\n",
       "      <td>4</td>\n",
       "      <td>Toys</td>\n",
       "      <td>ESPN 2-Piece Table Tennis</td>\n",
       "      <td>PING PONG TABLE GREAT FOR YOUTHS AND FAMILY</td>\n",
       "      <td>Pleased with ping pong table 11 year old and 1...</td>\n",
       "      <td>1</td>\n",
       "      <td>ESPN 2-Piece Table Tennis PING PONG TABLE GREA...</td>\n",
       "      <td>Amazon</td>\n",
       "    </tr>\n",
       "  </tbody>\n",
       "</table>\n",
       "</div>"
      ],
      "text/plain": [
       "   RATING PRODUCT_CATEGORY                                      PRODUCT_TITLE  \\\n",
       "0       4               PC        Targus PAUK10U Ultra Mini USB Keypad, Black   \n",
       "1       4         Wireless  Note 3 Battery : Stalion Strength Replacement ...   \n",
       "3       4  Office Products  Casio MS-80B Standard Function Desktop Calculator   \n",
       "4       4           Beauty  Shine Whitening - Zero Peroxide Teeth Whitenin...   \n",
       "6       4             Toys                          ESPN 2-Piece Table Tennis   \n",
       "\n",
       "                                  REVIEW_TITLE  \\\n",
       "0                                       useful   \n",
       "1                        New era for batteries   \n",
       "3                             Great computing!   \n",
       "4                        Only use twice a week   \n",
       "6  PING PONG TABLE GREAT FOR YOUTHS AND FAMILY   \n",
       "\n",
       "                                         REVIEW_TEXT  SENTIMENT  \\\n",
       "0  When least you think so this product will save...          1   \n",
       "1  Lithium batteries are something new introduced...          1   \n",
       "3  I was looking for an inexpensive desk calcolat...          1   \n",
       "4  I only use it twice a week and the results are...          1   \n",
       "6  Pleased with ping pong table 11 year old and 1...          1   \n",
       "\n",
       "                                        ALL_FEATURES  SOURCE  \n",
       "0  Targus PAUK10U Ultra Mini USB Keypad, Black us...  Amazon  \n",
       "1  Note 3 Battery : Stalion Strength Replacement ...  Amazon  \n",
       "3  Casio MS-80B Standard Function Desktop Calcula...  Amazon  \n",
       "4  Shine Whitening - Zero Peroxide Teeth Whitenin...  Amazon  \n",
       "6  ESPN 2-Piece Table Tennis PING PONG TABLE GREA...  Amazon  "
      ]
     },
     "execution_count": 98,
     "metadata": {},
     "output_type": "execute_result"
    }
   ],
   "source": [
    "amazon_reviews.head()"
   ]
  },
  {
   "cell_type": "code",
   "execution_count": 99,
   "metadata": {},
   "outputs": [],
   "source": [
    "def simple_stemmer(text):\n",
    "    ps=nltk.porter.PorterStemmer()\n",
    "    text= ' '.join([ps.stem(word) for word in text.split()])\n",
    "    return text"
   ]
  },
  {
   "cell_type": "code",
   "execution_count": 100,
   "metadata": {},
   "outputs": [],
   "source": [
    "amazon_reviews['REVIEW_TEXT']=amazon_reviews['REVIEW_TEXT'].apply(simple_stemmer)\n",
    "flipkart_reviews['REVIEW_TEXT']=flipkart_reviews['REVIEW_TEXT'].apply(simple_stemmer)"
   ]
  },
  {
   "cell_type": "code",
   "execution_count": 101,
   "metadata": {},
   "outputs": [
    {
     "name": "stdout",
     "output_type": "stream",
     "text": [
      "{'haven', 'before', \"wouldn't\", 'aren', 'which', 'yourself', 'only', 'had', 'or', 'isn', 'were', 'own', 'other', \"you're\", 'yourselves', 'down', 'our', 'him', 'too', 'couldn', 'can', 'below', \"aren't\", \"doesn't\", \"haven't\", 'about', 's', \"mustn't\", 'them', \"that'll\", 'doing', 'now', 'wouldn', \"you'd\", 'ain', \"shan't\", 'doesn', 'shan', 'you', 'who', 're', 'against', 'each', 'few', 'my', 'why', 'both', 'her', \"needn't\", 'hers', 't', 'more', 'at', 'o', 'won', 'with', 'being', 'mustn', 'than', 'to', 'this', 'of', 'what', 'it', 'me', 'himself', 'when', 'into', 'any', 'same', 'have', 'from', 'hadn', 'mightn', 'll', 'myself', 'here', 'while', \"shouldn't\", 'again', \"you've\", \"couldn't\", \"wasn't\", 'didn', 'themselves', \"hadn't\", 'needn', 'he', 'wasn', 'not', \"mightn't\", 'its', 'over', 'i', 'yours', 'an', 'that', 'these', 'those', 'has', 'do', 'during', 'once', \"don't\", 'did', 'y', 'weren', 'is', 'so', 'will', 'on', 'ours', \"she's\", 'be', 'whom', 'd', 'then', 'where', 'up', 'their', 'as', 'some', 'further', 'there', 'she', 'most', 'how', 'under', \"won't\", 'by', 'all', \"didn't\", 'through', 'herself', \"weren't\", \"it's\", 'ourselves', 'having', 'and', 'until', 'they', 'a', 'does', 'such', 'in', 'no', 'just', 'been', 'after', 'm', 'itself', 'we', 've', 'the', 'hasn', 'if', 'between', 'for', \"should've\", 'shouldn', 'am', 'above', \"you'll\", 'his', 'very', 'should', 'nor', 'because', 'theirs', 'but', \"hasn't\", 'was', 'your', 'off', \"isn't\", 'are', 'ma', 'out', 'don'}\n"
     ]
    }
   ],
   "source": [
    "stop=set(stopwords.words('english'))\n",
    "print(stop)\n",
    "\n",
    "def remove_stopwords(text, is_lower_case=False):\n",
    "    tokens = tokenizer.tokenize(text)\n",
    "    tokens = [token.strip() for token in tokens]\n",
    "    if is_lower_case:\n",
    "        filtered_tokens = [token for token in tokens if token not in stopword_list]\n",
    "    else:\n",
    "        filtered_tokens = [token for token in tokens if token.lower() not in stopword_list]\n",
    "    filtered_text = ' '.join(filtered_tokens)    \n",
    "    return filtered_text"
   ]
  },
  {
   "cell_type": "code",
   "execution_count": 102,
   "metadata": {},
   "outputs": [],
   "source": [
    "amazon_reviews['REVIEW_TEXT']=amazon_reviews['REVIEW_TEXT'].apply(remove_stopwords)\n",
    "flipkart_reviews['REVIEW_TEXT']=flipkart_reviews['REVIEW_TEXT'].apply(remove_stopwords)"
   ]
  },
  {
   "cell_type": "code",
   "execution_count": 103,
   "metadata": {},
   "outputs": [],
   "source": [
    "amazon_reviews = amazon_reviews[amazon_reviews['PRODUCT_CATEGORY'] == 'Apparel']"
   ]
  },
  {
   "cell_type": "code",
   "execution_count": 104,
   "metadata": {},
   "outputs": [],
   "source": [
    "flipkart_reviews = flipkart_reviews[flipkart_reviews['PRODUCT_CATEGORY'] == 'Apparel']"
   ]
  },
  {
   "cell_type": "code",
   "execution_count": 105,
   "metadata": {},
   "outputs": [],
   "source": [
    "X_Amazon = amazon_reviews['ALL_FEATURES']\n",
    "y_Amazon = amazon_reviews['SENTIMENT']"
   ]
  },
  {
   "cell_type": "code",
   "execution_count": 106,
   "metadata": {},
   "outputs": [
    {
     "data": {
      "text/plain": [
       "(629,)"
      ]
     },
     "execution_count": 106,
     "metadata": {},
     "output_type": "execute_result"
    }
   ],
   "source": [
    "X_Amazon.shape"
   ]
  },
  {
   "cell_type": "code",
   "execution_count": 107,
   "metadata": {},
   "outputs": [],
   "source": [
    "X_Flipkart = flipkart_reviews['ALL_FEATURES']\n",
    "y_Flipkart = flipkart_reviews['SENTIMENT']"
   ]
  },
  {
   "cell_type": "code",
   "execution_count": 108,
   "metadata": {},
   "outputs": [],
   "source": [
    "from sklearn.model_selection import train_test_split\n",
    "X_train_Amazon, X_test_Amazon, y_train_Amazon, y_test_Amazon = train_test_split(X_Amazon, y_Amazon, random_state=0)\n",
    "X_train_Flipkart, X_test_Flipkart, y_train_Flipkart, y_test_Flipkart = train_test_split(X_Flipkart, y_Flipkart, random_state=0)"
   ]
  },
  {
   "cell_type": "markdown",
   "metadata": {},
   "source": [
    "# Bag of words model"
   ]
  },
  {
   "cell_type": "code",
   "execution_count": 109,
   "metadata": {},
   "outputs": [],
   "source": [
    "from sklearn.feature_extraction.text import CountVectorizer\n",
    "cv = CountVectorizer()\n",
    "ctmTr = cv.fit_transform(X_train_Amazon)\n",
    "X_test_dtm = cv.transform(X_test_Amazon)"
   ]
  },
  {
   "cell_type": "code",
   "execution_count": 110,
   "metadata": {},
   "outputs": [],
   "source": [
    "ctmTr_Flip = cv.fit_transform(X_train_Flipkart)\n",
    "X_test_dtm_Flip = cv.transform(X_test_Flipkart)"
   ]
  },
  {
   "cell_type": "code",
   "execution_count": 111,
   "metadata": {},
   "outputs": [
    {
     "data": {
      "text/plain": [
       "LogisticRegression()"
      ]
     },
     "execution_count": 111,
     "metadata": {},
     "output_type": "execute_result"
    }
   ],
   "source": [
    "from sklearn.linear_model import LogisticRegression\n",
    "from sklearn.metrics import accuracy_score\n",
    "model = LogisticRegression()\n",
    "model.fit(ctmTr, y_train_Amazon)"
   ]
  },
  {
   "cell_type": "code",
   "execution_count": 112,
   "metadata": {},
   "outputs": [
    {
     "data": {
      "text/plain": [
       "LogisticRegression()"
      ]
     },
     "execution_count": 112,
     "metadata": {},
     "output_type": "execute_result"
    }
   ],
   "source": [
    "model_Flip = LogisticRegression()\n",
    "model_Flip.fit(ctmTr_Flip, y_train_Flipkart)"
   ]
  },
  {
   "cell_type": "code",
   "execution_count": 113,
   "metadata": {},
   "outputs": [],
   "source": [
    "y_pred_class = model.predict(X_test_dtm)"
   ]
  },
  {
   "cell_type": "code",
   "execution_count": 114,
   "metadata": {},
   "outputs": [
    {
     "data": {
      "text/plain": [
       "0.9050632911392406"
      ]
     },
     "execution_count": 114,
     "metadata": {},
     "output_type": "execute_result"
    }
   ],
   "source": [
    "accuracy_score(y_test_Amazon, y_pred_class)"
   ]
  },
  {
   "cell_type": "code",
   "execution_count": 115,
   "metadata": {},
   "outputs": [
    {
     "data": {
      "text/plain": [
       "array([1, 1, 1, 1, 1, 1, 1, 0, 1, 1, 1, 1, 1, 1, 1, 1, 0, 1, 1, 1, 1, 1,\n",
       "       1, 1, 1, 1, 1, 1, 1, 1, 1, 1, 1, 1, 1, 1, 1, 1, 1, 1, 1, 1, 1, 1,\n",
       "       1, 1, 0, 1, 1, 1, 1, 1, 1, 1, 1, 0, 1, 1, 1, 1, 1, 1, 1, 1, 0, 1,\n",
       "       1, 1, 1, 1, 1, 1, 1, 0, 1, 1, 1, 1, 1, 1, 1, 1, 1, 1, 1, 1, 1, 1,\n",
       "       1, 1, 1, 1, 1, 1, 1, 0, 1, 1, 1, 1, 1, 1, 1, 1, 1, 1, 1, 1, 1, 1,\n",
       "       1, 1, 1, 1, 1, 1, 1, 1, 1, 1, 1, 1, 1, 1, 1, 1, 1, 1, 1, 1, 1, 1,\n",
       "       1, 1, 1, 1, 1, 0, 1, 1, 1, 1, 1, 1, 1, 1, 1, 1, 1, 1, 1, 1, 1, 0,\n",
       "       1, 1, 1, 1], dtype=int64)"
      ]
     },
     "execution_count": 115,
     "metadata": {},
     "output_type": "execute_result"
    }
   ],
   "source": [
    "y_pred_class"
   ]
  },
  {
   "cell_type": "code",
   "execution_count": 116,
   "metadata": {},
   "outputs": [
    {
     "data": {
      "text/plain": [
       "7688     Spikerking Women's Fascinators Small Feather Y...\n",
       "11233    Oakley Men's Village Park T-Shirt, Jet Black, ...\n",
       "20303    Men's Leather Wallet Euro Traveler Extra Capac...\n",
       "8811     Diamond Candy Hooded Softshell Waterproof Jack...\n",
       "13801    Faux Real Men's Oktoberfest, Red/Brown, Large ...\n",
       "                               ...                        \n",
       "20763    NYDJ Women's Sheri Skinny Jeans in Modesto, Mo...\n",
       "20413    Fossil Men's Ingram Magnetic Multi-Card Wallet...\n",
       "4015     Dinosaur Onesie for Adults Counterfeit WARNING...\n",
       "20895    Sakkas 22311 Garden Goddess Corset Style Dress...\n",
       "18112    Dickies Women's Sherpa Bonded Fleece Hoodie, P...\n",
       "Name: ALL_FEATURES, Length: 158, dtype: object"
      ]
     },
     "execution_count": 116,
     "metadata": {},
     "output_type": "execute_result"
    }
   ],
   "source": [
    "X_test_Amazon"
   ]
  },
  {
   "cell_type": "code",
   "execution_count": 117,
   "metadata": {},
   "outputs": [],
   "source": [
    "y_pred_class_Flip = model_Flip.predict(X_test_dtm_Flip)"
   ]
  },
  {
   "cell_type": "code",
   "execution_count": 118,
   "metadata": {},
   "outputs": [
    {
     "data": {
      "text/plain": [
       "array([1, 1, 1, 1, 0, 1, 1, 1, 1, 0, 1, 1, 1, 1, 1, 1, 1, 1, 1, 0, 0, 1,\n",
       "       0, 0, 1, 1, 1, 1, 1, 1, 1, 1, 1, 1, 1, 1, 1, 1, 1, 1, 0, 1, 1, 1,\n",
       "       1, 0, 1, 1, 1, 0, 1, 1, 1, 1, 0, 1, 1, 1, 1, 1, 0, 1, 1, 1, 1, 0,\n",
       "       1, 0, 1, 1, 1, 1, 1, 1, 1, 1, 1, 1], dtype=int64)"
      ]
     },
     "execution_count": 118,
     "metadata": {},
     "output_type": "execute_result"
    }
   ],
   "source": [
    "y_pred_class_Flip"
   ]
  },
  {
   "cell_type": "code",
   "execution_count": 119,
   "metadata": {},
   "outputs": [
    {
     "data": {
      "text/plain": [
       "0.8974358974358975"
      ]
     },
     "execution_count": 119,
     "metadata": {},
     "output_type": "execute_result"
    }
   ],
   "source": [
    "accuracy_score(y_test_Flipkart, y_pred_class_Flip)"
   ]
  },
  {
   "cell_type": "code",
   "execution_count": null,
   "metadata": {},
   "outputs": [],
   "source": []
  }
 ],
 "metadata": {
  "kernelspec": {
   "display_name": "Python 3",
   "language": "python",
   "name": "python3"
  },
  "language_info": {
   "codemirror_mode": {
    "name": "ipython",
    "version": 3
   },
   "file_extension": ".py",
   "mimetype": "text/x-python",
   "name": "python",
   "nbconvert_exporter": "python",
   "pygments_lexer": "ipython3",
   "version": "3.8.8"
  }
 },
 "nbformat": 4,
 "nbformat_minor": 4
}
