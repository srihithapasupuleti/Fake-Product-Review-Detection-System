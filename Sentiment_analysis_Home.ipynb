{
 "cells": [
  {
   "cell_type": "code",
   "execution_count": 1,
   "metadata": {},
   "outputs": [],
   "source": [
    "import pandas as pd"
   ]
  },
  {
   "cell_type": "code",
   "execution_count": 2,
   "metadata": {},
   "outputs": [],
   "source": [
    "amazon_reviews = pd.read_csv('./amazon_reviews.csv')"
   ]
  },
  {
   "cell_type": "code",
   "execution_count": 3,
   "metadata": {},
   "outputs": [
    {
     "data": {
      "text/html": [
       "<div>\n",
       "<style scoped>\n",
       "    .dataframe tbody tr th:only-of-type {\n",
       "        vertical-align: middle;\n",
       "    }\n",
       "\n",
       "    .dataframe tbody tr th {\n",
       "        vertical-align: top;\n",
       "    }\n",
       "\n",
       "    .dataframe thead th {\n",
       "        text-align: right;\n",
       "    }\n",
       "</style>\n",
       "<table border=\"1\" class=\"dataframe\">\n",
       "  <thead>\n",
       "    <tr style=\"text-align: right;\">\n",
       "      <th></th>\n",
       "      <th>DOC_ID</th>\n",
       "      <th>LABEL</th>\n",
       "      <th>RATING</th>\n",
       "      <th>VERIFIED_PURCHASE</th>\n",
       "      <th>PRODUCT_CATEGORY</th>\n",
       "      <th>PRODUCT_ID</th>\n",
       "      <th>PRODUCT_TITLE</th>\n",
       "      <th>REVIEW_TITLE</th>\n",
       "      <th>REVIEW_TEXT</th>\n",
       "    </tr>\n",
       "  </thead>\n",
       "  <tbody>\n",
       "    <tr>\n",
       "      <th>0</th>\n",
       "      <td>1</td>\n",
       "      <td>__label1__</td>\n",
       "      <td>4</td>\n",
       "      <td>N</td>\n",
       "      <td>PC</td>\n",
       "      <td>B00008NG7N</td>\n",
       "      <td>Targus PAUK10U Ultra Mini USB Keypad, Black</td>\n",
       "      <td>useful</td>\n",
       "      <td>When least you think so, this product will sav...</td>\n",
       "    </tr>\n",
       "    <tr>\n",
       "      <th>1</th>\n",
       "      <td>2</td>\n",
       "      <td>__label1__</td>\n",
       "      <td>4</td>\n",
       "      <td>Y</td>\n",
       "      <td>Wireless</td>\n",
       "      <td>B00LH0Y3NM</td>\n",
       "      <td>Note 3 Battery : Stalion Strength Replacement ...</td>\n",
       "      <td>New era for batteries</td>\n",
       "      <td>Lithium batteries are something new introduced...</td>\n",
       "    </tr>\n",
       "    <tr>\n",
       "      <th>2</th>\n",
       "      <td>3</td>\n",
       "      <td>__label1__</td>\n",
       "      <td>3</td>\n",
       "      <td>N</td>\n",
       "      <td>Baby</td>\n",
       "      <td>B000I5UZ1Q</td>\n",
       "      <td>Fisher-Price Papasan Cradle Swing, Starlight</td>\n",
       "      <td>doesn't swing very well.</td>\n",
       "      <td>I purchased this swing for my baby. She is 6 m...</td>\n",
       "    </tr>\n",
       "    <tr>\n",
       "      <th>3</th>\n",
       "      <td>4</td>\n",
       "      <td>__label1__</td>\n",
       "      <td>4</td>\n",
       "      <td>N</td>\n",
       "      <td>Office Products</td>\n",
       "      <td>B003822IRA</td>\n",
       "      <td>Casio MS-80B Standard Function Desktop Calculator</td>\n",
       "      <td>Great computing!</td>\n",
       "      <td>I was looking for an inexpensive desk calcolat...</td>\n",
       "    </tr>\n",
       "    <tr>\n",
       "      <th>4</th>\n",
       "      <td>5</td>\n",
       "      <td>__label1__</td>\n",
       "      <td>4</td>\n",
       "      <td>N</td>\n",
       "      <td>Beauty</td>\n",
       "      <td>B00PWSAXAM</td>\n",
       "      <td>Shine Whitening - Zero Peroxide Teeth Whitenin...</td>\n",
       "      <td>Only use twice a week</td>\n",
       "      <td>I only use it twice a week and the results are...</td>\n",
       "    </tr>\n",
       "  </tbody>\n",
       "</table>\n",
       "</div>"
      ],
      "text/plain": [
       "   DOC_ID       LABEL  RATING VERIFIED_PURCHASE PRODUCT_CATEGORY  PRODUCT_ID  \\\n",
       "0       1  __label1__       4                 N               PC  B00008NG7N   \n",
       "1       2  __label1__       4                 Y         Wireless  B00LH0Y3NM   \n",
       "2       3  __label1__       3                 N             Baby  B000I5UZ1Q   \n",
       "3       4  __label1__       4                 N  Office Products  B003822IRA   \n",
       "4       5  __label1__       4                 N           Beauty  B00PWSAXAM   \n",
       "\n",
       "                                       PRODUCT_TITLE  \\\n",
       "0        Targus PAUK10U Ultra Mini USB Keypad, Black   \n",
       "1  Note 3 Battery : Stalion Strength Replacement ...   \n",
       "2       Fisher-Price Papasan Cradle Swing, Starlight   \n",
       "3  Casio MS-80B Standard Function Desktop Calculator   \n",
       "4  Shine Whitening - Zero Peroxide Teeth Whitenin...   \n",
       "\n",
       "               REVIEW_TITLE                                        REVIEW_TEXT  \n",
       "0                    useful  When least you think so, this product will sav...  \n",
       "1     New era for batteries  Lithium batteries are something new introduced...  \n",
       "2  doesn't swing very well.  I purchased this swing for my baby. She is 6 m...  \n",
       "3          Great computing!  I was looking for an inexpensive desk calcolat...  \n",
       "4     Only use twice a week  I only use it twice a week and the results are...  "
      ]
     },
     "execution_count": 3,
     "metadata": {},
     "output_type": "execute_result"
    }
   ],
   "source": [
    "amazon_reviews.head()"
   ]
  },
  {
   "cell_type": "code",
   "execution_count": 4,
   "metadata": {},
   "outputs": [
    {
     "data": {
      "text/plain": [
       "(21000, 9)"
      ]
     },
     "execution_count": 4,
     "metadata": {},
     "output_type": "execute_result"
    }
   ],
   "source": [
    "amazon_reviews.shape"
   ]
  },
  {
   "cell_type": "code",
   "execution_count": 5,
   "metadata": {},
   "outputs": [
    {
     "data": {
      "text/plain": [
       "Index(['DOC_ID', 'LABEL', 'RATING', 'VERIFIED_PURCHASE', 'PRODUCT_CATEGORY',\n",
       "       'PRODUCT_ID', 'PRODUCT_TITLE', 'REVIEW_TITLE', 'REVIEW_TEXT'],\n",
       "      dtype='object')"
      ]
     },
     "execution_count": 5,
     "metadata": {},
     "output_type": "execute_result"
    }
   ],
   "source": [
    "amazon_reviews.columns"
   ]
  },
  {
   "cell_type": "code",
   "execution_count": 6,
   "metadata": {},
   "outputs": [],
   "source": [
    "relevant_columns = ['RATING', 'PRODUCT_CATEGORY',\n",
    "       'PRODUCT_TITLE', 'REVIEW_TITLE', 'REVIEW_TEXT']"
   ]
  },
  {
   "cell_type": "code",
   "execution_count": 7,
   "metadata": {},
   "outputs": [],
   "source": [
    "amazon_reviews = amazon_reviews[relevant_columns]"
   ]
  },
  {
   "cell_type": "code",
   "execution_count": 8,
   "metadata": {},
   "outputs": [
    {
     "data": {
      "text/html": [
       "<div>\n",
       "<style scoped>\n",
       "    .dataframe tbody tr th:only-of-type {\n",
       "        vertical-align: middle;\n",
       "    }\n",
       "\n",
       "    .dataframe tbody tr th {\n",
       "        vertical-align: top;\n",
       "    }\n",
       "\n",
       "    .dataframe thead th {\n",
       "        text-align: right;\n",
       "    }\n",
       "</style>\n",
       "<table border=\"1\" class=\"dataframe\">\n",
       "  <thead>\n",
       "    <tr style=\"text-align: right;\">\n",
       "      <th></th>\n",
       "      <th>RATING</th>\n",
       "      <th>PRODUCT_CATEGORY</th>\n",
       "      <th>PRODUCT_TITLE</th>\n",
       "      <th>REVIEW_TITLE</th>\n",
       "      <th>REVIEW_TEXT</th>\n",
       "    </tr>\n",
       "  </thead>\n",
       "  <tbody>\n",
       "    <tr>\n",
       "      <th>0</th>\n",
       "      <td>4</td>\n",
       "      <td>PC</td>\n",
       "      <td>Targus PAUK10U Ultra Mini USB Keypad, Black</td>\n",
       "      <td>useful</td>\n",
       "      <td>When least you think so, this product will sav...</td>\n",
       "    </tr>\n",
       "    <tr>\n",
       "      <th>1</th>\n",
       "      <td>4</td>\n",
       "      <td>Wireless</td>\n",
       "      <td>Note 3 Battery : Stalion Strength Replacement ...</td>\n",
       "      <td>New era for batteries</td>\n",
       "      <td>Lithium batteries are something new introduced...</td>\n",
       "    </tr>\n",
       "    <tr>\n",
       "      <th>2</th>\n",
       "      <td>3</td>\n",
       "      <td>Baby</td>\n",
       "      <td>Fisher-Price Papasan Cradle Swing, Starlight</td>\n",
       "      <td>doesn't swing very well.</td>\n",
       "      <td>I purchased this swing for my baby. She is 6 m...</td>\n",
       "    </tr>\n",
       "    <tr>\n",
       "      <th>3</th>\n",
       "      <td>4</td>\n",
       "      <td>Office Products</td>\n",
       "      <td>Casio MS-80B Standard Function Desktop Calculator</td>\n",
       "      <td>Great computing!</td>\n",
       "      <td>I was looking for an inexpensive desk calcolat...</td>\n",
       "    </tr>\n",
       "    <tr>\n",
       "      <th>4</th>\n",
       "      <td>4</td>\n",
       "      <td>Beauty</td>\n",
       "      <td>Shine Whitening - Zero Peroxide Teeth Whitenin...</td>\n",
       "      <td>Only use twice a week</td>\n",
       "      <td>I only use it twice a week and the results are...</td>\n",
       "    </tr>\n",
       "  </tbody>\n",
       "</table>\n",
       "</div>"
      ],
      "text/plain": [
       "   RATING PRODUCT_CATEGORY                                      PRODUCT_TITLE  \\\n",
       "0       4               PC        Targus PAUK10U Ultra Mini USB Keypad, Black   \n",
       "1       4         Wireless  Note 3 Battery : Stalion Strength Replacement ...   \n",
       "2       3             Baby       Fisher-Price Papasan Cradle Swing, Starlight   \n",
       "3       4  Office Products  Casio MS-80B Standard Function Desktop Calculator   \n",
       "4       4           Beauty  Shine Whitening - Zero Peroxide Teeth Whitenin...   \n",
       "\n",
       "               REVIEW_TITLE                                        REVIEW_TEXT  \n",
       "0                    useful  When least you think so, this product will sav...  \n",
       "1     New era for batteries  Lithium batteries are something new introduced...  \n",
       "2  doesn't swing very well.  I purchased this swing for my baby. She is 6 m...  \n",
       "3          Great computing!  I was looking for an inexpensive desk calcolat...  \n",
       "4     Only use twice a week  I only use it twice a week and the results are...  "
      ]
     },
     "execution_count": 8,
     "metadata": {},
     "output_type": "execute_result"
    }
   ],
   "source": [
    "amazon_reviews.head()"
   ]
  },
  {
   "cell_type": "code",
   "execution_count": 9,
   "metadata": {},
   "outputs": [
    {
     "data": {
      "text/plain": [
       "RATING              21000\n",
       "PRODUCT_CATEGORY    21000\n",
       "PRODUCT_TITLE       21000\n",
       "REVIEW_TITLE        21000\n",
       "REVIEW_TEXT         21000\n",
       "dtype: int64"
      ]
     },
     "execution_count": 9,
     "metadata": {},
     "output_type": "execute_result"
    }
   ],
   "source": [
    "amazon_reviews.count()"
   ]
  },
  {
   "cell_type": "code",
   "execution_count": 10,
   "metadata": {},
   "outputs": [],
   "source": [
    "flipkart_reviews = pd.read_csv('./Flipkart_reviews.csv')"
   ]
  },
  {
   "cell_type": "code",
   "execution_count": 11,
   "metadata": {},
   "outputs": [
    {
     "data": {
      "text/html": [
       "<div>\n",
       "<style scoped>\n",
       "    .dataframe tbody tr th:only-of-type {\n",
       "        vertical-align: middle;\n",
       "    }\n",
       "\n",
       "    .dataframe tbody tr th {\n",
       "        vertical-align: top;\n",
       "    }\n",
       "\n",
       "    .dataframe thead th {\n",
       "        text-align: right;\n",
       "    }\n",
       "</style>\n",
       "<table border=\"1\" class=\"dataframe\">\n",
       "  <thead>\n",
       "    <tr style=\"text-align: right;\">\n",
       "      <th></th>\n",
       "      <th>REVIEW_TEXT</th>\n",
       "      <th>RATING</th>\n",
       "      <th>PRODUCT_TITLE</th>\n",
       "      <th>PRODUCT_CATEGORY</th>\n",
       "      <th>REVIEW_TITLE</th>\n",
       "    </tr>\n",
       "  </thead>\n",
       "  <tbody>\n",
       "    <tr>\n",
       "      <th>0</th>\n",
       "      <td>Not nice</td>\n",
       "      <td>1</td>\n",
       "      <td>Solid Men Mandarin Collar White, Blue T-Shirt</td>\n",
       "      <td>Apparel</td>\n",
       "      <td>NaN</td>\n",
       "    </tr>\n",
       "    <tr>\n",
       "      <th>1</th>\n",
       "      <td>Good quality product</td>\n",
       "      <td>5</td>\n",
       "      <td>Solid Men Mandarin Collar White, Blue T-Shirt</td>\n",
       "      <td>Apparel</td>\n",
       "      <td>NaN</td>\n",
       "    </tr>\n",
       "    <tr>\n",
       "      <th>2</th>\n",
       "      <td>Nice</td>\n",
       "      <td>5</td>\n",
       "      <td>Solid Men Mandarin Collar White, Blue T-Shirt</td>\n",
       "      <td>Apparel</td>\n",
       "      <td>NaN</td>\n",
       "    </tr>\n",
       "    <tr>\n",
       "      <th>3</th>\n",
       "      <td>Very bed</td>\n",
       "      <td>1</td>\n",
       "      <td>Solid Men Mandarin Collar White, Blue T-Shirt</td>\n",
       "      <td>Apparel</td>\n",
       "      <td>NaN</td>\n",
       "    </tr>\n",
       "    <tr>\n",
       "      <th>4</th>\n",
       "      <td>Good</td>\n",
       "      <td>3</td>\n",
       "      <td>Solid Men Mandarin Collar White, Blue T-Shirt</td>\n",
       "      <td>Apparel</td>\n",
       "      <td>NaN</td>\n",
       "    </tr>\n",
       "  </tbody>\n",
       "</table>\n",
       "</div>"
      ],
      "text/plain": [
       "            REVIEW_TEXT  RATING  \\\n",
       "0              Not nice       1   \n",
       "1  Good quality product       5   \n",
       "2                  Nice       5   \n",
       "3              Very bed       1   \n",
       "4                  Good       3   \n",
       "\n",
       "                                   PRODUCT_TITLE PRODUCT_CATEGORY REVIEW_TITLE  \n",
       "0  Solid Men Mandarin Collar White, Blue T-Shirt          Apparel          NaN  \n",
       "1  Solid Men Mandarin Collar White, Blue T-Shirt          Apparel          NaN  \n",
       "2  Solid Men Mandarin Collar White, Blue T-Shirt          Apparel          NaN  \n",
       "3  Solid Men Mandarin Collar White, Blue T-Shirt          Apparel          NaN  \n",
       "4  Solid Men Mandarin Collar White, Blue T-Shirt          Apparel          NaN  "
      ]
     },
     "execution_count": 11,
     "metadata": {},
     "output_type": "execute_result"
    }
   ],
   "source": [
    "flipkart_reviews.head()"
   ]
  },
  {
   "cell_type": "markdown",
   "metadata": {},
   "source": [
    "# Checking data cleanliness"
   ]
  },
  {
   "cell_type": "code",
   "execution_count": 12,
   "metadata": {},
   "outputs": [
    {
     "data": {
      "text/plain": [
       "21000"
      ]
     },
     "execution_count": 12,
     "metadata": {},
     "output_type": "execute_result"
    }
   ],
   "source": [
    "len(amazon_reviews)"
   ]
  },
  {
   "cell_type": "code",
   "execution_count": 13,
   "metadata": {},
   "outputs": [
    {
     "data": {
      "text/plain": [
       "21000"
      ]
     },
     "execution_count": 13,
     "metadata": {},
     "output_type": "execute_result"
    }
   ],
   "source": [
    "len(amazon_reviews.dropna())"
   ]
  },
  {
   "cell_type": "code",
   "execution_count": 14,
   "metadata": {},
   "outputs": [
    {
     "data": {
      "text/plain": [
       "5891"
      ]
     },
     "execution_count": 14,
     "metadata": {},
     "output_type": "execute_result"
    }
   ],
   "source": [
    "len(flipkart_reviews)"
   ]
  },
  {
   "cell_type": "code",
   "execution_count": 15,
   "metadata": {},
   "outputs": [
    {
     "data": {
      "text/plain": [
       "3453"
      ]
     },
     "execution_count": 15,
     "metadata": {},
     "output_type": "execute_result"
    }
   ],
   "source": [
    "len(flipkart_reviews.dropna())"
   ]
  },
  {
   "cell_type": "code",
   "execution_count": 16,
   "metadata": {},
   "outputs": [],
   "source": [
    "# Checking all REVIEW_TEXT are of type 'str'"
   ]
  },
  {
   "cell_type": "code",
   "execution_count": 17,
   "metadata": {},
   "outputs": [],
   "source": [
    "for i in range(0,len(amazon_reviews)-1):\n",
    "    if type(amazon_reviews.iloc[i]['REVIEW_TEXT']) != str:\n",
    "        print(amazon_reviews.iloc[i]['REVIEW_TEXT'])\n",
    "        #amazon_reviews.iloc[i]['REVIEW_TEXT'] = str(amazon_reviews.iloc[i]['REVIEW_TEXT'])"
   ]
  },
  {
   "cell_type": "code",
   "execution_count": 18,
   "metadata": {},
   "outputs": [],
   "source": [
    "flipkart_reviews = flipkart_reviews.fillna(\"NA\")"
   ]
  },
  {
   "cell_type": "code",
   "execution_count": 19,
   "metadata": {},
   "outputs": [],
   "source": [
    "for i in range(0,len(flipkart_reviews)-1):\n",
    "    if type(flipkart_reviews.iloc[i]['REVIEW_TEXT']) != str:\n",
    "        print(flipkart_reviews.iloc[i]['REVIEW_TEXT'])\n",
    "        flipkart_reviews.iloc[i]['REVIEW_TEXT'] = str(flipkart_reviews.iloc[i]['REVIEW_TEXT'])"
   ]
  },
  {
   "cell_type": "markdown",
   "metadata": {},
   "source": [
    "# Sentiment definition"
   ]
  },
  {
   "cell_type": "code",
   "execution_count": 20,
   "metadata": {},
   "outputs": [
    {
     "data": {
      "text/html": [
       "<div>\n",
       "<style scoped>\n",
       "    .dataframe tbody tr th:only-of-type {\n",
       "        vertical-align: middle;\n",
       "    }\n",
       "\n",
       "    .dataframe tbody tr th {\n",
       "        vertical-align: top;\n",
       "    }\n",
       "\n",
       "    .dataframe thead th {\n",
       "        text-align: right;\n",
       "    }\n",
       "</style>\n",
       "<table border=\"1\" class=\"dataframe\">\n",
       "  <thead>\n",
       "    <tr style=\"text-align: right;\">\n",
       "      <th></th>\n",
       "      <th>RATING</th>\n",
       "      <th>PRODUCT_CATEGORY</th>\n",
       "      <th>PRODUCT_TITLE</th>\n",
       "      <th>REVIEW_TITLE</th>\n",
       "      <th>REVIEW_TEXT</th>\n",
       "      <th>SENTIMENT</th>\n",
       "    </tr>\n",
       "  </thead>\n",
       "  <tbody>\n",
       "    <tr>\n",
       "      <th>0</th>\n",
       "      <td>4</td>\n",
       "      <td>PC</td>\n",
       "      <td>Targus PAUK10U Ultra Mini USB Keypad, Black</td>\n",
       "      <td>useful</td>\n",
       "      <td>When least you think so, this product will sav...</td>\n",
       "      <td>1</td>\n",
       "    </tr>\n",
       "    <tr>\n",
       "      <th>1</th>\n",
       "      <td>4</td>\n",
       "      <td>Wireless</td>\n",
       "      <td>Note 3 Battery : Stalion Strength Replacement ...</td>\n",
       "      <td>New era for batteries</td>\n",
       "      <td>Lithium batteries are something new introduced...</td>\n",
       "      <td>1</td>\n",
       "    </tr>\n",
       "    <tr>\n",
       "      <th>3</th>\n",
       "      <td>4</td>\n",
       "      <td>Office Products</td>\n",
       "      <td>Casio MS-80B Standard Function Desktop Calculator</td>\n",
       "      <td>Great computing!</td>\n",
       "      <td>I was looking for an inexpensive desk calcolat...</td>\n",
       "      <td>1</td>\n",
       "    </tr>\n",
       "    <tr>\n",
       "      <th>4</th>\n",
       "      <td>4</td>\n",
       "      <td>Beauty</td>\n",
       "      <td>Shine Whitening - Zero Peroxide Teeth Whitenin...</td>\n",
       "      <td>Only use twice a week</td>\n",
       "      <td>I only use it twice a week and the results are...</td>\n",
       "      <td>1</td>\n",
       "    </tr>\n",
       "    <tr>\n",
       "      <th>6</th>\n",
       "      <td>4</td>\n",
       "      <td>Toys</td>\n",
       "      <td>ESPN 2-Piece Table Tennis</td>\n",
       "      <td>PING PONG TABLE GREAT FOR YOUTHS AND FAMILY</td>\n",
       "      <td>Pleased with ping pong table. 11 year old and ...</td>\n",
       "      <td>1</td>\n",
       "    </tr>\n",
       "  </tbody>\n",
       "</table>\n",
       "</div>"
      ],
      "text/plain": [
       "   RATING PRODUCT_CATEGORY                                      PRODUCT_TITLE  \\\n",
       "0       4               PC        Targus PAUK10U Ultra Mini USB Keypad, Black   \n",
       "1       4         Wireless  Note 3 Battery : Stalion Strength Replacement ...   \n",
       "3       4  Office Products  Casio MS-80B Standard Function Desktop Calculator   \n",
       "4       4           Beauty  Shine Whitening - Zero Peroxide Teeth Whitenin...   \n",
       "6       4             Toys                          ESPN 2-Piece Table Tennis   \n",
       "\n",
       "                                  REVIEW_TITLE  \\\n",
       "0                                       useful   \n",
       "1                        New era for batteries   \n",
       "3                             Great computing!   \n",
       "4                        Only use twice a week   \n",
       "6  PING PONG TABLE GREAT FOR YOUTHS AND FAMILY   \n",
       "\n",
       "                                         REVIEW_TEXT  SENTIMENT  \n",
       "0  When least you think so, this product will sav...          1  \n",
       "1  Lithium batteries are something new introduced...          1  \n",
       "3  I was looking for an inexpensive desk calcolat...          1  \n",
       "4  I only use it twice a week and the results are...          1  \n",
       "6  Pleased with ping pong table. 11 year old and ...          1  "
      ]
     },
     "execution_count": 20,
     "metadata": {},
     "output_type": "execute_result"
    }
   ],
   "source": [
    "def sentiment(n):\n",
    "    return 1 if n >= 4 else 0\n",
    "\n",
    "amazon_reviews = amazon_reviews[amazon_reviews['RATING'] != 3]\n",
    "amazon_reviews['SENTIMENT'] = amazon_reviews['RATING'].apply(sentiment)\n",
    "amazon_reviews.head()"
   ]
  },
  {
   "cell_type": "code",
   "execution_count": 21,
   "metadata": {},
   "outputs": [
    {
     "data": {
      "text/html": [
       "<div>\n",
       "<style scoped>\n",
       "    .dataframe tbody tr th:only-of-type {\n",
       "        vertical-align: middle;\n",
       "    }\n",
       "\n",
       "    .dataframe tbody tr th {\n",
       "        vertical-align: top;\n",
       "    }\n",
       "\n",
       "    .dataframe thead th {\n",
       "        text-align: right;\n",
       "    }\n",
       "</style>\n",
       "<table border=\"1\" class=\"dataframe\">\n",
       "  <thead>\n",
       "    <tr style=\"text-align: right;\">\n",
       "      <th></th>\n",
       "      <th>REVIEW_TEXT</th>\n",
       "      <th>RATING</th>\n",
       "      <th>PRODUCT_TITLE</th>\n",
       "      <th>PRODUCT_CATEGORY</th>\n",
       "      <th>REVIEW_TITLE</th>\n",
       "      <th>SENTIMENT</th>\n",
       "    </tr>\n",
       "  </thead>\n",
       "  <tbody>\n",
       "    <tr>\n",
       "      <th>0</th>\n",
       "      <td>Not nice</td>\n",
       "      <td>1</td>\n",
       "      <td>Solid Men Mandarin Collar White, Blue T-Shirt</td>\n",
       "      <td>Apparel</td>\n",
       "      <td>NA</td>\n",
       "      <td>0</td>\n",
       "    </tr>\n",
       "    <tr>\n",
       "      <th>1</th>\n",
       "      <td>Good quality product</td>\n",
       "      <td>5</td>\n",
       "      <td>Solid Men Mandarin Collar White, Blue T-Shirt</td>\n",
       "      <td>Apparel</td>\n",
       "      <td>NA</td>\n",
       "      <td>1</td>\n",
       "    </tr>\n",
       "    <tr>\n",
       "      <th>2</th>\n",
       "      <td>Nice</td>\n",
       "      <td>5</td>\n",
       "      <td>Solid Men Mandarin Collar White, Blue T-Shirt</td>\n",
       "      <td>Apparel</td>\n",
       "      <td>NA</td>\n",
       "      <td>1</td>\n",
       "    </tr>\n",
       "    <tr>\n",
       "      <th>3</th>\n",
       "      <td>Very bed</td>\n",
       "      <td>1</td>\n",
       "      <td>Solid Men Mandarin Collar White, Blue T-Shirt</td>\n",
       "      <td>Apparel</td>\n",
       "      <td>NA</td>\n",
       "      <td>0</td>\n",
       "    </tr>\n",
       "    <tr>\n",
       "      <th>5</th>\n",
       "      <td>Good product</td>\n",
       "      <td>5</td>\n",
       "      <td>Solid Men Mandarin Collar White, Blue T-Shirt</td>\n",
       "      <td>Apparel</td>\n",
       "      <td>NA</td>\n",
       "      <td>1</td>\n",
       "    </tr>\n",
       "  </tbody>\n",
       "</table>\n",
       "</div>"
      ],
      "text/plain": [
       "            REVIEW_TEXT  RATING  \\\n",
       "0              Not nice       1   \n",
       "1  Good quality product       5   \n",
       "2                  Nice       5   \n",
       "3              Very bed       1   \n",
       "5          Good product       5   \n",
       "\n",
       "                                   PRODUCT_TITLE PRODUCT_CATEGORY  \\\n",
       "0  Solid Men Mandarin Collar White, Blue T-Shirt          Apparel   \n",
       "1  Solid Men Mandarin Collar White, Blue T-Shirt          Apparel   \n",
       "2  Solid Men Mandarin Collar White, Blue T-Shirt          Apparel   \n",
       "3  Solid Men Mandarin Collar White, Blue T-Shirt          Apparel   \n",
       "5  Solid Men Mandarin Collar White, Blue T-Shirt          Apparel   \n",
       "\n",
       "  REVIEW_TITLE  SENTIMENT  \n",
       "0           NA          0  \n",
       "1           NA          1  \n",
       "2           NA          1  \n",
       "3           NA          0  \n",
       "5           NA          1  "
      ]
     },
     "execution_count": 21,
     "metadata": {},
     "output_type": "execute_result"
    }
   ],
   "source": [
    "flipkart_reviews = flipkart_reviews[flipkart_reviews['RATING'] != 3]\n",
    "flipkart_reviews['SENTIMENT'] = flipkart_reviews['RATING'].apply(sentiment)\n",
    "flipkart_reviews.head()"
   ]
  },
  {
   "cell_type": "markdown",
   "metadata": {},
   "source": [
    "# Data Pre-processing "
   ]
  },
  {
   "cell_type": "code",
   "execution_count": 22,
   "metadata": {},
   "outputs": [
    {
     "data": {
      "text/html": [
       "<div>\n",
       "<style scoped>\n",
       "    .dataframe tbody tr th:only-of-type {\n",
       "        vertical-align: middle;\n",
       "    }\n",
       "\n",
       "    .dataframe tbody tr th {\n",
       "        vertical-align: top;\n",
       "    }\n",
       "\n",
       "    .dataframe thead th {\n",
       "        text-align: right;\n",
       "    }\n",
       "</style>\n",
       "<table border=\"1\" class=\"dataframe\">\n",
       "  <thead>\n",
       "    <tr style=\"text-align: right;\">\n",
       "      <th></th>\n",
       "      <th>RATING</th>\n",
       "      <th>PRODUCT_CATEGORY</th>\n",
       "      <th>PRODUCT_TITLE</th>\n",
       "      <th>REVIEW_TITLE</th>\n",
       "      <th>REVIEW_TEXT</th>\n",
       "      <th>SENTIMENT</th>\n",
       "      <th>ALL_FEATURES</th>\n",
       "    </tr>\n",
       "  </thead>\n",
       "  <tbody>\n",
       "    <tr>\n",
       "      <th>0</th>\n",
       "      <td>4</td>\n",
       "      <td>PC</td>\n",
       "      <td>Targus PAUK10U Ultra Mini USB Keypad, Black</td>\n",
       "      <td>useful</td>\n",
       "      <td>When least you think so, this product will sav...</td>\n",
       "      <td>1</td>\n",
       "      <td>Targus PAUK10U Ultra Mini USB Keypad, Black us...</td>\n",
       "    </tr>\n",
       "    <tr>\n",
       "      <th>1</th>\n",
       "      <td>4</td>\n",
       "      <td>Wireless</td>\n",
       "      <td>Note 3 Battery : Stalion Strength Replacement ...</td>\n",
       "      <td>New era for batteries</td>\n",
       "      <td>Lithium batteries are something new introduced...</td>\n",
       "      <td>1</td>\n",
       "      <td>Note 3 Battery : Stalion Strength Replacement ...</td>\n",
       "    </tr>\n",
       "    <tr>\n",
       "      <th>3</th>\n",
       "      <td>4</td>\n",
       "      <td>Office Products</td>\n",
       "      <td>Casio MS-80B Standard Function Desktop Calculator</td>\n",
       "      <td>Great computing!</td>\n",
       "      <td>I was looking for an inexpensive desk calcolat...</td>\n",
       "      <td>1</td>\n",
       "      <td>Casio MS-80B Standard Function Desktop Calcula...</td>\n",
       "    </tr>\n",
       "    <tr>\n",
       "      <th>4</th>\n",
       "      <td>4</td>\n",
       "      <td>Beauty</td>\n",
       "      <td>Shine Whitening - Zero Peroxide Teeth Whitenin...</td>\n",
       "      <td>Only use twice a week</td>\n",
       "      <td>I only use it twice a week and the results are...</td>\n",
       "      <td>1</td>\n",
       "      <td>Shine Whitening - Zero Peroxide Teeth Whitenin...</td>\n",
       "    </tr>\n",
       "    <tr>\n",
       "      <th>6</th>\n",
       "      <td>4</td>\n",
       "      <td>Toys</td>\n",
       "      <td>ESPN 2-Piece Table Tennis</td>\n",
       "      <td>PING PONG TABLE GREAT FOR YOUTHS AND FAMILY</td>\n",
       "      <td>Pleased with ping pong table. 11 year old and ...</td>\n",
       "      <td>1</td>\n",
       "      <td>ESPN 2-Piece Table Tennis PING PONG TABLE GREA...</td>\n",
       "    </tr>\n",
       "  </tbody>\n",
       "</table>\n",
       "</div>"
      ],
      "text/plain": [
       "   RATING PRODUCT_CATEGORY                                      PRODUCT_TITLE  \\\n",
       "0       4               PC        Targus PAUK10U Ultra Mini USB Keypad, Black   \n",
       "1       4         Wireless  Note 3 Battery : Stalion Strength Replacement ...   \n",
       "3       4  Office Products  Casio MS-80B Standard Function Desktop Calculator   \n",
       "4       4           Beauty  Shine Whitening - Zero Peroxide Teeth Whitenin...   \n",
       "6       4             Toys                          ESPN 2-Piece Table Tennis   \n",
       "\n",
       "                                  REVIEW_TITLE  \\\n",
       "0                                       useful   \n",
       "1                        New era for batteries   \n",
       "3                             Great computing!   \n",
       "4                        Only use twice a week   \n",
       "6  PING PONG TABLE GREAT FOR YOUTHS AND FAMILY   \n",
       "\n",
       "                                         REVIEW_TEXT  SENTIMENT  \\\n",
       "0  When least you think so, this product will sav...          1   \n",
       "1  Lithium batteries are something new introduced...          1   \n",
       "3  I was looking for an inexpensive desk calcolat...          1   \n",
       "4  I only use it twice a week and the results are...          1   \n",
       "6  Pleased with ping pong table. 11 year old and ...          1   \n",
       "\n",
       "                                        ALL_FEATURES  \n",
       "0  Targus PAUK10U Ultra Mini USB Keypad, Black us...  \n",
       "1  Note 3 Battery : Stalion Strength Replacement ...  \n",
       "3  Casio MS-80B Standard Function Desktop Calcula...  \n",
       "4  Shine Whitening - Zero Peroxide Teeth Whitenin...  \n",
       "6  ESPN 2-Piece Table Tennis PING PONG TABLE GREA...  "
      ]
     },
     "execution_count": 22,
     "metadata": {},
     "output_type": "execute_result"
    }
   ],
   "source": [
    "def combined_features(row):\n",
    "    return row['PRODUCT_TITLE'] + ' '+ row['REVIEW_TITLE'] + ' ' + row['REVIEW_TEXT']\n",
    "amazon_reviews['ALL_FEATURES'] = amazon_reviews.apply(combined_features, axis=1)\n",
    "amazon_reviews.head()"
   ]
  },
  {
   "cell_type": "code",
   "execution_count": 23,
   "metadata": {},
   "outputs": [
    {
     "data": {
      "text/html": [
       "<div>\n",
       "<style scoped>\n",
       "    .dataframe tbody tr th:only-of-type {\n",
       "        vertical-align: middle;\n",
       "    }\n",
       "\n",
       "    .dataframe tbody tr th {\n",
       "        vertical-align: top;\n",
       "    }\n",
       "\n",
       "    .dataframe thead th {\n",
       "        text-align: right;\n",
       "    }\n",
       "</style>\n",
       "<table border=\"1\" class=\"dataframe\">\n",
       "  <thead>\n",
       "    <tr style=\"text-align: right;\">\n",
       "      <th></th>\n",
       "      <th>REVIEW_TEXT</th>\n",
       "      <th>RATING</th>\n",
       "      <th>PRODUCT_TITLE</th>\n",
       "      <th>PRODUCT_CATEGORY</th>\n",
       "      <th>REVIEW_TITLE</th>\n",
       "      <th>SENTIMENT</th>\n",
       "      <th>ALL_FEATURES</th>\n",
       "    </tr>\n",
       "  </thead>\n",
       "  <tbody>\n",
       "    <tr>\n",
       "      <th>0</th>\n",
       "      <td>Not nice</td>\n",
       "      <td>1</td>\n",
       "      <td>Solid Men Mandarin Collar White, Blue T-Shirt</td>\n",
       "      <td>Apparel</td>\n",
       "      <td>NA</td>\n",
       "      <td>0</td>\n",
       "      <td>Solid Men Mandarin Collar White, Blue T-Shirt ...</td>\n",
       "    </tr>\n",
       "    <tr>\n",
       "      <th>1</th>\n",
       "      <td>Good quality product</td>\n",
       "      <td>5</td>\n",
       "      <td>Solid Men Mandarin Collar White, Blue T-Shirt</td>\n",
       "      <td>Apparel</td>\n",
       "      <td>NA</td>\n",
       "      <td>1</td>\n",
       "      <td>Solid Men Mandarin Collar White, Blue T-Shirt ...</td>\n",
       "    </tr>\n",
       "    <tr>\n",
       "      <th>2</th>\n",
       "      <td>Nice</td>\n",
       "      <td>5</td>\n",
       "      <td>Solid Men Mandarin Collar White, Blue T-Shirt</td>\n",
       "      <td>Apparel</td>\n",
       "      <td>NA</td>\n",
       "      <td>1</td>\n",
       "      <td>Solid Men Mandarin Collar White, Blue T-Shirt ...</td>\n",
       "    </tr>\n",
       "    <tr>\n",
       "      <th>3</th>\n",
       "      <td>Very bed</td>\n",
       "      <td>1</td>\n",
       "      <td>Solid Men Mandarin Collar White, Blue T-Shirt</td>\n",
       "      <td>Apparel</td>\n",
       "      <td>NA</td>\n",
       "      <td>0</td>\n",
       "      <td>Solid Men Mandarin Collar White, Blue T-Shirt ...</td>\n",
       "    </tr>\n",
       "    <tr>\n",
       "      <th>5</th>\n",
       "      <td>Good product</td>\n",
       "      <td>5</td>\n",
       "      <td>Solid Men Mandarin Collar White, Blue T-Shirt</td>\n",
       "      <td>Apparel</td>\n",
       "      <td>NA</td>\n",
       "      <td>1</td>\n",
       "      <td>Solid Men Mandarin Collar White, Blue T-Shirt ...</td>\n",
       "    </tr>\n",
       "  </tbody>\n",
       "</table>\n",
       "</div>"
      ],
      "text/plain": [
       "            REVIEW_TEXT  RATING  \\\n",
       "0              Not nice       1   \n",
       "1  Good quality product       5   \n",
       "2                  Nice       5   \n",
       "3              Very bed       1   \n",
       "5          Good product       5   \n",
       "\n",
       "                                   PRODUCT_TITLE PRODUCT_CATEGORY  \\\n",
       "0  Solid Men Mandarin Collar White, Blue T-Shirt          Apparel   \n",
       "1  Solid Men Mandarin Collar White, Blue T-Shirt          Apparel   \n",
       "2  Solid Men Mandarin Collar White, Blue T-Shirt          Apparel   \n",
       "3  Solid Men Mandarin Collar White, Blue T-Shirt          Apparel   \n",
       "5  Solid Men Mandarin Collar White, Blue T-Shirt          Apparel   \n",
       "\n",
       "  REVIEW_TITLE  SENTIMENT                                       ALL_FEATURES  \n",
       "0           NA          0  Solid Men Mandarin Collar White, Blue T-Shirt ...  \n",
       "1           NA          1  Solid Men Mandarin Collar White, Blue T-Shirt ...  \n",
       "2           NA          1  Solid Men Mandarin Collar White, Blue T-Shirt ...  \n",
       "3           NA          0  Solid Men Mandarin Collar White, Blue T-Shirt ...  \n",
       "5           NA          1  Solid Men Mandarin Collar White, Blue T-Shirt ...  "
      ]
     },
     "execution_count": 23,
     "metadata": {},
     "output_type": "execute_result"
    }
   ],
   "source": [
    "flipkart_reviews['ALL_FEATURES'] = flipkart_reviews.apply(combined_features, axis=1)\n",
    "flipkart_reviews.head()"
   ]
  },
  {
   "cell_type": "code",
   "execution_count": 24,
   "metadata": {},
   "outputs": [],
   "source": [
    "flipkart_reviews['SOURCE'] = 'Flipkart'"
   ]
  },
  {
   "cell_type": "code",
   "execution_count": 25,
   "metadata": {},
   "outputs": [],
   "source": [
    "amazon_reviews['SOURCE'] = 'Amazon'"
   ]
  },
  {
   "cell_type": "code",
   "execution_count": 26,
   "metadata": {},
   "outputs": [],
   "source": [
    "import nltk\n",
    "from nltk.tokenize.toktok import ToktokTokenizer\n",
    "from nltk.stem import LancasterStemmer,WordNetLemmatizer\n",
    "from nltk.corpus import stopwords\n",
    "from bs4 import BeautifulSoup as bs \n",
    "import re"
   ]
  },
  {
   "cell_type": "code",
   "execution_count": 27,
   "metadata": {},
   "outputs": [],
   "source": [
    "import sklearn"
   ]
  },
  {
   "cell_type": "code",
   "execution_count": 28,
   "metadata": {},
   "outputs": [
    {
     "name": "stderr",
     "output_type": "stream",
     "text": [
      "[nltk_data] Downloading package stopwords to\n",
      "[nltk_data]     C:\\Users\\Nikita\\AppData\\Roaming\\nltk_data...\n",
      "[nltk_data]   Package stopwords is already up-to-date!\n"
     ]
    },
    {
     "data": {
      "text/plain": [
       "True"
      ]
     },
     "execution_count": 28,
     "metadata": {},
     "output_type": "execute_result"
    }
   ],
   "source": [
    "nltk.download('stopwords')"
   ]
  },
  {
   "cell_type": "code",
   "execution_count": 29,
   "metadata": {},
   "outputs": [],
   "source": [
    "#Tokenization of text\n",
    "tokenizer=ToktokTokenizer()\n",
    "#Setting English stopwords\n",
    "stopword_list=nltk.corpus.stopwords.words('english')"
   ]
  },
  {
   "cell_type": "code",
   "execution_count": 30,
   "metadata": {},
   "outputs": [],
   "source": [
    "#Removing the html strips\n",
    "def strip_html(text):\n",
    "    soup = bs(text, \"html.parser\")\n",
    "    return soup.get_text()\n",
    "\n",
    "#Removing the square brackets\n",
    "def remove_between_square_brackets(text):\n",
    "    return re.sub('\\[[^]]*\\]', '', text)\n",
    "\n",
    "#Removing the noisy text\n",
    "def denoise_text(text):\n",
    "    text = strip_html(text)\n",
    "    text = remove_between_square_brackets(text)\n",
    "    return text\n",
    "\n",
    "amazon_reviews['REVIEW_TEXT']=amazon_reviews['REVIEW_TEXT'].apply(denoise_text)"
   ]
  },
  {
   "cell_type": "code",
   "execution_count": 31,
   "metadata": {},
   "outputs": [],
   "source": [
    "def remove_special_characters(text, remove_digits=True):\n",
    "    pattern=r'[^a-zA-z0-9\\s]'\n",
    "    text=re.sub(pattern,'',text)\n",
    "    return text"
   ]
  },
  {
   "cell_type": "code",
   "execution_count": 32,
   "metadata": {},
   "outputs": [],
   "source": [
    "amazon_reviews['REVIEW_TEXT']=amazon_reviews['REVIEW_TEXT'].apply(remove_special_characters)\n",
    "flipkart_reviews['REVIEW_TEXT']=flipkart_reviews['REVIEW_TEXT'].apply(remove_special_characters)"
   ]
  },
  {
   "cell_type": "code",
   "execution_count": 33,
   "metadata": {},
   "outputs": [
    {
     "data": {
      "text/html": [
       "<div>\n",
       "<style scoped>\n",
       "    .dataframe tbody tr th:only-of-type {\n",
       "        vertical-align: middle;\n",
       "    }\n",
       "\n",
       "    .dataframe tbody tr th {\n",
       "        vertical-align: top;\n",
       "    }\n",
       "\n",
       "    .dataframe thead th {\n",
       "        text-align: right;\n",
       "    }\n",
       "</style>\n",
       "<table border=\"1\" class=\"dataframe\">\n",
       "  <thead>\n",
       "    <tr style=\"text-align: right;\">\n",
       "      <th></th>\n",
       "      <th>RATING</th>\n",
       "      <th>PRODUCT_CATEGORY</th>\n",
       "      <th>PRODUCT_TITLE</th>\n",
       "      <th>REVIEW_TITLE</th>\n",
       "      <th>REVIEW_TEXT</th>\n",
       "      <th>SENTIMENT</th>\n",
       "      <th>ALL_FEATURES</th>\n",
       "      <th>SOURCE</th>\n",
       "    </tr>\n",
       "  </thead>\n",
       "  <tbody>\n",
       "    <tr>\n",
       "      <th>0</th>\n",
       "      <td>4</td>\n",
       "      <td>PC</td>\n",
       "      <td>Targus PAUK10U Ultra Mini USB Keypad, Black</td>\n",
       "      <td>useful</td>\n",
       "      <td>When least you think so this product will save...</td>\n",
       "      <td>1</td>\n",
       "      <td>Targus PAUK10U Ultra Mini USB Keypad, Black us...</td>\n",
       "      <td>Amazon</td>\n",
       "    </tr>\n",
       "    <tr>\n",
       "      <th>1</th>\n",
       "      <td>4</td>\n",
       "      <td>Wireless</td>\n",
       "      <td>Note 3 Battery : Stalion Strength Replacement ...</td>\n",
       "      <td>New era for batteries</td>\n",
       "      <td>Lithium batteries are something new introduced...</td>\n",
       "      <td>1</td>\n",
       "      <td>Note 3 Battery : Stalion Strength Replacement ...</td>\n",
       "      <td>Amazon</td>\n",
       "    </tr>\n",
       "    <tr>\n",
       "      <th>3</th>\n",
       "      <td>4</td>\n",
       "      <td>Office Products</td>\n",
       "      <td>Casio MS-80B Standard Function Desktop Calculator</td>\n",
       "      <td>Great computing!</td>\n",
       "      <td>I was looking for an inexpensive desk calcolat...</td>\n",
       "      <td>1</td>\n",
       "      <td>Casio MS-80B Standard Function Desktop Calcula...</td>\n",
       "      <td>Amazon</td>\n",
       "    </tr>\n",
       "    <tr>\n",
       "      <th>4</th>\n",
       "      <td>4</td>\n",
       "      <td>Beauty</td>\n",
       "      <td>Shine Whitening - Zero Peroxide Teeth Whitenin...</td>\n",
       "      <td>Only use twice a week</td>\n",
       "      <td>I only use it twice a week and the results are...</td>\n",
       "      <td>1</td>\n",
       "      <td>Shine Whitening - Zero Peroxide Teeth Whitenin...</td>\n",
       "      <td>Amazon</td>\n",
       "    </tr>\n",
       "    <tr>\n",
       "      <th>6</th>\n",
       "      <td>4</td>\n",
       "      <td>Toys</td>\n",
       "      <td>ESPN 2-Piece Table Tennis</td>\n",
       "      <td>PING PONG TABLE GREAT FOR YOUTHS AND FAMILY</td>\n",
       "      <td>Pleased with ping pong table 11 year old and 1...</td>\n",
       "      <td>1</td>\n",
       "      <td>ESPN 2-Piece Table Tennis PING PONG TABLE GREA...</td>\n",
       "      <td>Amazon</td>\n",
       "    </tr>\n",
       "  </tbody>\n",
       "</table>\n",
       "</div>"
      ],
      "text/plain": [
       "   RATING PRODUCT_CATEGORY                                      PRODUCT_TITLE  \\\n",
       "0       4               PC        Targus PAUK10U Ultra Mini USB Keypad, Black   \n",
       "1       4         Wireless  Note 3 Battery : Stalion Strength Replacement ...   \n",
       "3       4  Office Products  Casio MS-80B Standard Function Desktop Calculator   \n",
       "4       4           Beauty  Shine Whitening - Zero Peroxide Teeth Whitenin...   \n",
       "6       4             Toys                          ESPN 2-Piece Table Tennis   \n",
       "\n",
       "                                  REVIEW_TITLE  \\\n",
       "0                                       useful   \n",
       "1                        New era for batteries   \n",
       "3                             Great computing!   \n",
       "4                        Only use twice a week   \n",
       "6  PING PONG TABLE GREAT FOR YOUTHS AND FAMILY   \n",
       "\n",
       "                                         REVIEW_TEXT  SENTIMENT  \\\n",
       "0  When least you think so this product will save...          1   \n",
       "1  Lithium batteries are something new introduced...          1   \n",
       "3  I was looking for an inexpensive desk calcolat...          1   \n",
       "4  I only use it twice a week and the results are...          1   \n",
       "6  Pleased with ping pong table 11 year old and 1...          1   \n",
       "\n",
       "                                        ALL_FEATURES  SOURCE  \n",
       "0  Targus PAUK10U Ultra Mini USB Keypad, Black us...  Amazon  \n",
       "1  Note 3 Battery : Stalion Strength Replacement ...  Amazon  \n",
       "3  Casio MS-80B Standard Function Desktop Calcula...  Amazon  \n",
       "4  Shine Whitening - Zero Peroxide Teeth Whitenin...  Amazon  \n",
       "6  ESPN 2-Piece Table Tennis PING PONG TABLE GREA...  Amazon  "
      ]
     },
     "execution_count": 33,
     "metadata": {},
     "output_type": "execute_result"
    }
   ],
   "source": [
    "amazon_reviews.head()"
   ]
  },
  {
   "cell_type": "code",
   "execution_count": 34,
   "metadata": {},
   "outputs": [],
   "source": [
    "def simple_stemmer(text):\n",
    "    ps=nltk.porter.PorterStemmer()\n",
    "    text= ' '.join([ps.stem(word) for word in text.split()])\n",
    "    return text"
   ]
  },
  {
   "cell_type": "code",
   "execution_count": 35,
   "metadata": {},
   "outputs": [],
   "source": [
    "amazon_reviews['REVIEW_TEXT']=amazon_reviews['REVIEW_TEXT'].apply(simple_stemmer)\n",
    "flipkart_reviews['REVIEW_TEXT']=flipkart_reviews['REVIEW_TEXT'].apply(simple_stemmer)"
   ]
  },
  {
   "cell_type": "code",
   "execution_count": 36,
   "metadata": {},
   "outputs": [
    {
     "name": "stdout",
     "output_type": "stream",
     "text": [
      "{'of', 'for', 'there', \"isn't\", 'him', 'than', \"shouldn't\", 'hadn', 'won', 'ain', 'himself', 'can', \"won't\", 'our', 'mightn', \"mightn't\", 'very', 'don', 'how', 'in', 'be', 'their', 'ourselves', \"wasn't\", 'mustn', \"didn't\", 'from', 'those', 'he', \"haven't\", \"weren't\", 'most', 'same', 'm', 'yourself', 'being', 'themselves', 'needn', 'i', 'do', 'so', 'her', 'then', 'y', 'each', 'shan', 'further', 'who', 'didn', 'she', 'my', 'too', 'any', 'having', 'until', \"you'd\", \"aren't\", 'is', \"you're\", 'it', 'aren', \"you'll\", 'at', 'again', 'yours', 'after', 'just', 'ours', 'off', 'some', \"don't\", 'here', 'were', 'whom', 'these', 'doesn', 'or', 'does', 'them', 'into', \"needn't\", 'did', 'this', 'above', \"you've\", 'wouldn', 'if', 'hers', 'under', 'and', 'what', \"doesn't\", 'only', 'ma', 'myself', 'an', 're', \"wouldn't\", 'about', \"hadn't\", 'yourselves', 'which', 'as', 'o', 't', 'between', \"hasn't\", 'over', 'll', 'his', 'we', 'your', 've', 'on', 'while', \"should've\", 'more', 'during', 'nor', 'has', 'both', 'am', 'no', 'not', 'are', 'but', 'you', 'because', 'to', 'couldn', 'itself', 'was', 'out', \"she's\", 'own', 'me', 'where', \"mustn't\", 'should', 'a', 'when', 'by', 'with', 'few', 'hasn', 'have', 'why', 'theirs', 'such', 'before', 'doing', 'through', 'its', 's', 'up', 'isn', 'below', \"it's\", 'once', 'had', 'weren', 'that', 'they', 'against', 'now', \"shan't\", 'down', 'will', 'shouldn', 'all', 'other', 'haven', 'been', \"couldn't\", 'wasn', 'herself', \"that'll\", 'd', 'the'}\n"
     ]
    }
   ],
   "source": [
    "stop=set(stopwords.words('english'))\n",
    "print(stop)\n",
    "\n",
    "def remove_stopwords(text, is_lower_case=False):\n",
    "    tokens = tokenizer.tokenize(text)\n",
    "    tokens = [token.strip() for token in tokens]\n",
    "    if is_lower_case:\n",
    "        filtered_tokens = [token for token in tokens if token not in stopword_list]\n",
    "    else:\n",
    "        filtered_tokens = [token for token in tokens if token.lower() not in stopword_list]\n",
    "    filtered_text = ' '.join(filtered_tokens)    \n",
    "    return filtered_text"
   ]
  },
  {
   "cell_type": "code",
   "execution_count": 39,
   "metadata": {},
   "outputs": [],
   "source": [
    "amazon_reviews['REVIEW_TEXT']=amazon_reviews['REVIEW_TEXT'].apply(remove_stopwords)\n",
    "flipkart_reviews['REVIEW_TEXT']=flipkart_reviews['REVIEW_TEXT'].apply(remove_stopwords)"
   ]
  },
  {
   "cell_type": "code",
   "execution_count": 40,
   "metadata": {},
   "outputs": [],
   "source": [
    "amazon_reviews = amazon_reviews[amazon_reviews['PRODUCT_CATEGORY'] == 'Home']"
   ]
  },
  {
   "cell_type": "code",
   "execution_count": 41,
   "metadata": {},
   "outputs": [],
   "source": [
    "flipkart_reviews = flipkart_reviews[flipkart_reviews['PRODUCT_CATEGORY'] == 'Home']"
   ]
  },
  {
   "cell_type": "code",
   "execution_count": 42,
   "metadata": {},
   "outputs": [],
   "source": [
    "X_Amazon = amazon_reviews['ALL_FEATURES']\n",
    "y_Amazon = amazon_reviews['SENTIMENT']"
   ]
  },
  {
   "cell_type": "code",
   "execution_count": 43,
   "metadata": {},
   "outputs": [],
   "source": [
    "X_Flipkart = flipkart_reviews['ALL_FEATURES']\n",
    "y_Flipkart = flipkart_reviews['SENTIMENT']"
   ]
  },
  {
   "cell_type": "code",
   "execution_count": 44,
   "metadata": {},
   "outputs": [],
   "source": [
    "from sklearn.model_selection import train_test_split\n",
    "X_train_Amazon, X_test_Amazon, y_train_Amazon, y_test_Amazon = train_test_split(X_Amazon, y_Amazon, random_state=0)\n",
    "X_train_Flipkart, X_test_Flipkart, y_train_Flipkart, y_test_Flipkart = train_test_split(X_Flipkart, y_Flipkart, random_state=0)"
   ]
  },
  {
   "cell_type": "markdown",
   "metadata": {},
   "source": [
    "# Bag of words model"
   ]
  },
  {
   "cell_type": "code",
   "execution_count": 45,
   "metadata": {},
   "outputs": [],
   "source": [
    "from sklearn.feature_extraction.text import CountVectorizer\n",
    "cv = CountVectorizer()\n",
    "ctmTr = cv.fit_transform(X_train_Amazon)\n",
    "X_test_dtm = cv.transform(X_test_Amazon)"
   ]
  },
  {
   "cell_type": "code",
   "execution_count": 46,
   "metadata": {},
   "outputs": [],
   "source": [
    "ctmTr_Flip = cv.fit_transform(X_train_Flipkart)\n",
    "X_test_dtm_Flip = cv.transform(X_test_Flipkart)"
   ]
  },
  {
   "cell_type": "code",
   "execution_count": 47,
   "metadata": {},
   "outputs": [
    {
     "data": {
      "text/plain": [
       "LogisticRegression()"
      ]
     },
     "execution_count": 47,
     "metadata": {},
     "output_type": "execute_result"
    }
   ],
   "source": [
    "from sklearn.linear_model import LogisticRegression\n",
    "from sklearn.metrics import accuracy_score\n",
    "model = LogisticRegression()\n",
    "model.fit(ctmTr, y_train_Amazon)"
   ]
  },
  {
   "cell_type": "code",
   "execution_count": 48,
   "metadata": {},
   "outputs": [
    {
     "data": {
      "text/plain": [
       "LogisticRegression()"
      ]
     },
     "execution_count": 48,
     "metadata": {},
     "output_type": "execute_result"
    }
   ],
   "source": [
    "model_Flip = LogisticRegression()\n",
    "model_Flip.fit(ctmTr_Flip, y_train_Flipkart)"
   ]
  },
  {
   "cell_type": "code",
   "execution_count": 49,
   "metadata": {},
   "outputs": [],
   "source": [
    "y_pred_class = model.predict(X_test_dtm)"
   ]
  },
  {
   "cell_type": "code",
   "execution_count": 50,
   "metadata": {},
   "outputs": [
    {
     "data": {
      "text/plain": [
       "0.9130434782608695"
      ]
     },
     "execution_count": 50,
     "metadata": {},
     "output_type": "execute_result"
    }
   ],
   "source": [
    "accuracy_score(y_test_Amazon, y_pred_class)"
   ]
  },
  {
   "cell_type": "code",
   "execution_count": 51,
   "metadata": {},
   "outputs": [
    {
     "data": {
      "text/plain": [
       "array([1, 1, 1, 1, 1, 1, 1, 1, 1, 1, 1, 0, 1, 1, 1, 1, 1, 1, 1, 0, 0, 1,\n",
       "       1, 1, 1, 1, 1, 1, 1, 1, 1, 1, 1, 1, 1, 1, 1, 1, 1, 1, 1, 1, 1, 1,\n",
       "       1, 1, 1, 1, 1, 1, 1, 1, 1, 1, 1, 1, 1, 1, 1, 1, 1, 1, 1, 1, 1, 0,\n",
       "       1, 1, 1, 1, 1, 1, 1, 1, 1, 1, 1, 1, 1, 1, 1, 1, 1, 1, 1, 1, 1, 1,\n",
       "       1, 1, 1, 1, 1, 1, 1, 1, 0, 1, 0, 1, 0, 1, 1, 1, 1, 0, 1, 0, 1, 1,\n",
       "       0, 1, 1, 1, 1, 0, 1, 1, 1, 1, 1, 1, 1, 1, 1, 1, 1, 1, 1, 1, 1, 1,\n",
       "       1, 1, 1, 1, 1, 0, 0, 1, 1, 1, 1, 1, 1, 1, 1, 1, 1, 0, 1, 1, 1, 1,\n",
       "       1, 1, 1, 1, 1, 1, 1], dtype=int64)"
      ]
     },
     "execution_count": 51,
     "metadata": {},
     "output_type": "execute_result"
    }
   ],
   "source": [
    "y_pred_class"
   ]
  },
  {
   "cell_type": "code",
   "execution_count": 52,
   "metadata": {},
   "outputs": [
    {
     "data": {
      "text/plain": [
       "20042    Lion Brand Yarn 400-5-7002 Knitting Spool Knit...\n",
       "5261     Quick Dry Hanging Toiletry and Bath Organizer ...\n",
       "14852    La Crosse Technology WS-9080U-IT Wireless IN/O...\n",
       "6643     Spanish Talking Alarm Clock, Big Clear Display...\n",
       "13732    Loew Cornell 1021095 Simply Art Watercolor Cak...\n",
       "                               ...                        \n",
       "6633     BISSELL 2X Pet Stain & Odor Portable Machine F...\n",
       "2409     Hoover Max Extract 77 Multi-Surface Pro Carpet...\n",
       "17796    InterDesign 3 Drawer Storage Organizer for Cos...\n",
       "12446    Shark Rotator Powered Lift-Away TruePet (NV752...\n",
       "3769     InterDesign Kyoto Soap Saver, Brushed Stainles...\n",
       "Name: ALL_FEATURES, Length: 161, dtype: object"
      ]
     },
     "execution_count": 52,
     "metadata": {},
     "output_type": "execute_result"
    }
   ],
   "source": [
    "X_test_Amazon"
   ]
  },
  {
   "cell_type": "code",
   "execution_count": 53,
   "metadata": {},
   "outputs": [],
   "source": [
    "y_pred_class_Flip = model_Flip.predict(X_test_dtm_Flip)"
   ]
  },
  {
   "cell_type": "code",
   "execution_count": 54,
   "metadata": {},
   "outputs": [
    {
     "data": {
      "text/plain": [
       "array([1, 1, 1, 1, 0, 1, 1, 1, 0, 0, 1, 1, 1, 1, 1, 1, 0, 1, 0, 1, 1, 0,\n",
       "       0, 0, 1, 0, 1, 1, 0, 0, 1, 0, 0, 1, 1, 1, 0, 1, 0, 1, 1, 0, 1, 1,\n",
       "       1, 1, 1, 0, 1, 0, 1, 1, 1, 1, 1, 0, 0, 0, 1, 0, 1, 1, 0, 1, 1, 0,\n",
       "       1, 1, 0, 0, 1, 1, 1, 1, 1, 1, 1, 1, 1, 1, 0, 1, 1, 1, 0, 1, 0, 1,\n",
       "       0, 0, 1, 1, 1, 1, 1, 1, 1, 0, 1, 1, 1, 0, 1, 0, 1, 1, 1, 0, 1, 1,\n",
       "       0, 0, 1, 1, 1, 0, 0, 1, 1, 1, 0, 0, 1, 1, 0, 0, 1, 1, 0, 0, 1, 1,\n",
       "       1, 1, 1, 0, 1, 0, 1, 1, 1, 1, 0, 1, 1, 1, 1, 1, 0, 1, 1, 1, 1, 0,\n",
       "       1, 1, 1, 1, 0, 1, 1, 1, 1, 0, 0, 1, 1, 1, 1, 0, 1, 0, 1, 1, 1, 1,\n",
       "       1, 0, 1, 1, 0, 1, 1, 1, 1, 1, 0, 1, 0, 0, 1, 1, 1, 1, 1, 1, 1, 0,\n",
       "       1, 1, 1, 0, 1, 1, 1, 1, 0, 0, 1, 1, 1, 1, 1, 1, 1, 0, 0, 1, 0, 0,\n",
       "       0, 1, 1, 0, 1, 1, 1, 1], dtype=int64)"
      ]
     },
     "execution_count": 54,
     "metadata": {},
     "output_type": "execute_result"
    }
   ],
   "source": [
    "y_pred_class_Flip"
   ]
  },
  {
   "cell_type": "code",
   "execution_count": 55,
   "metadata": {},
   "outputs": [
    {
     "data": {
      "text/plain": [
       "0.9868421052631579"
      ]
     },
     "execution_count": 55,
     "metadata": {},
     "output_type": "execute_result"
    }
   ],
   "source": [
    "accuracy_score(y_test_Flipkart, y_pred_class_Flip)"
   ]
  },
  {
   "cell_type": "code",
   "execution_count": null,
   "metadata": {},
   "outputs": [],
   "source": []
  }
 ],
 "metadata": {
  "kernelspec": {
   "display_name": "Python 3",
   "language": "python",
   "name": "python3"
  },
  "language_info": {
   "codemirror_mode": {
    "name": "ipython",
    "version": 3
   },
   "file_extension": ".py",
   "mimetype": "text/x-python",
   "name": "python",
   "nbconvert_exporter": "python",
   "pygments_lexer": "ipython3",
   "version": "3.8.8"
  }
 },
 "nbformat": 4,
 "nbformat_minor": 4
}
