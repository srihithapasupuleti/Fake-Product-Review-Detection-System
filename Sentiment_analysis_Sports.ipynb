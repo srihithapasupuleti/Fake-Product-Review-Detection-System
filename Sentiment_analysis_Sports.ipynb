{
 "cells": [
  {
   "cell_type": "code",
   "execution_count": 8,
   "metadata": {},
   "outputs": [],
   "source": [
    "import pandas as pd"
   ]
  },
  {
   "cell_type": "code",
   "execution_count": 9,
   "metadata": {},
   "outputs": [],
   "source": [
    "amazon_reviews = pd.read_csv('./amazon_reviews.csv')"
   ]
  },
  {
   "cell_type": "code",
   "execution_count": 10,
   "metadata": {},
   "outputs": [
    {
     "data": {
      "text/html": [
       "<div>\n",
       "<style scoped>\n",
       "    .dataframe tbody tr th:only-of-type {\n",
       "        vertical-align: middle;\n",
       "    }\n",
       "\n",
       "    .dataframe tbody tr th {\n",
       "        vertical-align: top;\n",
       "    }\n",
       "\n",
       "    .dataframe thead th {\n",
       "        text-align: right;\n",
       "    }\n",
       "</style>\n",
       "<table border=\"1\" class=\"dataframe\">\n",
       "  <thead>\n",
       "    <tr style=\"text-align: right;\">\n",
       "      <th></th>\n",
       "      <th>DOC_ID</th>\n",
       "      <th>LABEL</th>\n",
       "      <th>RATING</th>\n",
       "      <th>VERIFIED_PURCHASE</th>\n",
       "      <th>PRODUCT_CATEGORY</th>\n",
       "      <th>PRODUCT_ID</th>\n",
       "      <th>PRODUCT_TITLE</th>\n",
       "      <th>REVIEW_TITLE</th>\n",
       "      <th>REVIEW_TEXT</th>\n",
       "    </tr>\n",
       "  </thead>\n",
       "  <tbody>\n",
       "    <tr>\n",
       "      <th>0</th>\n",
       "      <td>1</td>\n",
       "      <td>__label1__</td>\n",
       "      <td>4</td>\n",
       "      <td>N</td>\n",
       "      <td>PC</td>\n",
       "      <td>B00008NG7N</td>\n",
       "      <td>Targus PAUK10U Ultra Mini USB Keypad, Black</td>\n",
       "      <td>useful</td>\n",
       "      <td>When least you think so, this product will sav...</td>\n",
       "    </tr>\n",
       "    <tr>\n",
       "      <th>1</th>\n",
       "      <td>2</td>\n",
       "      <td>__label1__</td>\n",
       "      <td>4</td>\n",
       "      <td>Y</td>\n",
       "      <td>Wireless</td>\n",
       "      <td>B00LH0Y3NM</td>\n",
       "      <td>Note 3 Battery : Stalion Strength Replacement ...</td>\n",
       "      <td>New era for batteries</td>\n",
       "      <td>Lithium batteries are something new introduced...</td>\n",
       "    </tr>\n",
       "    <tr>\n",
       "      <th>2</th>\n",
       "      <td>3</td>\n",
       "      <td>__label1__</td>\n",
       "      <td>3</td>\n",
       "      <td>N</td>\n",
       "      <td>Baby</td>\n",
       "      <td>B000I5UZ1Q</td>\n",
       "      <td>Fisher-Price Papasan Cradle Swing, Starlight</td>\n",
       "      <td>doesn't swing very well.</td>\n",
       "      <td>I purchased this swing for my baby. She is 6 m...</td>\n",
       "    </tr>\n",
       "    <tr>\n",
       "      <th>3</th>\n",
       "      <td>4</td>\n",
       "      <td>__label1__</td>\n",
       "      <td>4</td>\n",
       "      <td>N</td>\n",
       "      <td>Office Products</td>\n",
       "      <td>B003822IRA</td>\n",
       "      <td>Casio MS-80B Standard Function Desktop Calculator</td>\n",
       "      <td>Great computing!</td>\n",
       "      <td>I was looking for an inexpensive desk calcolat...</td>\n",
       "    </tr>\n",
       "    <tr>\n",
       "      <th>4</th>\n",
       "      <td>5</td>\n",
       "      <td>__label1__</td>\n",
       "      <td>4</td>\n",
       "      <td>N</td>\n",
       "      <td>Beauty</td>\n",
       "      <td>B00PWSAXAM</td>\n",
       "      <td>Shine Whitening - Zero Peroxide Teeth Whitenin...</td>\n",
       "      <td>Only use twice a week</td>\n",
       "      <td>I only use it twice a week and the results are...</td>\n",
       "    </tr>\n",
       "  </tbody>\n",
       "</table>\n",
       "</div>"
      ],
      "text/plain": [
       "   DOC_ID       LABEL  RATING VERIFIED_PURCHASE PRODUCT_CATEGORY  PRODUCT_ID  \\\n",
       "0       1  __label1__       4                 N               PC  B00008NG7N   \n",
       "1       2  __label1__       4                 Y         Wireless  B00LH0Y3NM   \n",
       "2       3  __label1__       3                 N             Baby  B000I5UZ1Q   \n",
       "3       4  __label1__       4                 N  Office Products  B003822IRA   \n",
       "4       5  __label1__       4                 N           Beauty  B00PWSAXAM   \n",
       "\n",
       "                                       PRODUCT_TITLE  \\\n",
       "0        Targus PAUK10U Ultra Mini USB Keypad, Black   \n",
       "1  Note 3 Battery : Stalion Strength Replacement ...   \n",
       "2       Fisher-Price Papasan Cradle Swing, Starlight   \n",
       "3  Casio MS-80B Standard Function Desktop Calculator   \n",
       "4  Shine Whitening - Zero Peroxide Teeth Whitenin...   \n",
       "\n",
       "               REVIEW_TITLE                                        REVIEW_TEXT  \n",
       "0                    useful  When least you think so, this product will sav...  \n",
       "1     New era for batteries  Lithium batteries are something new introduced...  \n",
       "2  doesn't swing very well.  I purchased this swing for my baby. She is 6 m...  \n",
       "3          Great computing!  I was looking for an inexpensive desk calcolat...  \n",
       "4     Only use twice a week  I only use it twice a week and the results are...  "
      ]
     },
     "execution_count": 10,
     "metadata": {},
     "output_type": "execute_result"
    }
   ],
   "source": [
    "amazon_reviews.head()"
   ]
  },
  {
   "cell_type": "code",
   "execution_count": 11,
   "metadata": {},
   "outputs": [
    {
     "data": {
      "text/html": [
       "<div>\n",
       "<style scoped>\n",
       "    .dataframe tbody tr th:only-of-type {\n",
       "        vertical-align: middle;\n",
       "    }\n",
       "\n",
       "    .dataframe tbody tr th {\n",
       "        vertical-align: top;\n",
       "    }\n",
       "\n",
       "    .dataframe thead th {\n",
       "        text-align: right;\n",
       "    }\n",
       "</style>\n",
       "<table border=\"1\" class=\"dataframe\">\n",
       "  <thead>\n",
       "    <tr style=\"text-align: right;\">\n",
       "      <th></th>\n",
       "      <th>DOC_ID</th>\n",
       "      <th>LABEL</th>\n",
       "      <th>RATING</th>\n",
       "      <th>VERIFIED_PURCHASE</th>\n",
       "      <th>PRODUCT_CATEGORY</th>\n",
       "      <th>PRODUCT_ID</th>\n",
       "      <th>PRODUCT_TITLE</th>\n",
       "      <th>REVIEW_TITLE</th>\n",
       "      <th>REVIEW_TEXT</th>\n",
       "    </tr>\n",
       "  </thead>\n",
       "  <tbody>\n",
       "    <tr>\n",
       "      <th>17</th>\n",
       "      <td>18</td>\n",
       "      <td>__label1__</td>\n",
       "      <td>4</td>\n",
       "      <td>N</td>\n",
       "      <td>Sports</td>\n",
       "      <td>B000HE8NK8</td>\n",
       "      <td>Barnett Diablo Slingshot</td>\n",
       "      <td>good enough</td>\n",
       "      <td>As sling shots go, this is good enough for my ...</td>\n",
       "    </tr>\n",
       "    <tr>\n",
       "      <th>74</th>\n",
       "      <td>75</td>\n",
       "      <td>__label1__</td>\n",
       "      <td>1</td>\n",
       "      <td>N</td>\n",
       "      <td>Sports</td>\n",
       "      <td>B00EZP84O0</td>\n",
       "      <td>Genuine DIYBypass for All AVH Pioneer - Double...</td>\n",
       "      <td>worked for 2 days, then stopped working</td>\n",
       "      <td>This company sent me a email after i purchased...</td>\n",
       "    </tr>\n",
       "    <tr>\n",
       "      <th>120</th>\n",
       "      <td>121</td>\n",
       "      <td>__label1__</td>\n",
       "      <td>4</td>\n",
       "      <td>N</td>\n",
       "      <td>Sports</td>\n",
       "      <td>B002RPFN80</td>\n",
       "      <td>Ready to Fish 136 piece 3 Tray Tackle Box</td>\n",
       "      <td>Great box for the price.</td>\n",
       "      <td>This is a great tackle box for small scale fre...</td>\n",
       "    </tr>\n",
       "    <tr>\n",
       "      <th>133</th>\n",
       "      <td>134</td>\n",
       "      <td>__label1__</td>\n",
       "      <td>3</td>\n",
       "      <td>Y</td>\n",
       "      <td>Sports</td>\n",
       "      <td>B0000BYMX6</td>\n",
       "      <td>US Games Segmented Skip Rope (Black/White, 6-f...</td>\n",
       "      <td>Short for adult</td>\n",
       "      <td>I am 5&amp;#34;11 and this is way too short.&lt;br /&gt;...</td>\n",
       "    </tr>\n",
       "    <tr>\n",
       "      <th>155</th>\n",
       "      <td>156</td>\n",
       "      <td>__label1__</td>\n",
       "      <td>2</td>\n",
       "      <td>N</td>\n",
       "      <td>Sports</td>\n",
       "      <td>B000UEP0NI</td>\n",
       "      <td>FitDeck Bodyweight</td>\n",
       "      <td>Full and Complete Review of Fit Deck Bodyweight</td>\n",
       "      <td>I am a collector of fitness products, there ar...</td>\n",
       "    </tr>\n",
       "    <tr>\n",
       "      <th>...</th>\n",
       "      <td>...</td>\n",
       "      <td>...</td>\n",
       "      <td>...</td>\n",
       "      <td>...</td>\n",
       "      <td>...</td>\n",
       "      <td>...</td>\n",
       "      <td>...</td>\n",
       "      <td>...</td>\n",
       "      <td>...</td>\n",
       "    </tr>\n",
       "    <tr>\n",
       "      <th>20278</th>\n",
       "      <td>20279</td>\n",
       "      <td>__label2__</td>\n",
       "      <td>2</td>\n",
       "      <td>Y</td>\n",
       "      <td>Sports</td>\n",
       "      <td>B003PAX770</td>\n",
       "      <td>Reebok Adjustable Ankle Weight (10-Pounds)</td>\n",
       "      <td>uncomfortable</td>\n",
       "      <td>These are good but keep sliding down and that ...</td>\n",
       "    </tr>\n",
       "    <tr>\n",
       "      <th>20279</th>\n",
       "      <td>20280</td>\n",
       "      <td>__label2__</td>\n",
       "      <td>5</td>\n",
       "      <td>Y</td>\n",
       "      <td>Sports</td>\n",
       "      <td>B00EBBA3VA</td>\n",
       "      <td>Front Line Tuckable Open Top Leather Holster (...</td>\n",
       "      <td>Great holster for the price</td>\n",
       "      <td>Great holster for the price. Fit and finish is...</td>\n",
       "    </tr>\n",
       "    <tr>\n",
       "      <th>20297</th>\n",
       "      <td>20298</td>\n",
       "      <td>__label2__</td>\n",
       "      <td>4</td>\n",
       "      <td>Y</td>\n",
       "      <td>Sports</td>\n",
       "      <td>B007JUXA8I</td>\n",
       "      <td>Rothco Shemagh Tactical Desert Scarf, PURPLE Size</td>\n",
       "      <td>Good product.</td>\n",
       "      <td>I ordered this product at the same time that I...</td>\n",
       "    </tr>\n",
       "    <tr>\n",
       "      <th>20314</th>\n",
       "      <td>20315</td>\n",
       "      <td>__label2__</td>\n",
       "      <td>3</td>\n",
       "      <td>Y</td>\n",
       "      <td>Sports</td>\n",
       "      <td>B0082COWEI</td>\n",
       "      <td>Firepower Soft Air AEG F4-D Air Rifle</td>\n",
       "      <td>Good for 10 year play</td>\n",
       "      <td>This is a pretty cheaply made airsoft rifle.  ...</td>\n",
       "    </tr>\n",
       "    <tr>\n",
       "      <th>20321</th>\n",
       "      <td>20322</td>\n",
       "      <td>__label2__</td>\n",
       "      <td>5</td>\n",
       "      <td>Y</td>\n",
       "      <td>Sports</td>\n",
       "      <td>B00K8TE2NE</td>\n",
       "      <td>Swiftwick ASPIRE Four Socks, Green, Large</td>\n",
       "      <td>These are great socks. I wasn't a believer unt...</td>\n",
       "      <td>Product just as described. These are great soc...</td>\n",
       "    </tr>\n",
       "  </tbody>\n",
       "</table>\n",
       "<p>700 rows × 9 columns</p>\n",
       "</div>"
      ],
      "text/plain": [
       "       DOC_ID       LABEL  RATING VERIFIED_PURCHASE PRODUCT_CATEGORY  \\\n",
       "17         18  __label1__       4                 N           Sports   \n",
       "74         75  __label1__       1                 N           Sports   \n",
       "120       121  __label1__       4                 N           Sports   \n",
       "133       134  __label1__       3                 Y           Sports   \n",
       "155       156  __label1__       2                 N           Sports   \n",
       "...       ...         ...     ...               ...              ...   \n",
       "20278   20279  __label2__       2                 Y           Sports   \n",
       "20279   20280  __label2__       5                 Y           Sports   \n",
       "20297   20298  __label2__       4                 Y           Sports   \n",
       "20314   20315  __label2__       3                 Y           Sports   \n",
       "20321   20322  __label2__       5                 Y           Sports   \n",
       "\n",
       "       PRODUCT_ID                                      PRODUCT_TITLE  \\\n",
       "17     B000HE8NK8                           Barnett Diablo Slingshot   \n",
       "74     B00EZP84O0  Genuine DIYBypass for All AVH Pioneer - Double...   \n",
       "120    B002RPFN80          Ready to Fish 136 piece 3 Tray Tackle Box   \n",
       "133    B0000BYMX6  US Games Segmented Skip Rope (Black/White, 6-f...   \n",
       "155    B000UEP0NI                                 FitDeck Bodyweight   \n",
       "...           ...                                                ...   \n",
       "20278  B003PAX770         Reebok Adjustable Ankle Weight (10-Pounds)   \n",
       "20279  B00EBBA3VA  Front Line Tuckable Open Top Leather Holster (...   \n",
       "20297  B007JUXA8I  Rothco Shemagh Tactical Desert Scarf, PURPLE Size   \n",
       "20314  B0082COWEI              Firepower Soft Air AEG F4-D Air Rifle   \n",
       "20321  B00K8TE2NE          Swiftwick ASPIRE Four Socks, Green, Large   \n",
       "\n",
       "                                            REVIEW_TITLE  \\\n",
       "17                                           good enough   \n",
       "74               worked for 2 days, then stopped working   \n",
       "120                             Great box for the price.   \n",
       "133                                      Short for adult   \n",
       "155      Full and Complete Review of Fit Deck Bodyweight   \n",
       "...                                                  ...   \n",
       "20278                                      uncomfortable   \n",
       "20279                        Great holster for the price   \n",
       "20297                                      Good product.   \n",
       "20314                              Good for 10 year play   \n",
       "20321  These are great socks. I wasn't a believer unt...   \n",
       "\n",
       "                                             REVIEW_TEXT  \n",
       "17     As sling shots go, this is good enough for my ...  \n",
       "74     This company sent me a email after i purchased...  \n",
       "120    This is a great tackle box for small scale fre...  \n",
       "133    I am 5&#34;11 and this is way too short.<br />...  \n",
       "155    I am a collector of fitness products, there ar...  \n",
       "...                                                  ...  \n",
       "20278  These are good but keep sliding down and that ...  \n",
       "20279  Great holster for the price. Fit and finish is...  \n",
       "20297  I ordered this product at the same time that I...  \n",
       "20314  This is a pretty cheaply made airsoft rifle.  ...  \n",
       "20321  Product just as described. These are great soc...  \n",
       "\n",
       "[700 rows x 9 columns]"
      ]
     },
     "execution_count": 11,
     "metadata": {},
     "output_type": "execute_result"
    }
   ],
   "source": [
    "amazon_reviews[amazon_reviews['PRODUCT_CATEGORY'] == 'Sports']"
   ]
  },
  {
   "cell_type": "code",
   "execution_count": 12,
   "metadata": {},
   "outputs": [
    {
     "data": {
      "text/plain": [
       "(21000, 9)"
      ]
     },
     "execution_count": 12,
     "metadata": {},
     "output_type": "execute_result"
    }
   ],
   "source": [
    "amazon_reviews.shape"
   ]
  },
  {
   "cell_type": "code",
   "execution_count": 13,
   "metadata": {},
   "outputs": [
    {
     "data": {
      "text/plain": [
       "Index(['DOC_ID', 'LABEL', 'RATING', 'VERIFIED_PURCHASE', 'PRODUCT_CATEGORY',\n",
       "       'PRODUCT_ID', 'PRODUCT_TITLE', 'REVIEW_TITLE', 'REVIEW_TEXT'],\n",
       "      dtype='object')"
      ]
     },
     "execution_count": 13,
     "metadata": {},
     "output_type": "execute_result"
    }
   ],
   "source": [
    "amazon_reviews.columns"
   ]
  },
  {
   "cell_type": "code",
   "execution_count": 14,
   "metadata": {},
   "outputs": [],
   "source": [
    "relevant_columns = ['RATING', 'PRODUCT_CATEGORY',\n",
    "       'PRODUCT_TITLE', 'REVIEW_TITLE', 'REVIEW_TEXT']"
   ]
  },
  {
   "cell_type": "code",
   "execution_count": 15,
   "metadata": {},
   "outputs": [],
   "source": [
    "amazon_reviews = amazon_reviews[relevant_columns]"
   ]
  },
  {
   "cell_type": "code",
   "execution_count": 16,
   "metadata": {},
   "outputs": [
    {
     "data": {
      "text/html": [
       "<div>\n",
       "<style scoped>\n",
       "    .dataframe tbody tr th:only-of-type {\n",
       "        vertical-align: middle;\n",
       "    }\n",
       "\n",
       "    .dataframe tbody tr th {\n",
       "        vertical-align: top;\n",
       "    }\n",
       "\n",
       "    .dataframe thead th {\n",
       "        text-align: right;\n",
       "    }\n",
       "</style>\n",
       "<table border=\"1\" class=\"dataframe\">\n",
       "  <thead>\n",
       "    <tr style=\"text-align: right;\">\n",
       "      <th></th>\n",
       "      <th>RATING</th>\n",
       "      <th>PRODUCT_CATEGORY</th>\n",
       "      <th>PRODUCT_TITLE</th>\n",
       "      <th>REVIEW_TITLE</th>\n",
       "      <th>REVIEW_TEXT</th>\n",
       "    </tr>\n",
       "  </thead>\n",
       "  <tbody>\n",
       "    <tr>\n",
       "      <th>0</th>\n",
       "      <td>4</td>\n",
       "      <td>PC</td>\n",
       "      <td>Targus PAUK10U Ultra Mini USB Keypad, Black</td>\n",
       "      <td>useful</td>\n",
       "      <td>When least you think so, this product will sav...</td>\n",
       "    </tr>\n",
       "    <tr>\n",
       "      <th>1</th>\n",
       "      <td>4</td>\n",
       "      <td>Wireless</td>\n",
       "      <td>Note 3 Battery : Stalion Strength Replacement ...</td>\n",
       "      <td>New era for batteries</td>\n",
       "      <td>Lithium batteries are something new introduced...</td>\n",
       "    </tr>\n",
       "    <tr>\n",
       "      <th>2</th>\n",
       "      <td>3</td>\n",
       "      <td>Baby</td>\n",
       "      <td>Fisher-Price Papasan Cradle Swing, Starlight</td>\n",
       "      <td>doesn't swing very well.</td>\n",
       "      <td>I purchased this swing for my baby. She is 6 m...</td>\n",
       "    </tr>\n",
       "    <tr>\n",
       "      <th>3</th>\n",
       "      <td>4</td>\n",
       "      <td>Office Products</td>\n",
       "      <td>Casio MS-80B Standard Function Desktop Calculator</td>\n",
       "      <td>Great computing!</td>\n",
       "      <td>I was looking for an inexpensive desk calcolat...</td>\n",
       "    </tr>\n",
       "    <tr>\n",
       "      <th>4</th>\n",
       "      <td>4</td>\n",
       "      <td>Beauty</td>\n",
       "      <td>Shine Whitening - Zero Peroxide Teeth Whitenin...</td>\n",
       "      <td>Only use twice a week</td>\n",
       "      <td>I only use it twice a week and the results are...</td>\n",
       "    </tr>\n",
       "  </tbody>\n",
       "</table>\n",
       "</div>"
      ],
      "text/plain": [
       "   RATING PRODUCT_CATEGORY                                      PRODUCT_TITLE  \\\n",
       "0       4               PC        Targus PAUK10U Ultra Mini USB Keypad, Black   \n",
       "1       4         Wireless  Note 3 Battery : Stalion Strength Replacement ...   \n",
       "2       3             Baby       Fisher-Price Papasan Cradle Swing, Starlight   \n",
       "3       4  Office Products  Casio MS-80B Standard Function Desktop Calculator   \n",
       "4       4           Beauty  Shine Whitening - Zero Peroxide Teeth Whitenin...   \n",
       "\n",
       "               REVIEW_TITLE                                        REVIEW_TEXT  \n",
       "0                    useful  When least you think so, this product will sav...  \n",
       "1     New era for batteries  Lithium batteries are something new introduced...  \n",
       "2  doesn't swing very well.  I purchased this swing for my baby. She is 6 m...  \n",
       "3          Great computing!  I was looking for an inexpensive desk calcolat...  \n",
       "4     Only use twice a week  I only use it twice a week and the results are...  "
      ]
     },
     "execution_count": 16,
     "metadata": {},
     "output_type": "execute_result"
    }
   ],
   "source": [
    "amazon_reviews.head()"
   ]
  },
  {
   "cell_type": "code",
   "execution_count": 17,
   "metadata": {},
   "outputs": [
    {
     "data": {
      "text/plain": [
       "RATING              21000\n",
       "PRODUCT_CATEGORY    21000\n",
       "PRODUCT_TITLE       21000\n",
       "REVIEW_TITLE        21000\n",
       "REVIEW_TEXT         21000\n",
       "dtype: int64"
      ]
     },
     "execution_count": 17,
     "metadata": {},
     "output_type": "execute_result"
    }
   ],
   "source": [
    "amazon_reviews.count()"
   ]
  },
  {
   "cell_type": "code",
   "execution_count": 18,
   "metadata": {},
   "outputs": [],
   "source": [
    "flipkart_reviews = pd.read_csv('./Flipkart_reviews.csv')"
   ]
  },
  {
   "cell_type": "code",
   "execution_count": 19,
   "metadata": {},
   "outputs": [
    {
     "data": {
      "text/html": [
       "<div>\n",
       "<style scoped>\n",
       "    .dataframe tbody tr th:only-of-type {\n",
       "        vertical-align: middle;\n",
       "    }\n",
       "\n",
       "    .dataframe tbody tr th {\n",
       "        vertical-align: top;\n",
       "    }\n",
       "\n",
       "    .dataframe thead th {\n",
       "        text-align: right;\n",
       "    }\n",
       "</style>\n",
       "<table border=\"1\" class=\"dataframe\">\n",
       "  <thead>\n",
       "    <tr style=\"text-align: right;\">\n",
       "      <th></th>\n",
       "      <th>REVIEW_TEXT</th>\n",
       "      <th>RATING</th>\n",
       "      <th>PRODUCT_TITLE</th>\n",
       "      <th>PRODUCT_CATEGORY</th>\n",
       "      <th>REVIEW_TITLE</th>\n",
       "    </tr>\n",
       "  </thead>\n",
       "  <tbody>\n",
       "    <tr>\n",
       "      <th>0</th>\n",
       "      <td>Not nice</td>\n",
       "      <td>1</td>\n",
       "      <td>Solid Men Mandarin Collar White, Blue T-Shirt</td>\n",
       "      <td>Apparel</td>\n",
       "      <td>NaN</td>\n",
       "    </tr>\n",
       "    <tr>\n",
       "      <th>1</th>\n",
       "      <td>Good quality product</td>\n",
       "      <td>5</td>\n",
       "      <td>Solid Men Mandarin Collar White, Blue T-Shirt</td>\n",
       "      <td>Apparel</td>\n",
       "      <td>NaN</td>\n",
       "    </tr>\n",
       "    <tr>\n",
       "      <th>2</th>\n",
       "      <td>Nice</td>\n",
       "      <td>5</td>\n",
       "      <td>Solid Men Mandarin Collar White, Blue T-Shirt</td>\n",
       "      <td>Apparel</td>\n",
       "      <td>NaN</td>\n",
       "    </tr>\n",
       "    <tr>\n",
       "      <th>3</th>\n",
       "      <td>Very bed</td>\n",
       "      <td>1</td>\n",
       "      <td>Solid Men Mandarin Collar White, Blue T-Shirt</td>\n",
       "      <td>Apparel</td>\n",
       "      <td>NaN</td>\n",
       "    </tr>\n",
       "    <tr>\n",
       "      <th>4</th>\n",
       "      <td>Good</td>\n",
       "      <td>3</td>\n",
       "      <td>Solid Men Mandarin Collar White, Blue T-Shirt</td>\n",
       "      <td>Apparel</td>\n",
       "      <td>NaN</td>\n",
       "    </tr>\n",
       "  </tbody>\n",
       "</table>\n",
       "</div>"
      ],
      "text/plain": [
       "            REVIEW_TEXT  RATING  \\\n",
       "0              Not nice       1   \n",
       "1  Good quality product       5   \n",
       "2                  Nice       5   \n",
       "3              Very bed       1   \n",
       "4                  Good       3   \n",
       "\n",
       "                                   PRODUCT_TITLE PRODUCT_CATEGORY REVIEW_TITLE  \n",
       "0  Solid Men Mandarin Collar White, Blue T-Shirt          Apparel          NaN  \n",
       "1  Solid Men Mandarin Collar White, Blue T-Shirt          Apparel          NaN  \n",
       "2  Solid Men Mandarin Collar White, Blue T-Shirt          Apparel          NaN  \n",
       "3  Solid Men Mandarin Collar White, Blue T-Shirt          Apparel          NaN  \n",
       "4  Solid Men Mandarin Collar White, Blue T-Shirt          Apparel          NaN  "
      ]
     },
     "execution_count": 19,
     "metadata": {},
     "output_type": "execute_result"
    }
   ],
   "source": [
    "flipkart_reviews.head()"
   ]
  },
  {
   "cell_type": "markdown",
   "metadata": {},
   "source": [
    "# Checking data cleanliness"
   ]
  },
  {
   "cell_type": "code",
   "execution_count": 20,
   "metadata": {},
   "outputs": [
    {
     "data": {
      "text/plain": [
       "21000"
      ]
     },
     "execution_count": 20,
     "metadata": {},
     "output_type": "execute_result"
    }
   ],
   "source": [
    "len(amazon_reviews)"
   ]
  },
  {
   "cell_type": "code",
   "execution_count": 21,
   "metadata": {},
   "outputs": [
    {
     "data": {
      "text/plain": [
       "21000"
      ]
     },
     "execution_count": 21,
     "metadata": {},
     "output_type": "execute_result"
    }
   ],
   "source": [
    "len(amazon_reviews.dropna())"
   ]
  },
  {
   "cell_type": "code",
   "execution_count": 22,
   "metadata": {},
   "outputs": [
    {
     "data": {
      "text/plain": [
       "5891"
      ]
     },
     "execution_count": 22,
     "metadata": {},
     "output_type": "execute_result"
    }
   ],
   "source": [
    "len(flipkart_reviews)"
   ]
  },
  {
   "cell_type": "code",
   "execution_count": 23,
   "metadata": {},
   "outputs": [
    {
     "data": {
      "text/plain": [
       "3453"
      ]
     },
     "execution_count": 23,
     "metadata": {},
     "output_type": "execute_result"
    }
   ],
   "source": [
    "len(flipkart_reviews.dropna())"
   ]
  },
  {
   "cell_type": "code",
   "execution_count": 24,
   "metadata": {},
   "outputs": [],
   "source": [
    "# Checking all REVIEW_TEXT are of type 'str'"
   ]
  },
  {
   "cell_type": "code",
   "execution_count": 25,
   "metadata": {},
   "outputs": [],
   "source": [
    "for i in range(0,len(amazon_reviews)-1):\n",
    "    if type(amazon_reviews.iloc[i]['REVIEW_TEXT']) != str:\n",
    "        print(amazon_reviews.iloc[i]['REVIEW_TEXT'])\n",
    "        #amazon_reviews.iloc[i]['REVIEW_TEXT'] = str(amazon_reviews.iloc[i]['REVIEW_TEXT'])"
   ]
  },
  {
   "cell_type": "code",
   "execution_count": 26,
   "metadata": {},
   "outputs": [],
   "source": [
    "flipkart_reviews = flipkart_reviews.fillna(\"NA\")"
   ]
  },
  {
   "cell_type": "code",
   "execution_count": 27,
   "metadata": {},
   "outputs": [],
   "source": [
    "for i in range(0,len(flipkart_reviews)-1):\n",
    "    if type(flipkart_reviews.iloc[i]['REVIEW_TEXT']) != str:\n",
    "        print(flipkart_reviews.iloc[i]['REVIEW_TEXT'])\n",
    "        flipkart_reviews.iloc[i]['REVIEW_TEXT'] = str(flipkart_reviews.iloc[i]['REVIEW_TEXT'])"
   ]
  },
  {
   "cell_type": "markdown",
   "metadata": {},
   "source": [
    "# Sentiment definition"
   ]
  },
  {
   "cell_type": "code",
   "execution_count": 28,
   "metadata": {},
   "outputs": [
    {
     "data": {
      "text/html": [
       "<div>\n",
       "<style scoped>\n",
       "    .dataframe tbody tr th:only-of-type {\n",
       "        vertical-align: middle;\n",
       "    }\n",
       "\n",
       "    .dataframe tbody tr th {\n",
       "        vertical-align: top;\n",
       "    }\n",
       "\n",
       "    .dataframe thead th {\n",
       "        text-align: right;\n",
       "    }\n",
       "</style>\n",
       "<table border=\"1\" class=\"dataframe\">\n",
       "  <thead>\n",
       "    <tr style=\"text-align: right;\">\n",
       "      <th></th>\n",
       "      <th>RATING</th>\n",
       "      <th>PRODUCT_CATEGORY</th>\n",
       "      <th>PRODUCT_TITLE</th>\n",
       "      <th>REVIEW_TITLE</th>\n",
       "      <th>REVIEW_TEXT</th>\n",
       "      <th>SENTIMENT</th>\n",
       "    </tr>\n",
       "  </thead>\n",
       "  <tbody>\n",
       "    <tr>\n",
       "      <th>0</th>\n",
       "      <td>4</td>\n",
       "      <td>PC</td>\n",
       "      <td>Targus PAUK10U Ultra Mini USB Keypad, Black</td>\n",
       "      <td>useful</td>\n",
       "      <td>When least you think so, this product will sav...</td>\n",
       "      <td>1</td>\n",
       "    </tr>\n",
       "    <tr>\n",
       "      <th>1</th>\n",
       "      <td>4</td>\n",
       "      <td>Wireless</td>\n",
       "      <td>Note 3 Battery : Stalion Strength Replacement ...</td>\n",
       "      <td>New era for batteries</td>\n",
       "      <td>Lithium batteries are something new introduced...</td>\n",
       "      <td>1</td>\n",
       "    </tr>\n",
       "    <tr>\n",
       "      <th>3</th>\n",
       "      <td>4</td>\n",
       "      <td>Office Products</td>\n",
       "      <td>Casio MS-80B Standard Function Desktop Calculator</td>\n",
       "      <td>Great computing!</td>\n",
       "      <td>I was looking for an inexpensive desk calcolat...</td>\n",
       "      <td>1</td>\n",
       "    </tr>\n",
       "    <tr>\n",
       "      <th>4</th>\n",
       "      <td>4</td>\n",
       "      <td>Beauty</td>\n",
       "      <td>Shine Whitening - Zero Peroxide Teeth Whitenin...</td>\n",
       "      <td>Only use twice a week</td>\n",
       "      <td>I only use it twice a week and the results are...</td>\n",
       "      <td>1</td>\n",
       "    </tr>\n",
       "    <tr>\n",
       "      <th>6</th>\n",
       "      <td>4</td>\n",
       "      <td>Toys</td>\n",
       "      <td>ESPN 2-Piece Table Tennis</td>\n",
       "      <td>PING PONG TABLE GREAT FOR YOUTHS AND FAMILY</td>\n",
       "      <td>Pleased with ping pong table. 11 year old and ...</td>\n",
       "      <td>1</td>\n",
       "    </tr>\n",
       "  </tbody>\n",
       "</table>\n",
       "</div>"
      ],
      "text/plain": [
       "   RATING PRODUCT_CATEGORY                                      PRODUCT_TITLE  \\\n",
       "0       4               PC        Targus PAUK10U Ultra Mini USB Keypad, Black   \n",
       "1       4         Wireless  Note 3 Battery : Stalion Strength Replacement ...   \n",
       "3       4  Office Products  Casio MS-80B Standard Function Desktop Calculator   \n",
       "4       4           Beauty  Shine Whitening - Zero Peroxide Teeth Whitenin...   \n",
       "6       4             Toys                          ESPN 2-Piece Table Tennis   \n",
       "\n",
       "                                  REVIEW_TITLE  \\\n",
       "0                                       useful   \n",
       "1                        New era for batteries   \n",
       "3                             Great computing!   \n",
       "4                        Only use twice a week   \n",
       "6  PING PONG TABLE GREAT FOR YOUTHS AND FAMILY   \n",
       "\n",
       "                                         REVIEW_TEXT  SENTIMENT  \n",
       "0  When least you think so, this product will sav...          1  \n",
       "1  Lithium batteries are something new introduced...          1  \n",
       "3  I was looking for an inexpensive desk calcolat...          1  \n",
       "4  I only use it twice a week and the results are...          1  \n",
       "6  Pleased with ping pong table. 11 year old and ...          1  "
      ]
     },
     "execution_count": 28,
     "metadata": {},
     "output_type": "execute_result"
    }
   ],
   "source": [
    "def sentiment(n):\n",
    "    return 1 if n >= 4 else 0\n",
    "\n",
    "amazon_reviews = amazon_reviews[amazon_reviews['RATING'] != 3]\n",
    "amazon_reviews['SENTIMENT'] = amazon_reviews['RATING'].apply(sentiment)\n",
    "amazon_reviews.head()"
   ]
  },
  {
   "cell_type": "code",
   "execution_count": 29,
   "metadata": {},
   "outputs": [
    {
     "data": {
      "text/html": [
       "<div>\n",
       "<style scoped>\n",
       "    .dataframe tbody tr th:only-of-type {\n",
       "        vertical-align: middle;\n",
       "    }\n",
       "\n",
       "    .dataframe tbody tr th {\n",
       "        vertical-align: top;\n",
       "    }\n",
       "\n",
       "    .dataframe thead th {\n",
       "        text-align: right;\n",
       "    }\n",
       "</style>\n",
       "<table border=\"1\" class=\"dataframe\">\n",
       "  <thead>\n",
       "    <tr style=\"text-align: right;\">\n",
       "      <th></th>\n",
       "      <th>REVIEW_TEXT</th>\n",
       "      <th>RATING</th>\n",
       "      <th>PRODUCT_TITLE</th>\n",
       "      <th>PRODUCT_CATEGORY</th>\n",
       "      <th>REVIEW_TITLE</th>\n",
       "      <th>SENTIMENT</th>\n",
       "    </tr>\n",
       "  </thead>\n",
       "  <tbody>\n",
       "    <tr>\n",
       "      <th>0</th>\n",
       "      <td>Not nice</td>\n",
       "      <td>1</td>\n",
       "      <td>Solid Men Mandarin Collar White, Blue T-Shirt</td>\n",
       "      <td>Apparel</td>\n",
       "      <td>NA</td>\n",
       "      <td>0</td>\n",
       "    </tr>\n",
       "    <tr>\n",
       "      <th>1</th>\n",
       "      <td>Good quality product</td>\n",
       "      <td>5</td>\n",
       "      <td>Solid Men Mandarin Collar White, Blue T-Shirt</td>\n",
       "      <td>Apparel</td>\n",
       "      <td>NA</td>\n",
       "      <td>1</td>\n",
       "    </tr>\n",
       "    <tr>\n",
       "      <th>2</th>\n",
       "      <td>Nice</td>\n",
       "      <td>5</td>\n",
       "      <td>Solid Men Mandarin Collar White, Blue T-Shirt</td>\n",
       "      <td>Apparel</td>\n",
       "      <td>NA</td>\n",
       "      <td>1</td>\n",
       "    </tr>\n",
       "    <tr>\n",
       "      <th>3</th>\n",
       "      <td>Very bed</td>\n",
       "      <td>1</td>\n",
       "      <td>Solid Men Mandarin Collar White, Blue T-Shirt</td>\n",
       "      <td>Apparel</td>\n",
       "      <td>NA</td>\n",
       "      <td>0</td>\n",
       "    </tr>\n",
       "    <tr>\n",
       "      <th>5</th>\n",
       "      <td>Good product</td>\n",
       "      <td>5</td>\n",
       "      <td>Solid Men Mandarin Collar White, Blue T-Shirt</td>\n",
       "      <td>Apparel</td>\n",
       "      <td>NA</td>\n",
       "      <td>1</td>\n",
       "    </tr>\n",
       "  </tbody>\n",
       "</table>\n",
       "</div>"
      ],
      "text/plain": [
       "            REVIEW_TEXT  RATING  \\\n",
       "0              Not nice       1   \n",
       "1  Good quality product       5   \n",
       "2                  Nice       5   \n",
       "3              Very bed       1   \n",
       "5          Good product       5   \n",
       "\n",
       "                                   PRODUCT_TITLE PRODUCT_CATEGORY  \\\n",
       "0  Solid Men Mandarin Collar White, Blue T-Shirt          Apparel   \n",
       "1  Solid Men Mandarin Collar White, Blue T-Shirt          Apparel   \n",
       "2  Solid Men Mandarin Collar White, Blue T-Shirt          Apparel   \n",
       "3  Solid Men Mandarin Collar White, Blue T-Shirt          Apparel   \n",
       "5  Solid Men Mandarin Collar White, Blue T-Shirt          Apparel   \n",
       "\n",
       "  REVIEW_TITLE  SENTIMENT  \n",
       "0           NA          0  \n",
       "1           NA          1  \n",
       "2           NA          1  \n",
       "3           NA          0  \n",
       "5           NA          1  "
      ]
     },
     "execution_count": 29,
     "metadata": {},
     "output_type": "execute_result"
    }
   ],
   "source": [
    "flipkart_reviews = flipkart_reviews[flipkart_reviews['RATING'] != 3]\n",
    "flipkart_reviews['SENTIMENT'] = flipkart_reviews['RATING'].apply(sentiment)\n",
    "flipkart_reviews.head()"
   ]
  },
  {
   "cell_type": "markdown",
   "metadata": {},
   "source": [
    "# Data Pre-processing "
   ]
  },
  {
   "cell_type": "code",
   "execution_count": 30,
   "metadata": {},
   "outputs": [
    {
     "data": {
      "text/html": [
       "<div>\n",
       "<style scoped>\n",
       "    .dataframe tbody tr th:only-of-type {\n",
       "        vertical-align: middle;\n",
       "    }\n",
       "\n",
       "    .dataframe tbody tr th {\n",
       "        vertical-align: top;\n",
       "    }\n",
       "\n",
       "    .dataframe thead th {\n",
       "        text-align: right;\n",
       "    }\n",
       "</style>\n",
       "<table border=\"1\" class=\"dataframe\">\n",
       "  <thead>\n",
       "    <tr style=\"text-align: right;\">\n",
       "      <th></th>\n",
       "      <th>RATING</th>\n",
       "      <th>PRODUCT_CATEGORY</th>\n",
       "      <th>PRODUCT_TITLE</th>\n",
       "      <th>REVIEW_TITLE</th>\n",
       "      <th>REVIEW_TEXT</th>\n",
       "      <th>SENTIMENT</th>\n",
       "      <th>ALL_FEATURES</th>\n",
       "    </tr>\n",
       "  </thead>\n",
       "  <tbody>\n",
       "    <tr>\n",
       "      <th>0</th>\n",
       "      <td>4</td>\n",
       "      <td>PC</td>\n",
       "      <td>Targus PAUK10U Ultra Mini USB Keypad, Black</td>\n",
       "      <td>useful</td>\n",
       "      <td>When least you think so, this product will sav...</td>\n",
       "      <td>1</td>\n",
       "      <td>Targus PAUK10U Ultra Mini USB Keypad, Black us...</td>\n",
       "    </tr>\n",
       "    <tr>\n",
       "      <th>1</th>\n",
       "      <td>4</td>\n",
       "      <td>Wireless</td>\n",
       "      <td>Note 3 Battery : Stalion Strength Replacement ...</td>\n",
       "      <td>New era for batteries</td>\n",
       "      <td>Lithium batteries are something new introduced...</td>\n",
       "      <td>1</td>\n",
       "      <td>Note 3 Battery : Stalion Strength Replacement ...</td>\n",
       "    </tr>\n",
       "    <tr>\n",
       "      <th>3</th>\n",
       "      <td>4</td>\n",
       "      <td>Office Products</td>\n",
       "      <td>Casio MS-80B Standard Function Desktop Calculator</td>\n",
       "      <td>Great computing!</td>\n",
       "      <td>I was looking for an inexpensive desk calcolat...</td>\n",
       "      <td>1</td>\n",
       "      <td>Casio MS-80B Standard Function Desktop Calcula...</td>\n",
       "    </tr>\n",
       "    <tr>\n",
       "      <th>4</th>\n",
       "      <td>4</td>\n",
       "      <td>Beauty</td>\n",
       "      <td>Shine Whitening - Zero Peroxide Teeth Whitenin...</td>\n",
       "      <td>Only use twice a week</td>\n",
       "      <td>I only use it twice a week and the results are...</td>\n",
       "      <td>1</td>\n",
       "      <td>Shine Whitening - Zero Peroxide Teeth Whitenin...</td>\n",
       "    </tr>\n",
       "    <tr>\n",
       "      <th>6</th>\n",
       "      <td>4</td>\n",
       "      <td>Toys</td>\n",
       "      <td>ESPN 2-Piece Table Tennis</td>\n",
       "      <td>PING PONG TABLE GREAT FOR YOUTHS AND FAMILY</td>\n",
       "      <td>Pleased with ping pong table. 11 year old and ...</td>\n",
       "      <td>1</td>\n",
       "      <td>ESPN 2-Piece Table Tennis PING PONG TABLE GREA...</td>\n",
       "    </tr>\n",
       "  </tbody>\n",
       "</table>\n",
       "</div>"
      ],
      "text/plain": [
       "   RATING PRODUCT_CATEGORY                                      PRODUCT_TITLE  \\\n",
       "0       4               PC        Targus PAUK10U Ultra Mini USB Keypad, Black   \n",
       "1       4         Wireless  Note 3 Battery : Stalion Strength Replacement ...   \n",
       "3       4  Office Products  Casio MS-80B Standard Function Desktop Calculator   \n",
       "4       4           Beauty  Shine Whitening - Zero Peroxide Teeth Whitenin...   \n",
       "6       4             Toys                          ESPN 2-Piece Table Tennis   \n",
       "\n",
       "                                  REVIEW_TITLE  \\\n",
       "0                                       useful   \n",
       "1                        New era for batteries   \n",
       "3                             Great computing!   \n",
       "4                        Only use twice a week   \n",
       "6  PING PONG TABLE GREAT FOR YOUTHS AND FAMILY   \n",
       "\n",
       "                                         REVIEW_TEXT  SENTIMENT  \\\n",
       "0  When least you think so, this product will sav...          1   \n",
       "1  Lithium batteries are something new introduced...          1   \n",
       "3  I was looking for an inexpensive desk calcolat...          1   \n",
       "4  I only use it twice a week and the results are...          1   \n",
       "6  Pleased with ping pong table. 11 year old and ...          1   \n",
       "\n",
       "                                        ALL_FEATURES  \n",
       "0  Targus PAUK10U Ultra Mini USB Keypad, Black us...  \n",
       "1  Note 3 Battery : Stalion Strength Replacement ...  \n",
       "3  Casio MS-80B Standard Function Desktop Calcula...  \n",
       "4  Shine Whitening - Zero Peroxide Teeth Whitenin...  \n",
       "6  ESPN 2-Piece Table Tennis PING PONG TABLE GREA...  "
      ]
     },
     "execution_count": 30,
     "metadata": {},
     "output_type": "execute_result"
    }
   ],
   "source": [
    "def combined_features(row):\n",
    "    return row['PRODUCT_TITLE'] + ' '+ row['REVIEW_TITLE'] + ' ' + row['REVIEW_TEXT']\n",
    "amazon_reviews['ALL_FEATURES'] = amazon_reviews.apply(combined_features, axis=1)\n",
    "amazon_reviews.head()"
   ]
  },
  {
   "cell_type": "code",
   "execution_count": 31,
   "metadata": {},
   "outputs": [
    {
     "data": {
      "text/html": [
       "<div>\n",
       "<style scoped>\n",
       "    .dataframe tbody tr th:only-of-type {\n",
       "        vertical-align: middle;\n",
       "    }\n",
       "\n",
       "    .dataframe tbody tr th {\n",
       "        vertical-align: top;\n",
       "    }\n",
       "\n",
       "    .dataframe thead th {\n",
       "        text-align: right;\n",
       "    }\n",
       "</style>\n",
       "<table border=\"1\" class=\"dataframe\">\n",
       "  <thead>\n",
       "    <tr style=\"text-align: right;\">\n",
       "      <th></th>\n",
       "      <th>REVIEW_TEXT</th>\n",
       "      <th>RATING</th>\n",
       "      <th>PRODUCT_TITLE</th>\n",
       "      <th>PRODUCT_CATEGORY</th>\n",
       "      <th>REVIEW_TITLE</th>\n",
       "      <th>SENTIMENT</th>\n",
       "      <th>ALL_FEATURES</th>\n",
       "    </tr>\n",
       "  </thead>\n",
       "  <tbody>\n",
       "    <tr>\n",
       "      <th>0</th>\n",
       "      <td>Not nice</td>\n",
       "      <td>1</td>\n",
       "      <td>Solid Men Mandarin Collar White, Blue T-Shirt</td>\n",
       "      <td>Apparel</td>\n",
       "      <td>NA</td>\n",
       "      <td>0</td>\n",
       "      <td>Solid Men Mandarin Collar White, Blue T-Shirt ...</td>\n",
       "    </tr>\n",
       "    <tr>\n",
       "      <th>1</th>\n",
       "      <td>Good quality product</td>\n",
       "      <td>5</td>\n",
       "      <td>Solid Men Mandarin Collar White, Blue T-Shirt</td>\n",
       "      <td>Apparel</td>\n",
       "      <td>NA</td>\n",
       "      <td>1</td>\n",
       "      <td>Solid Men Mandarin Collar White, Blue T-Shirt ...</td>\n",
       "    </tr>\n",
       "    <tr>\n",
       "      <th>2</th>\n",
       "      <td>Nice</td>\n",
       "      <td>5</td>\n",
       "      <td>Solid Men Mandarin Collar White, Blue T-Shirt</td>\n",
       "      <td>Apparel</td>\n",
       "      <td>NA</td>\n",
       "      <td>1</td>\n",
       "      <td>Solid Men Mandarin Collar White, Blue T-Shirt ...</td>\n",
       "    </tr>\n",
       "    <tr>\n",
       "      <th>3</th>\n",
       "      <td>Very bed</td>\n",
       "      <td>1</td>\n",
       "      <td>Solid Men Mandarin Collar White, Blue T-Shirt</td>\n",
       "      <td>Apparel</td>\n",
       "      <td>NA</td>\n",
       "      <td>0</td>\n",
       "      <td>Solid Men Mandarin Collar White, Blue T-Shirt ...</td>\n",
       "    </tr>\n",
       "    <tr>\n",
       "      <th>5</th>\n",
       "      <td>Good product</td>\n",
       "      <td>5</td>\n",
       "      <td>Solid Men Mandarin Collar White, Blue T-Shirt</td>\n",
       "      <td>Apparel</td>\n",
       "      <td>NA</td>\n",
       "      <td>1</td>\n",
       "      <td>Solid Men Mandarin Collar White, Blue T-Shirt ...</td>\n",
       "    </tr>\n",
       "  </tbody>\n",
       "</table>\n",
       "</div>"
      ],
      "text/plain": [
       "            REVIEW_TEXT  RATING  \\\n",
       "0              Not nice       1   \n",
       "1  Good quality product       5   \n",
       "2                  Nice       5   \n",
       "3              Very bed       1   \n",
       "5          Good product       5   \n",
       "\n",
       "                                   PRODUCT_TITLE PRODUCT_CATEGORY  \\\n",
       "0  Solid Men Mandarin Collar White, Blue T-Shirt          Apparel   \n",
       "1  Solid Men Mandarin Collar White, Blue T-Shirt          Apparel   \n",
       "2  Solid Men Mandarin Collar White, Blue T-Shirt          Apparel   \n",
       "3  Solid Men Mandarin Collar White, Blue T-Shirt          Apparel   \n",
       "5  Solid Men Mandarin Collar White, Blue T-Shirt          Apparel   \n",
       "\n",
       "  REVIEW_TITLE  SENTIMENT                                       ALL_FEATURES  \n",
       "0           NA          0  Solid Men Mandarin Collar White, Blue T-Shirt ...  \n",
       "1           NA          1  Solid Men Mandarin Collar White, Blue T-Shirt ...  \n",
       "2           NA          1  Solid Men Mandarin Collar White, Blue T-Shirt ...  \n",
       "3           NA          0  Solid Men Mandarin Collar White, Blue T-Shirt ...  \n",
       "5           NA          1  Solid Men Mandarin Collar White, Blue T-Shirt ...  "
      ]
     },
     "execution_count": 31,
     "metadata": {},
     "output_type": "execute_result"
    }
   ],
   "source": [
    "flipkart_reviews['ALL_FEATURES'] = flipkart_reviews.apply(combined_features, axis=1)\n",
    "flipkart_reviews.head()"
   ]
  },
  {
   "cell_type": "code",
   "execution_count": 32,
   "metadata": {},
   "outputs": [],
   "source": [
    "flipkart_reviews['SOURCE'] = 'Flipkart'"
   ]
  },
  {
   "cell_type": "code",
   "execution_count": 33,
   "metadata": {},
   "outputs": [],
   "source": [
    "amazon_reviews['SOURCE'] = 'Amazon'"
   ]
  },
  {
   "cell_type": "code",
   "execution_count": 34,
   "metadata": {},
   "outputs": [],
   "source": [
    "import nltk\n",
    "from nltk.tokenize.toktok import ToktokTokenizer\n",
    "from nltk.stem import LancasterStemmer,WordNetLemmatizer\n",
    "from nltk.corpus import stopwords\n",
    "from bs4 import BeautifulSoup as bs \n",
    "import re"
   ]
  },
  {
   "cell_type": "code",
   "execution_count": 35,
   "metadata": {},
   "outputs": [],
   "source": [
    "import sklearn"
   ]
  },
  {
   "cell_type": "code",
   "execution_count": 36,
   "metadata": {},
   "outputs": [
    {
     "name": "stderr",
     "output_type": "stream",
     "text": [
      "[nltk_data] Downloading package stopwords to\n",
      "[nltk_data]     C:\\Users\\Nikita\\AppData\\Roaming\\nltk_data...\n",
      "[nltk_data]   Package stopwords is already up-to-date!\n"
     ]
    },
    {
     "data": {
      "text/plain": [
       "True"
      ]
     },
     "execution_count": 36,
     "metadata": {},
     "output_type": "execute_result"
    }
   ],
   "source": [
    "nltk.download('stopwords')"
   ]
  },
  {
   "cell_type": "code",
   "execution_count": 37,
   "metadata": {},
   "outputs": [],
   "source": [
    "#Tokenization of text\n",
    "tokenizer=ToktokTokenizer()\n",
    "#Setting English stopwords\n",
    "stopword_list=nltk.corpus.stopwords.words('english')"
   ]
  },
  {
   "cell_type": "code",
   "execution_count": 38,
   "metadata": {},
   "outputs": [],
   "source": [
    "#Removing the html strips\n",
    "def strip_html(text):\n",
    "    soup = bs(text, \"html.parser\")\n",
    "    return soup.get_text()\n",
    "\n",
    "#Removing the square brackets\n",
    "def remove_between_square_brackets(text):\n",
    "    return re.sub('\\[[^]]*\\]', '', text)\n",
    "\n",
    "#Removing the noisy text\n",
    "def denoise_text(text):\n",
    "    text = strip_html(text)\n",
    "    text = remove_between_square_brackets(text)\n",
    "    return text\n",
    "\n",
    "amazon_reviews['REVIEW_TEXT']=amazon_reviews['REVIEW_TEXT'].apply(denoise_text)"
   ]
  },
  {
   "cell_type": "code",
   "execution_count": 39,
   "metadata": {},
   "outputs": [],
   "source": [
    "def remove_special_characters(text, remove_digits=True):\n",
    "    pattern=r'[^a-zA-z0-9\\s]'\n",
    "    text=re.sub(pattern,'',text)\n",
    "    return text"
   ]
  },
  {
   "cell_type": "code",
   "execution_count": 40,
   "metadata": {},
   "outputs": [],
   "source": [
    "amazon_reviews['REVIEW_TEXT']=amazon_reviews['REVIEW_TEXT'].apply(remove_special_characters)\n",
    "flipkart_reviews['REVIEW_TEXT']=flipkart_reviews['REVIEW_TEXT'].apply(remove_special_characters)"
   ]
  },
  {
   "cell_type": "code",
   "execution_count": 41,
   "metadata": {},
   "outputs": [
    {
     "data": {
      "text/html": [
       "<div>\n",
       "<style scoped>\n",
       "    .dataframe tbody tr th:only-of-type {\n",
       "        vertical-align: middle;\n",
       "    }\n",
       "\n",
       "    .dataframe tbody tr th {\n",
       "        vertical-align: top;\n",
       "    }\n",
       "\n",
       "    .dataframe thead th {\n",
       "        text-align: right;\n",
       "    }\n",
       "</style>\n",
       "<table border=\"1\" class=\"dataframe\">\n",
       "  <thead>\n",
       "    <tr style=\"text-align: right;\">\n",
       "      <th></th>\n",
       "      <th>RATING</th>\n",
       "      <th>PRODUCT_CATEGORY</th>\n",
       "      <th>PRODUCT_TITLE</th>\n",
       "      <th>REVIEW_TITLE</th>\n",
       "      <th>REVIEW_TEXT</th>\n",
       "      <th>SENTIMENT</th>\n",
       "      <th>ALL_FEATURES</th>\n",
       "      <th>SOURCE</th>\n",
       "    </tr>\n",
       "  </thead>\n",
       "  <tbody>\n",
       "    <tr>\n",
       "      <th>0</th>\n",
       "      <td>4</td>\n",
       "      <td>PC</td>\n",
       "      <td>Targus PAUK10U Ultra Mini USB Keypad, Black</td>\n",
       "      <td>useful</td>\n",
       "      <td>When least you think so this product will save...</td>\n",
       "      <td>1</td>\n",
       "      <td>Targus PAUK10U Ultra Mini USB Keypad, Black us...</td>\n",
       "      <td>Amazon</td>\n",
       "    </tr>\n",
       "    <tr>\n",
       "      <th>1</th>\n",
       "      <td>4</td>\n",
       "      <td>Wireless</td>\n",
       "      <td>Note 3 Battery : Stalion Strength Replacement ...</td>\n",
       "      <td>New era for batteries</td>\n",
       "      <td>Lithium batteries are something new introduced...</td>\n",
       "      <td>1</td>\n",
       "      <td>Note 3 Battery : Stalion Strength Replacement ...</td>\n",
       "      <td>Amazon</td>\n",
       "    </tr>\n",
       "    <tr>\n",
       "      <th>3</th>\n",
       "      <td>4</td>\n",
       "      <td>Office Products</td>\n",
       "      <td>Casio MS-80B Standard Function Desktop Calculator</td>\n",
       "      <td>Great computing!</td>\n",
       "      <td>I was looking for an inexpensive desk calcolat...</td>\n",
       "      <td>1</td>\n",
       "      <td>Casio MS-80B Standard Function Desktop Calcula...</td>\n",
       "      <td>Amazon</td>\n",
       "    </tr>\n",
       "    <tr>\n",
       "      <th>4</th>\n",
       "      <td>4</td>\n",
       "      <td>Beauty</td>\n",
       "      <td>Shine Whitening - Zero Peroxide Teeth Whitenin...</td>\n",
       "      <td>Only use twice a week</td>\n",
       "      <td>I only use it twice a week and the results are...</td>\n",
       "      <td>1</td>\n",
       "      <td>Shine Whitening - Zero Peroxide Teeth Whitenin...</td>\n",
       "      <td>Amazon</td>\n",
       "    </tr>\n",
       "    <tr>\n",
       "      <th>6</th>\n",
       "      <td>4</td>\n",
       "      <td>Toys</td>\n",
       "      <td>ESPN 2-Piece Table Tennis</td>\n",
       "      <td>PING PONG TABLE GREAT FOR YOUTHS AND FAMILY</td>\n",
       "      <td>Pleased with ping pong table 11 year old and 1...</td>\n",
       "      <td>1</td>\n",
       "      <td>ESPN 2-Piece Table Tennis PING PONG TABLE GREA...</td>\n",
       "      <td>Amazon</td>\n",
       "    </tr>\n",
       "  </tbody>\n",
       "</table>\n",
       "</div>"
      ],
      "text/plain": [
       "   RATING PRODUCT_CATEGORY                                      PRODUCT_TITLE  \\\n",
       "0       4               PC        Targus PAUK10U Ultra Mini USB Keypad, Black   \n",
       "1       4         Wireless  Note 3 Battery : Stalion Strength Replacement ...   \n",
       "3       4  Office Products  Casio MS-80B Standard Function Desktop Calculator   \n",
       "4       4           Beauty  Shine Whitening - Zero Peroxide Teeth Whitenin...   \n",
       "6       4             Toys                          ESPN 2-Piece Table Tennis   \n",
       "\n",
       "                                  REVIEW_TITLE  \\\n",
       "0                                       useful   \n",
       "1                        New era for batteries   \n",
       "3                             Great computing!   \n",
       "4                        Only use twice a week   \n",
       "6  PING PONG TABLE GREAT FOR YOUTHS AND FAMILY   \n",
       "\n",
       "                                         REVIEW_TEXT  SENTIMENT  \\\n",
       "0  When least you think so this product will save...          1   \n",
       "1  Lithium batteries are something new introduced...          1   \n",
       "3  I was looking for an inexpensive desk calcolat...          1   \n",
       "4  I only use it twice a week and the results are...          1   \n",
       "6  Pleased with ping pong table 11 year old and 1...          1   \n",
       "\n",
       "                                        ALL_FEATURES  SOURCE  \n",
       "0  Targus PAUK10U Ultra Mini USB Keypad, Black us...  Amazon  \n",
       "1  Note 3 Battery : Stalion Strength Replacement ...  Amazon  \n",
       "3  Casio MS-80B Standard Function Desktop Calcula...  Amazon  \n",
       "4  Shine Whitening - Zero Peroxide Teeth Whitenin...  Amazon  \n",
       "6  ESPN 2-Piece Table Tennis PING PONG TABLE GREA...  Amazon  "
      ]
     },
     "execution_count": 41,
     "metadata": {},
     "output_type": "execute_result"
    }
   ],
   "source": [
    "amazon_reviews.head()"
   ]
  },
  {
   "cell_type": "code",
   "execution_count": 42,
   "metadata": {},
   "outputs": [],
   "source": [
    "def simple_stemmer(text):\n",
    "    ps=nltk.porter.PorterStemmer()\n",
    "    text= ' '.join([ps.stem(word) for word in text.split()])\n",
    "    return text"
   ]
  },
  {
   "cell_type": "code",
   "execution_count": 43,
   "metadata": {},
   "outputs": [],
   "source": [
    "amazon_reviews['REVIEW_TEXT']=amazon_reviews['REVIEW_TEXT'].apply(simple_stemmer)\n",
    "flipkart_reviews['REVIEW_TEXT']=flipkart_reviews['REVIEW_TEXT'].apply(simple_stemmer)"
   ]
  },
  {
   "cell_type": "code",
   "execution_count": 44,
   "metadata": {},
   "outputs": [
    {
     "name": "stdout",
     "output_type": "stream",
     "text": [
      "{'both', 'into', 'why', 'same', 'few', \"it's\", 'each', 'y', 'we', 'ain', 'your', 'further', 'its', 'aren', 'she', 'mightn', 'were', \"haven't\", 'from', 'against', 'won', 'having', 'over', \"that'll\", 'yourself', 'more', 'that', 'him', 'll', 'this', 'while', 'then', 'hasn', 'if', 'm', 'the', \"you'd\", 'only', \"didn't\", 'very', 'than', 'have', 'these', 'hadn', \"you're\", 'isn', 'an', 'about', 'shan', 'their', 'you', \"shan't\", 'it', 'in', 'here', 'when', 'through', 'myself', 'shouldn', 'can', 'is', 'ourselves', 'what', 'who', 'because', 'as', 'and', 'themselves', 'ours', \"isn't\", 'wouldn', 'he', 'did', 'd', 'has', 'so', \"don't\", 'our', 'at', 'on', 'didn', \"mightn't\", 'other', 'being', 'mustn', 'o', 'there', 'nor', 'below', 'such', 'those', \"hasn't\", 'too', 'been', 'doesn', 'haven', 'own', 't', 'weren', 'yours', 'herself', 'again', 've', 'not', 'theirs', 'himself', 'yourselves', 'before', \"weren't\", \"hadn't\", 's', 'ma', \"wasn't\", 'will', 'under', 'doing', 'be', 'now', 'me', 'or', \"you'll\", 'no', 'until', 'my', \"aren't\", \"should've\", \"couldn't\", 'should', 'couldn', 'itself', \"shouldn't\", 'some', 'of', 'any', 'don', 'which', 'just', 'wasn', 'i', 'down', 'with', 'a', \"mustn't\", 'had', 'do', 'her', 'during', 'above', 'how', 'needn', 'for', \"won't\", 'where', \"doesn't\", 'they', 'hers', 'whom', 'once', \"you've\", 'are', 'after', 'does', 'am', 'to', 'out', \"needn't\", 'his', 'up', \"she's\", 'by', 'between', 'all', 'was', 'but', 're', 'off', 'most', \"wouldn't\", 'them'}\n"
     ]
    }
   ],
   "source": [
    "stop=set(stopwords.words('english'))\n",
    "print(stop)\n",
    "\n",
    "def remove_stopwords(text, is_lower_case=False):\n",
    "    tokens = tokenizer.tokenize(text)\n",
    "    tokens = [token.strip() for token in tokens]\n",
    "    if is_lower_case:\n",
    "        filtered_tokens = [token for token in tokens if token not in stopword_list]\n",
    "    else:\n",
    "        filtered_tokens = [token for token in tokens if token.lower() not in stopword_list]\n",
    "    filtered_text = ' '.join(filtered_tokens)    \n",
    "    return filtered_text"
   ]
  },
  {
   "cell_type": "code",
   "execution_count": 45,
   "metadata": {},
   "outputs": [],
   "source": [
    "amazon_reviews['REVIEW_TEXT']=amazon_reviews['REVIEW_TEXT'].apply(remove_stopwords)\n",
    "flipkart_reviews['REVIEW_TEXT']=flipkart_reviews['REVIEW_TEXT'].apply(remove_stopwords)"
   ]
  },
  {
   "cell_type": "code",
   "execution_count": 46,
   "metadata": {},
   "outputs": [],
   "source": [
    "amazon_reviews = amazon_reviews[amazon_reviews['PRODUCT_CATEGORY'] == 'Sports']"
   ]
  },
  {
   "cell_type": "code",
   "execution_count": 47,
   "metadata": {},
   "outputs": [],
   "source": [
    "flipkart_reviews = flipkart_reviews[flipkart_reviews['PRODUCT_CATEGORY'] == 'Sports']"
   ]
  },
  {
   "cell_type": "code",
   "execution_count": 48,
   "metadata": {},
   "outputs": [],
   "source": [
    "X_Amazon = amazon_reviews['ALL_FEATURES']\n",
    "y_Amazon = amazon_reviews['SENTIMENT']"
   ]
  },
  {
   "cell_type": "code",
   "execution_count": 49,
   "metadata": {},
   "outputs": [
    {
     "data": {
      "text/plain": [
       "(632,)"
      ]
     },
     "execution_count": 49,
     "metadata": {},
     "output_type": "execute_result"
    }
   ],
   "source": [
    "X_Amazon.shape"
   ]
  },
  {
   "cell_type": "code",
   "execution_count": 50,
   "metadata": {},
   "outputs": [],
   "source": [
    "X_Flipkart = flipkart_reviews['ALL_FEATURES']\n",
    "y_Flipkart = flipkart_reviews['SENTIMENT']"
   ]
  },
  {
   "cell_type": "code",
   "execution_count": 51,
   "metadata": {},
   "outputs": [],
   "source": [
    "from sklearn.model_selection import train_test_split\n",
    "X_train_Amazon, X_test_Amazon, y_train_Amazon, y_test_Amazon = train_test_split(X_Amazon, y_Amazon, random_state=0)\n",
    "X_train_Flipkart, X_test_Flipkart, y_train_Flipkart, y_test_Flipkart = train_test_split(X_Flipkart, y_Flipkart, random_state=0)"
   ]
  },
  {
   "cell_type": "markdown",
   "metadata": {},
   "source": [
    "# Bag of words model"
   ]
  },
  {
   "cell_type": "code",
   "execution_count": 52,
   "metadata": {},
   "outputs": [],
   "source": [
    "from sklearn.feature_extraction.text import CountVectorizer\n",
    "cv = CountVectorizer()\n",
    "ctmTr = cv.fit_transform(X_train_Amazon)\n",
    "X_test_dtm = cv.transform(X_test_Amazon)"
   ]
  },
  {
   "cell_type": "code",
   "execution_count": 53,
   "metadata": {},
   "outputs": [],
   "source": [
    "ctmTr_Flip = cv.fit_transform(X_train_Flipkart)\n",
    "X_test_dtm_Flip = cv.transform(X_test_Flipkart)"
   ]
  },
  {
   "cell_type": "code",
   "execution_count": 54,
   "metadata": {},
   "outputs": [
    {
     "data": {
      "text/plain": [
       "LogisticRegression()"
      ]
     },
     "execution_count": 54,
     "metadata": {},
     "output_type": "execute_result"
    }
   ],
   "source": [
    "from sklearn.linear_model import LogisticRegression\n",
    "from sklearn.metrics import accuracy_score\n",
    "model = LogisticRegression()\n",
    "model.fit(ctmTr, y_train_Amazon)"
   ]
  },
  {
   "cell_type": "code",
   "execution_count": 55,
   "metadata": {},
   "outputs": [
    {
     "data": {
      "text/plain": [
       "LogisticRegression()"
      ]
     },
     "execution_count": 55,
     "metadata": {},
     "output_type": "execute_result"
    }
   ],
   "source": [
    "model_Flip = LogisticRegression()\n",
    "model_Flip.fit(ctmTr_Flip, y_train_Flipkart)"
   ]
  },
  {
   "cell_type": "code",
   "execution_count": 56,
   "metadata": {},
   "outputs": [],
   "source": [
    "y_pred_class = model.predict(X_test_dtm)"
   ]
  },
  {
   "cell_type": "code",
   "execution_count": 57,
   "metadata": {},
   "outputs": [
    {
     "data": {
      "text/plain": [
       "0.8860759493670886"
      ]
     },
     "execution_count": 57,
     "metadata": {},
     "output_type": "execute_result"
    }
   ],
   "source": [
    "accuracy_score(y_test_Amazon, y_pred_class)"
   ]
  },
  {
   "cell_type": "code",
   "execution_count": 58,
   "metadata": {},
   "outputs": [
    {
     "data": {
      "text/plain": [
       "array([1, 1, 1, 1, 1, 1, 1, 1, 1, 1, 1, 1, 1, 1, 1, 1, 1, 1, 1, 1, 1, 1,\n",
       "       1, 1, 1, 1, 1, 1, 1, 1, 1, 1, 1, 1, 1, 1, 1, 1, 1, 1, 1, 1, 1, 1,\n",
       "       1, 1, 1, 1, 1, 1, 1, 1, 1, 1, 1, 1, 1, 1, 1, 1, 1, 1, 1, 1, 1, 0,\n",
       "       1, 0, 1, 1, 1, 1, 1, 1, 1, 1, 1, 1, 1, 0, 1, 1, 1, 1, 1, 1, 1, 1,\n",
       "       1, 1, 1, 1, 1, 1, 1, 1, 1, 1, 1, 1, 1, 1, 1, 1, 1, 1, 1, 1, 1, 1,\n",
       "       1, 1, 1, 1, 1, 1, 1, 1, 0, 1, 1, 1, 1, 1, 1, 1, 1, 1, 1, 1, 1, 1,\n",
       "       1, 1, 1, 1, 1, 1, 1, 0, 0, 1, 1, 1, 1, 1, 1, 1, 1, 1, 1, 1, 1, 1,\n",
       "       1, 1, 1, 1], dtype=int64)"
      ]
     },
     "execution_count": 58,
     "metadata": {},
     "output_type": "execute_result"
    }
   ],
   "source": [
    "y_pred_class"
   ]
  },
  {
   "cell_type": "code",
   "execution_count": 59,
   "metadata": {},
   "outputs": [
    {
     "data": {
      "text/plain": [
       "6653     Trampoline Replacement Safety Net, Fits For 13...\n",
       "17395    Headband Mount No good for real shaped heads.....\n",
       "20196    Cellerciser Portable Tri-Fold plus Balance Bar...\n",
       "5784     COOVY ATHLETE Men's Sports Compression Base La...\n",
       "20265    VIPERTEK VTS-881 - 28,000,000 V Micro Stun Gun...\n",
       "                               ...                        \n",
       "11554    Boyt Harness Counter Pad Can't have enough Boy...\n",
       "4787     Komene Women's Sexy Push up Bikini Set Black S...\n",
       "19340    Spyderco Manix 2 Black G-10 PlainEdge Knife Gr...\n",
       "7829     1000 6mm BB'S POLYBAGGED - WEIGHT .12g (PACKAG...\n",
       "2856     Canvas Wall Striking Bag 3 SECTION Poorly cons...\n",
       "Name: ALL_FEATURES, Length: 158, dtype: object"
      ]
     },
     "execution_count": 59,
     "metadata": {},
     "output_type": "execute_result"
    }
   ],
   "source": [
    "X_test_Amazon"
   ]
  },
  {
   "cell_type": "code",
   "execution_count": 60,
   "metadata": {},
   "outputs": [],
   "source": [
    "y_pred_class_Flip = model_Flip.predict(X_test_dtm_Flip)"
   ]
  },
  {
   "cell_type": "code",
   "execution_count": 61,
   "metadata": {},
   "outputs": [
    {
     "data": {
      "text/plain": [
       "array([1, 1, 1, 0, 1, 1, 1, 1, 1, 1, 1, 1, 1, 1, 0, 1, 1, 1, 0, 1, 0, 0,\n",
       "       1, 0, 1, 1, 0, 0, 1, 1, 1, 1, 1, 0, 1, 1, 1, 0, 1, 1, 0, 1, 1, 0,\n",
       "       1, 1, 0, 0, 1, 1, 1, 1, 1, 1, 1, 1, 1, 1, 0, 1, 1, 1, 1, 0, 1, 1,\n",
       "       1, 1, 1, 1, 1, 0, 1, 1, 1, 1, 1, 0, 1, 1, 1, 1, 1, 1, 1, 1, 0, 0,\n",
       "       1, 1, 1, 0, 1, 1, 1, 0, 1, 1, 1, 0, 0, 1, 1, 1, 0, 1, 0, 0, 1, 1,\n",
       "       0, 0, 1, 0, 1, 1, 1, 0, 1, 1, 1, 1, 1, 0, 1, 1, 1, 0, 1, 1, 1, 1,\n",
       "       1, 1, 1, 1, 1, 1, 0, 1, 0, 1, 1, 0, 1, 0, 1, 1, 0, 0, 1, 1, 1, 1,\n",
       "       1, 0, 1, 1, 1, 1, 1, 1, 1, 1, 0, 1, 1, 1, 1, 1, 1, 1, 1, 1, 1, 1,\n",
       "       1, 1, 1, 1, 1, 0, 0, 0, 1, 0, 1, 1, 0, 1, 1, 1, 1, 1, 0, 1, 1, 1,\n",
       "       0, 1, 0, 0, 1, 1, 1, 1, 1, 1, 1, 0, 1, 1, 0, 1, 1, 1, 1, 1, 1, 1,\n",
       "       1, 1, 1, 1, 1, 1, 0, 1, 1, 1, 0, 1, 1, 1, 1, 1, 1, 1], dtype=int64)"
      ]
     },
     "execution_count": 61,
     "metadata": {},
     "output_type": "execute_result"
    }
   ],
   "source": [
    "y_pred_class_Flip"
   ]
  },
  {
   "cell_type": "code",
   "execution_count": 62,
   "metadata": {},
   "outputs": [
    {
     "data": {
      "text/plain": [
       "0.9831932773109243"
      ]
     },
     "execution_count": 62,
     "metadata": {},
     "output_type": "execute_result"
    }
   ],
   "source": [
    "accuracy_score(y_test_Flipkart, y_pred_class_Flip)"
   ]
  },
  {
   "cell_type": "code",
   "execution_count": null,
   "metadata": {},
   "outputs": [],
   "source": []
  }
 ],
 "metadata": {
  "kernelspec": {
   "display_name": "Python 3",
   "language": "python",
   "name": "python3"
  },
  "language_info": {
   "codemirror_mode": {
    "name": "ipython",
    "version": 3
   },
   "file_extension": ".py",
   "mimetype": "text/x-python",
   "name": "python",
   "nbconvert_exporter": "python",
   "pygments_lexer": "ipython3",
   "version": "3.8.8"
  }
 },
 "nbformat": 4,
 "nbformat_minor": 4
}
